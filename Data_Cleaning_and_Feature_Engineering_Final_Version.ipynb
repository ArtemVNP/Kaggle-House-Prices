{
 "cells": [
  {
   "cell_type": "code",
   "execution_count": 1,
   "metadata": {
    "collapsed": false
   },
   "outputs": [],
   "source": [
    "# pandas\n",
    "import pandas as pd\n",
    "from pandas import Series,DataFrame\n",
    "\n",
    "# numpy, matplotlib, seaborn\n",
    "import numpy as np\n",
    "import matplotlib.pyplot as plt\n",
    "import seaborn as sns\n",
    "sns.set_style('whitegrid')\n",
    "%matplotlib inline\n",
    "\n",
    "from IPython.display import display\n",
    "\n",
    "# remove warnings\n",
    "import warnings\n",
    "warnings.filterwarnings('ignore')"
   ]
  },
  {
   "cell_type": "markdown",
   "metadata": {},
   "source": [
    "# Load and pick Datas"
   ]
  },
  {
   "cell_type": "code",
   "execution_count": 2,
   "metadata": {
    "collapsed": false,
    "scrolled": true
   },
   "outputs": [
    {
     "name": "stdout",
     "output_type": "stream",
     "text": [
      "(1460, 81)\n"
     ]
    },
    {
     "data": {
      "text/html": [
       "<div>\n",
       "<table border=\"1\" class=\"dataframe\">\n",
       "  <thead>\n",
       "    <tr style=\"text-align: right;\">\n",
       "      <th></th>\n",
       "      <th>Id</th>\n",
       "      <th>MSSubClass</th>\n",
       "      <th>MSZoning</th>\n",
       "      <th>LotFrontage</th>\n",
       "      <th>LotArea</th>\n",
       "      <th>Street</th>\n",
       "      <th>Alley</th>\n",
       "      <th>LotShape</th>\n",
       "      <th>LandContour</th>\n",
       "      <th>Utilities</th>\n",
       "      <th>...</th>\n",
       "      <th>PoolArea</th>\n",
       "      <th>PoolQC</th>\n",
       "      <th>Fence</th>\n",
       "      <th>MiscFeature</th>\n",
       "      <th>MiscVal</th>\n",
       "      <th>MoSold</th>\n",
       "      <th>YrSold</th>\n",
       "      <th>SaleType</th>\n",
       "      <th>SaleCondition</th>\n",
       "      <th>SalePrice</th>\n",
       "    </tr>\n",
       "  </thead>\n",
       "  <tbody>\n",
       "    <tr>\n",
       "      <th>0</th>\n",
       "      <td>1</td>\n",
       "      <td>60</td>\n",
       "      <td>RL</td>\n",
       "      <td>65.0</td>\n",
       "      <td>8450</td>\n",
       "      <td>Pave</td>\n",
       "      <td>NaN</td>\n",
       "      <td>Reg</td>\n",
       "      <td>Lvl</td>\n",
       "      <td>AllPub</td>\n",
       "      <td>...</td>\n",
       "      <td>0</td>\n",
       "      <td>NaN</td>\n",
       "      <td>NaN</td>\n",
       "      <td>NaN</td>\n",
       "      <td>0</td>\n",
       "      <td>2</td>\n",
       "      <td>2008</td>\n",
       "      <td>WD</td>\n",
       "      <td>Normal</td>\n",
       "      <td>208500</td>\n",
       "    </tr>\n",
       "  </tbody>\n",
       "</table>\n",
       "<p>1 rows × 81 columns</p>\n",
       "</div>"
      ],
      "text/plain": [
       "   Id  MSSubClass MSZoning  LotFrontage  LotArea Street Alley LotShape  \\\n",
       "0   1          60       RL         65.0     8450   Pave   NaN      Reg   \n",
       "\n",
       "  LandContour Utilities    ...     PoolArea PoolQC Fence MiscFeature MiscVal  \\\n",
       "0         Lvl    AllPub    ...            0    NaN   NaN         NaN       0   \n",
       "\n",
       "  MoSold YrSold  SaleType  SaleCondition  SalePrice  \n",
       "0      2   2008        WD         Normal     208500  \n",
       "\n",
       "[1 rows x 81 columns]"
      ]
     },
     "metadata": {},
     "output_type": "display_data"
    },
    {
     "name": "stdout",
     "output_type": "stream",
     "text": [
      "(1459, 80)\n"
     ]
    },
    {
     "data": {
      "text/html": [
       "<div>\n",
       "<table border=\"1\" class=\"dataframe\">\n",
       "  <thead>\n",
       "    <tr style=\"text-align: right;\">\n",
       "      <th></th>\n",
       "      <th>Id</th>\n",
       "      <th>MSSubClass</th>\n",
       "      <th>MSZoning</th>\n",
       "      <th>LotFrontage</th>\n",
       "      <th>LotArea</th>\n",
       "      <th>Street</th>\n",
       "      <th>Alley</th>\n",
       "      <th>LotShape</th>\n",
       "      <th>LandContour</th>\n",
       "      <th>Utilities</th>\n",
       "      <th>...</th>\n",
       "      <th>ScreenPorch</th>\n",
       "      <th>PoolArea</th>\n",
       "      <th>PoolQC</th>\n",
       "      <th>Fence</th>\n",
       "      <th>MiscFeature</th>\n",
       "      <th>MiscVal</th>\n",
       "      <th>MoSold</th>\n",
       "      <th>YrSold</th>\n",
       "      <th>SaleType</th>\n",
       "      <th>SaleCondition</th>\n",
       "    </tr>\n",
       "  </thead>\n",
       "  <tbody>\n",
       "    <tr>\n",
       "      <th>0</th>\n",
       "      <td>1461</td>\n",
       "      <td>20</td>\n",
       "      <td>RH</td>\n",
       "      <td>80.0</td>\n",
       "      <td>11622</td>\n",
       "      <td>Pave</td>\n",
       "      <td>NaN</td>\n",
       "      <td>Reg</td>\n",
       "      <td>Lvl</td>\n",
       "      <td>AllPub</td>\n",
       "      <td>...</td>\n",
       "      <td>120</td>\n",
       "      <td>0</td>\n",
       "      <td>NaN</td>\n",
       "      <td>MnPrv</td>\n",
       "      <td>NaN</td>\n",
       "      <td>0</td>\n",
       "      <td>6</td>\n",
       "      <td>2010</td>\n",
       "      <td>WD</td>\n",
       "      <td>Normal</td>\n",
       "    </tr>\n",
       "  </tbody>\n",
       "</table>\n",
       "<p>1 rows × 80 columns</p>\n",
       "</div>"
      ],
      "text/plain": [
       "     Id  MSSubClass MSZoning  LotFrontage  LotArea Street Alley LotShape  \\\n",
       "0  1461          20       RH         80.0    11622   Pave   NaN      Reg   \n",
       "\n",
       "  LandContour Utilities      ...       ScreenPorch PoolArea PoolQC  Fence  \\\n",
       "0         Lvl    AllPub      ...               120        0    NaN  MnPrv   \n",
       "\n",
       "  MiscFeature MiscVal MoSold  YrSold  SaleType  SaleCondition  \n",
       "0         NaN       0      6    2010        WD         Normal  \n",
       "\n",
       "[1 rows x 80 columns]"
      ]
     },
     "metadata": {},
     "output_type": "display_data"
    }
   ],
   "source": [
    "train_data = pd.read_csv('data/train.csv')\n",
    "test_data = pd.read_csv('data/test.csv')\n",
    "\n",
    "print train_data.shape\n",
    "display(train_data.head(1))\n",
    "# display(train_data.info())\n",
    "\n",
    "print test_data.shape\n",
    "display(test_data.head(1))\n",
    "# display(test_data.info())"
   ]
  },
  {
   "cell_type": "code",
   "execution_count": 3,
   "metadata": {
    "collapsed": false
   },
   "outputs": [
    {
     "name": "stdout",
     "output_type": "stream",
     "text": [
      "['MSSubClass', 'LotFrontage', 'LotArea', 'OverallQual', 'OverallCond', 'YearBuilt', 'YearRemodAdd', 'MasVnrArea', 'BsmtFinSF1', 'BsmtFinSF2', 'BsmtUnfSF', 'TotalBsmtSF', '1stFlrSF', '2ndFlrSF', 'LowQualFinSF', 'GrLivArea', 'BsmtFullBath', 'BsmtHalfBath', 'FullBath', 'HalfBath', 'BedroomAbvGr', 'KitchenAbvGr', 'TotRmsAbvGrd', 'Fireplaces', 'GarageYrBlt', 'GarageCars', 'GarageArea', 'WoodDeckSF', 'OpenPorchSF', 'EnclosedPorch', '3SsnPorch', 'ScreenPorch', 'PoolArea', 'MiscVal', 'MoSold', 'YrSold']\n"
     ]
    }
   ],
   "source": [
    "previous_num_columns = train_data.select_dtypes(exclude=['object']).columns.values.tolist()\n",
    "previous_num_columns.remove('Id')\n",
    "previous_num_columns.remove('SalePrice')\n",
    "print previous_num_columns"
   ]
  },
  {
   "cell_type": "code",
   "execution_count": 4,
   "metadata": {
    "collapsed": false
   },
   "outputs": [
    {
     "name": "stdout",
     "output_type": "stream",
     "text": [
      "train: (1,)\n",
      "test: (0,)\n"
     ]
    },
    {
     "data": {
      "image/png": "[encoded data removed]",
      "text/plain": [
       "<matplotlib.figure.Figure at 0x7f36de9fb810>"
      ]
     },
     "metadata": {},
     "output_type": "display_data"
    }
   ],
   "source": [
    "test_column = 'MasVnrArea'\n",
    "sns.kdeplot(train_data[test_column])\n",
    "sns.kdeplot(test_data[test_column])\n",
    "\n",
    "print 'train:', train_data[test_column][train_data[test_column] > 1500].shape\n",
    "print 'test:', test_data[test_column][test_data[test_column] > 1500].shape"
   ]
  },
  {
   "cell_type": "markdown",
   "metadata": {},
   "source": [
    "Delete some outlier datas"
   ]
  },
  {
   "cell_type": "code",
   "execution_count": 5,
   "metadata": {
    "collapsed": false
   },
   "outputs": [
    {
     "name": "stdout",
     "output_type": "stream",
     "text": [
      "(1460, 81)\n",
      "(1452, 81)\n"
     ]
    }
   ],
   "source": [
    "print train_data.shape\n",
    "train_data.drop(train_data[train_data[\"LotFrontage\"] > 200].index, inplace=True)\n",
    "train_data.drop(train_data[train_data[\"LotArea\"] > 70000].index, inplace=True)\n",
    "train_data.drop(train_data[train_data[\"MasVnrArea\"] > 1500].index, inplace=True)\n",
    "print train_data.shape\n",
    "\n",
    "train_length = train_data.shape[0]"
   ]
  },
  {
   "cell_type": "markdown",
   "metadata": {},
   "source": [
    "Conbine train and test data"
   ]
  },
  {
   "cell_type": "code",
   "execution_count": 6,
   "metadata": {
    "collapsed": false
   },
   "outputs": [
    {
     "data": {
      "text/html": [
       "<div>\n",
       "<table border=\"1\" class=\"dataframe\">\n",
       "  <thead>\n",
       "    <tr style=\"text-align: right;\">\n",
       "      <th></th>\n",
       "      <th>Id</th>\n",
       "      <th>MSSubClass</th>\n",
       "      <th>MSZoning</th>\n",
       "      <th>LotFrontage</th>\n",
       "      <th>LotArea</th>\n",
       "      <th>Street</th>\n",
       "      <th>Alley</th>\n",
       "      <th>LotShape</th>\n",
       "      <th>LandContour</th>\n",
       "      <th>Utilities</th>\n",
       "      <th>...</th>\n",
       "      <th>ScreenPorch</th>\n",
       "      <th>PoolArea</th>\n",
       "      <th>PoolQC</th>\n",
       "      <th>Fence</th>\n",
       "      <th>MiscFeature</th>\n",
       "      <th>MiscVal</th>\n",
       "      <th>MoSold</th>\n",
       "      <th>YrSold</th>\n",
       "      <th>SaleType</th>\n",
       "      <th>SaleCondition</th>\n",
       "    </tr>\n",
       "  </thead>\n",
       "  <tbody>\n",
       "    <tr>\n",
       "      <th>0</th>\n",
       "      <td>1</td>\n",
       "      <td>60</td>\n",
       "      <td>RL</td>\n",
       "      <td>65.0</td>\n",
       "      <td>8450</td>\n",
       "      <td>Pave</td>\n",
       "      <td>NaN</td>\n",
       "      <td>Reg</td>\n",
       "      <td>Lvl</td>\n",
       "      <td>AllPub</td>\n",
       "      <td>...</td>\n",
       "      <td>0</td>\n",
       "      <td>0</td>\n",
       "      <td>NaN</td>\n",
       "      <td>NaN</td>\n",
       "      <td>NaN</td>\n",
       "      <td>0</td>\n",
       "      <td>2</td>\n",
       "      <td>2008</td>\n",
       "      <td>WD</td>\n",
       "      <td>Normal</td>\n",
       "    </tr>\n",
       "  </tbody>\n",
       "</table>\n",
       "<p>1 rows × 80 columns</p>\n",
       "</div>"
      ],
      "text/plain": [
       "   Id  MSSubClass MSZoning  LotFrontage  LotArea Street Alley LotShape  \\\n",
       "0   1          60       RL         65.0     8450   Pave   NaN      Reg   \n",
       "\n",
       "  LandContour Utilities      ...       ScreenPorch PoolArea PoolQC Fence  \\\n",
       "0         Lvl    AllPub      ...                 0        0    NaN   NaN   \n",
       "\n",
       "  MiscFeature MiscVal MoSold  YrSold  SaleType  SaleCondition  \n",
       "0         NaN       0      2    2008        WD         Normal  \n",
       "\n",
       "[1 rows x 80 columns]"
      ]
     },
     "metadata": {},
     "output_type": "display_data"
    },
    {
     "name": "stdout",
     "output_type": "stream",
     "text": [
      "(2911, 80)\n"
     ]
    }
   ],
   "source": [
    "conbined_data = pd.concat([train_data.loc[:, : 'SalePrice'], test_data])\n",
    "conbined_data = conbined_data[test_data.columns]\n",
    "display(conbined_data.head(1))\n",
    "print conbined_data.shape"
   ]
  },
  {
   "cell_type": "markdown",
   "metadata": {},
   "source": [
    "# Filling up missing values"
   ]
  },
  {
   "cell_type": "code",
   "execution_count": 7,
   "metadata": {
    "collapsed": false
   },
   "outputs": [
    {
     "name": "stdout",
     "output_type": "stream",
     "text": [
      "how many data missed each column of train/test/conbine datas\n"
     ]
    },
    {
     "data": {
      "text/html": [
       "<div>\n",
       "<table border=\"1\" class=\"dataframe\">\n",
       "  <thead>\n",
       "    <tr style=\"text-align: right;\">\n",
       "      <th></th>\n",
       "      <th>MSZoning</th>\n",
       "      <th>LotFrontage</th>\n",
       "      <th>Alley</th>\n",
       "      <th>Utilities</th>\n",
       "      <th>Exterior1st</th>\n",
       "      <th>Exterior2nd</th>\n",
       "      <th>MasVnrType</th>\n",
       "      <th>MasVnrArea</th>\n",
       "      <th>BsmtQual</th>\n",
       "      <th>BsmtCond</th>\n",
       "      <th>...</th>\n",
       "      <th>GarageYrBlt</th>\n",
       "      <th>GarageFinish</th>\n",
       "      <th>GarageCars</th>\n",
       "      <th>GarageArea</th>\n",
       "      <th>GarageQual</th>\n",
       "      <th>GarageCond</th>\n",
       "      <th>PoolQC</th>\n",
       "      <th>Fence</th>\n",
       "      <th>MiscFeature</th>\n",
       "      <th>SaleType</th>\n",
       "    </tr>\n",
       "  </thead>\n",
       "  <tbody>\n",
       "    <tr>\n",
       "      <th>train</th>\n",
       "      <td>0</td>\n",
       "      <td>256</td>\n",
       "      <td>1362</td>\n",
       "      <td>0</td>\n",
       "      <td>0</td>\n",
       "      <td>0</td>\n",
       "      <td>8</td>\n",
       "      <td>8</td>\n",
       "      <td>37</td>\n",
       "      <td>37</td>\n",
       "      <td>...</td>\n",
       "      <td>81</td>\n",
       "      <td>81</td>\n",
       "      <td>0</td>\n",
       "      <td>0</td>\n",
       "      <td>81</td>\n",
       "      <td>81</td>\n",
       "      <td>1446</td>\n",
       "      <td>1171</td>\n",
       "      <td>1400</td>\n",
       "      <td>0</td>\n",
       "    </tr>\n",
       "    <tr>\n",
       "      <th>test</th>\n",
       "      <td>4</td>\n",
       "      <td>227</td>\n",
       "      <td>1352</td>\n",
       "      <td>2</td>\n",
       "      <td>1</td>\n",
       "      <td>1</td>\n",
       "      <td>16</td>\n",
       "      <td>15</td>\n",
       "      <td>44</td>\n",
       "      <td>45</td>\n",
       "      <td>...</td>\n",
       "      <td>78</td>\n",
       "      <td>78</td>\n",
       "      <td>1</td>\n",
       "      <td>1</td>\n",
       "      <td>78</td>\n",
       "      <td>78</td>\n",
       "      <td>1456</td>\n",
       "      <td>1169</td>\n",
       "      <td>1408</td>\n",
       "      <td>1</td>\n",
       "    </tr>\n",
       "    <tr>\n",
       "      <th>conbine</th>\n",
       "      <td>4</td>\n",
       "      <td>483</td>\n",
       "      <td>2714</td>\n",
       "      <td>2</td>\n",
       "      <td>1</td>\n",
       "      <td>1</td>\n",
       "      <td>24</td>\n",
       "      <td>23</td>\n",
       "      <td>81</td>\n",
       "      <td>82</td>\n",
       "      <td>...</td>\n",
       "      <td>159</td>\n",
       "      <td>159</td>\n",
       "      <td>1</td>\n",
       "      <td>1</td>\n",
       "      <td>159</td>\n",
       "      <td>159</td>\n",
       "      <td>2902</td>\n",
       "      <td>2340</td>\n",
       "      <td>2808</td>\n",
       "      <td>1</td>\n",
       "    </tr>\n",
       "  </tbody>\n",
       "</table>\n",
       "<p>3 rows × 34 columns</p>\n",
       "</div>"
      ],
      "text/plain": [
       "         MSZoning  LotFrontage  Alley  Utilities  Exterior1st  Exterior2nd  \\\n",
       "train           0          256   1362          0            0            0   \n",
       "test            4          227   1352          2            1            1   \n",
       "conbine         4          483   2714          2            1            1   \n",
       "\n",
       "         MasVnrType  MasVnrArea  BsmtQual  BsmtCond    ...     GarageYrBlt  \\\n",
       "train             8           8        37        37    ...              81   \n",
       "test             16          15        44        45    ...              78   \n",
       "conbine          24          23        81        82    ...             159   \n",
       "\n",
       "         GarageFinish  GarageCars  GarageArea  GarageQual  GarageCond  PoolQC  \\\n",
       "train              81           0           0          81          81    1446   \n",
       "test               78           1           1          78          78    1456   \n",
       "conbine           159           1           1         159         159    2902   \n",
       "\n",
       "         Fence  MiscFeature  SaleType  \n",
       "train     1171         1400         0  \n",
       "test      1169         1408         1  \n",
       "conbine   2340         2808         1  \n",
       "\n",
       "[3 rows x 34 columns]"
      ]
     },
     "execution_count": 7,
     "metadata": {},
     "output_type": "execute_result"
    }
   ],
   "source": [
    "# miss data columns\n",
    "has_null_columns = conbined_data.columns[conbined_data.isnull().any()].tolist()\n",
    "# how many data missed each column of train/test/conbine datas\n",
    "train_null = train_data[has_null_columns].isnull().sum()\n",
    "test_null = test_data[has_null_columns].isnull().sum()\n",
    "conbined_null = conbined_data[has_null_columns].isnull().sum()\n",
    "\n",
    "print 'how many data missed each column of train/test/conbine datas'\n",
    "missed_data = pd.DataFrame(data=[train_null, test_null, conbined_null],\n",
    "                             index=['train', 'test', 'conbine'], \n",
    "                             columns=has_null_columns)\n",
    "missed_data"
   ]
  },
  {
   "cell_type": "code",
   "execution_count": 8,
   "metadata": {
    "collapsed": true
   },
   "outputs": [],
   "source": [
    "def fill_missing_conbined_data(column, value):\n",
    "    conbined_data.loc[conbined_data[column].isnull(),column] = value"
   ]
  },
  {
   "cell_type": "markdown",
   "metadata": {},
   "source": [
    "** LotFrontage/LotArea **"
   ]
  },
  {
   "cell_type": "code",
   "execution_count": 9,
   "metadata": {
    "collapsed": false
   },
   "outputs": [
    {
     "data": {
      "text/plain": [
       "<matplotlib.axes.AxesSubplot at 0x7f3679d4f4d0>"
      ]
     },
     "execution_count": 9,
     "metadata": {},
     "output_type": "execute_result"
    },
    {
     "data": {
      "image/png": "[encoded data removed]",
      "text/plain": [
       "<matplotlib.figure.Figure at 0x7f3679d4f450>"
      ]
     },
     "metadata": {},
     "output_type": "display_data"
    }
   ],
   "source": [
    "conbined_data['LotFrontage'].groupby(conbined_data[\"Neighborhood\"]).median().plot()\n",
    "conbined_data['LotFrontage'].groupby(conbined_data[\"Neighborhood\"]).mean().plot()"
   ]
  },
  {
   "cell_type": "code",
   "execution_count": 10,
   "metadata": {
    "collapsed": false,
    "scrolled": true
   },
   "outputs": [],
   "source": [
    "lf_neighbor_map = conbined_data['LotFrontage'].groupby(conbined_data[\"Neighborhood\"]).median()\n",
    "    \n",
    "rows = conbined_data['LotFrontage'].isnull()\n",
    "conbined_data['LotFrontage'][rows] = conbined_data['Neighborhood'][rows].map(lambda neighbor : lf_neighbor_map[neighbor])"
   ]
  },
  {
   "cell_type": "code",
   "execution_count": 11,
   "metadata": {
    "collapsed": false
   },
   "outputs": [
    {
     "data": {
      "text/html": [
       "<div>\n",
       "<table border=\"1\" class=\"dataframe\">\n",
       "  <thead>\n",
       "    <tr style=\"text-align: right;\">\n",
       "      <th></th>\n",
       "      <th>Id</th>\n",
       "      <th>MSSubClass</th>\n",
       "      <th>MSZoning</th>\n",
       "      <th>LotFrontage</th>\n",
       "      <th>LotArea</th>\n",
       "      <th>Street</th>\n",
       "      <th>Alley</th>\n",
       "      <th>LotShape</th>\n",
       "      <th>LandContour</th>\n",
       "      <th>Utilities</th>\n",
       "      <th>...</th>\n",
       "      <th>ScreenPorch</th>\n",
       "      <th>PoolArea</th>\n",
       "      <th>PoolQC</th>\n",
       "      <th>Fence</th>\n",
       "      <th>MiscFeature</th>\n",
       "      <th>MiscVal</th>\n",
       "      <th>MoSold</th>\n",
       "      <th>YrSold</th>\n",
       "      <th>SaleType</th>\n",
       "      <th>SaleCondition</th>\n",
       "    </tr>\n",
       "  </thead>\n",
       "  <tbody>\n",
       "  </tbody>\n",
       "</table>\n",
       "<p>0 rows × 80 columns</p>\n",
       "</div>"
      ],
      "text/plain": [
       "Empty DataFrame\n",
       "Columns: [Id, MSSubClass, MSZoning, LotFrontage, LotArea, Street, Alley, LotShape, LandContour, Utilities, LotConfig, LandSlope, Neighborhood, Condition1, Condition2, BldgType, HouseStyle, OverallQual, OverallCond, YearBuilt, YearRemodAdd, RoofStyle, RoofMatl, Exterior1st, Exterior2nd, MasVnrType, MasVnrArea, ExterQual, ExterCond, Foundation, BsmtQual, BsmtCond, BsmtExposure, BsmtFinType1, BsmtFinSF1, BsmtFinType2, BsmtFinSF2, BsmtUnfSF, TotalBsmtSF, Heating, HeatingQC, CentralAir, Electrical, 1stFlrSF, 2ndFlrSF, LowQualFinSF, GrLivArea, BsmtFullBath, BsmtHalfBath, FullBath, HalfBath, BedroomAbvGr, KitchenAbvGr, KitchenQual, TotRmsAbvGrd, Functional, Fireplaces, FireplaceQu, GarageType, GarageYrBlt, GarageFinish, GarageCars, GarageArea, GarageQual, GarageCond, PavedDrive, WoodDeckSF, OpenPorchSF, EnclosedPorch, 3SsnPorch, ScreenPorch, PoolArea, PoolQC, Fence, MiscFeature, MiscVal, MoSold, YrSold, SaleType, SaleCondition]\n",
       "Index: []\n",
       "\n",
       "[0 rows x 80 columns]"
      ]
     },
     "execution_count": 11,
     "metadata": {},
     "output_type": "execute_result"
    }
   ],
   "source": [
    "conbined_data[conbined_data['LotFrontage'].isnull()]"
   ]
  },
  {
   "cell_type": "markdown",
   "metadata": {},
   "source": [
    "** Alley **"
   ]
  },
  {
   "cell_type": "code",
   "execution_count": 12,
   "metadata": {
    "collapsed": false,
    "scrolled": true
   },
   "outputs": [
    {
     "data": {
      "text/plain": [
       "((2911, 80), (2714, 80))"
      ]
     },
     "execution_count": 12,
     "metadata": {},
     "output_type": "execute_result"
    }
   ],
   "source": [
    "conbined_data.shape, conbined_data[conbined_data['Alley'].isnull()].shape"
   ]
  },
  {
   "cell_type": "code",
   "execution_count": 13,
   "metadata": {
    "collapsed": false
   },
   "outputs": [],
   "source": [
    "fill_missing_conbined_data('Alley', 'NA')"
   ]
  },
  {
   "cell_type": "markdown",
   "metadata": {},
   "source": [
    "** MasVnrType / MasVnrArea **"
   ]
  },
  {
   "cell_type": "code",
   "execution_count": 14,
   "metadata": {
    "collapsed": false
   },
   "outputs": [],
   "source": [
    "conbined_data['MasVnrType'].fillna('None', inplace=True)\n",
    "conbined_data['MasVnrArea'].fillna(0, inplace=True)"
   ]
  },
  {
   "cell_type": "markdown",
   "metadata": {},
   "source": [
    "** BsmtQual / BsmtCond / BsmtExposure / BsmtFinType1 / BsmtFinType2 **"
   ]
  },
  {
   "cell_type": "code",
   "execution_count": 15,
   "metadata": {
    "collapsed": false
   },
   "outputs": [],
   "source": [
    "basement_cols=['BsmtQual','BsmtCond','BsmtExposure','BsmtFinType1','BsmtFinType2','BsmtFinSF1','BsmtFinSF2']"
   ]
  },
  {
   "cell_type": "code",
   "execution_count": 16,
   "metadata": {
    "collapsed": false
   },
   "outputs": [],
   "source": [
    "# NA:No Basement\n",
    "for column in basement_cols:\n",
    "    if 'FinSF'not in column:\n",
    "        # NA\tNo Basement\n",
    "        fill_missing_conbined_data(column, 'NA')"
   ]
  },
  {
   "cell_type": "code",
   "execution_count": 17,
   "metadata": {
    "collapsed": false
   },
   "outputs": [],
   "source": [
    "fill_missing_conbined_data('BsmtFinSF1', 0)\n",
    "fill_missing_conbined_data('BsmtFinSF2', 0)"
   ]
  },
  {
   "cell_type": "markdown",
   "metadata": {},
   "source": [
    "** Electrical **"
   ]
  },
  {
   "cell_type": "code",
   "execution_count": 18,
   "metadata": {
    "collapsed": false
   },
   "outputs": [
    {
     "data": {
      "text/plain": [
       "<matplotlib.axes.AxesSubplot at 0x7f3679ebf050>"
      ]
     },
     "execution_count": 18,
     "metadata": {},
     "output_type": "execute_result"
    },
    {
     "data": {
      "image/png": "[encoded data removed]",
      "text/plain": [
       "<matplotlib.figure.Figure at 0x7f3679e15990>"
      ]
     },
     "metadata": {},
     "output_type": "display_data"
    }
   ],
   "source": [
    "sns.countplot(conbined_data['Electrical'])"
   ]
  },
  {
   "cell_type": "code",
   "execution_count": 19,
   "metadata": {
    "collapsed": true
   },
   "outputs": [],
   "source": [
    "fill_missing_conbined_data('Electrical', 'SBrkr')"
   ]
  },
  {
   "cell_type": "markdown",
   "metadata": {},
   "source": [
    "** FireplaceQu **"
   ]
  },
  {
   "cell_type": "code",
   "execution_count": 20,
   "metadata": {
    "collapsed": false
   },
   "outputs": [],
   "source": [
    "# 对于 Fireplaces 为 0 的，FireplaceQu 设置为 NA，表示 No Fireplace，此即缺失的 1420 条数据的情况\n",
    "fill_missing_conbined_data('FireplaceQu', 'NA')"
   ]
  },
  {
   "cell_type": "markdown",
   "metadata": {},
   "source": [
    "** PoolQC **"
   ]
  },
  {
   "cell_type": "code",
   "execution_count": 21,
   "metadata": {
    "collapsed": false
   },
   "outputs": [],
   "source": [
    "fill_missing_conbined_data('PoolQC', 'NA')"
   ]
  },
  {
   "cell_type": "markdown",
   "metadata": {},
   "source": [
    "** MiscFeature **"
   ]
  },
  {
   "cell_type": "code",
   "execution_count": 22,
   "metadata": {
    "collapsed": true
   },
   "outputs": [],
   "source": [
    "fill_missing_conbined_data('MiscFeature', 'NA')"
   ]
  },
  {
   "cell_type": "markdown",
   "metadata": {},
   "source": [
    "** Fence **"
   ]
  },
  {
   "cell_type": "code",
   "execution_count": 23,
   "metadata": {
    "collapsed": false
   },
   "outputs": [],
   "source": [
    "fill_missing_conbined_data('Fence', 'NA')"
   ]
  },
  {
   "cell_type": "markdown",
   "metadata": {},
   "source": [
    "** Garages **"
   ]
  },
  {
   "cell_type": "code",
   "execution_count": 24,
   "metadata": {
    "collapsed": false
   },
   "outputs": [
    {
     "data": {
      "text/html": [
       "<div>\n",
       "<table border=\"1\" class=\"dataframe\">\n",
       "  <thead>\n",
       "    <tr style=\"text-align: right;\">\n",
       "      <th></th>\n",
       "      <th>GarageType</th>\n",
       "      <th>GarageQual</th>\n",
       "      <th>GarageCond</th>\n",
       "      <th>GarageYrBlt</th>\n",
       "      <th>GarageFinish</th>\n",
       "      <th>GarageCars</th>\n",
       "      <th>GarageArea</th>\n",
       "    </tr>\n",
       "  </thead>\n",
       "  <tbody>\n",
       "    <tr>\n",
       "      <th>39</th>\n",
       "      <td>NaN</td>\n",
       "      <td>NaN</td>\n",
       "      <td>NaN</td>\n",
       "      <td>NaN</td>\n",
       "      <td>NaN</td>\n",
       "      <td>0.0</td>\n",
       "      <td>0.0</td>\n",
       "    </tr>\n",
       "  </tbody>\n",
       "</table>\n",
       "</div>"
      ],
      "text/plain": [
       "   GarageType GarageQual GarageCond  GarageYrBlt GarageFinish  GarageCars  \\\n",
       "39        NaN        NaN        NaN          NaN          NaN         0.0   \n",
       "\n",
       "    GarageArea  \n",
       "39         0.0  "
      ]
     },
     "execution_count": 24,
     "metadata": {},
     "output_type": "execute_result"
    }
   ],
   "source": [
    "garage_cols=['GarageType','GarageQual','GarageCond','GarageYrBlt','GarageFinish','GarageCars','GarageArea']\n",
    "conbined_data[garage_cols][conbined_data['GarageType'].isnull()==True].head(1)"
   ]
  },
  {
   "cell_type": "code",
   "execution_count": 25,
   "metadata": {
    "collapsed": true
   },
   "outputs": [],
   "source": [
    "# NA : No Garage\n",
    "for column in garage_cols:\n",
    "    if column != 'GarageCars' and column != 'GarageArea':\n",
    "        # NA\tNo Basement\n",
    "        fill_missing_conbined_data(column, 'NA')\n",
    "    else:\n",
    "        fill_missing_conbined_data(column, 0)"
   ]
  },
  {
   "cell_type": "markdown",
   "metadata": {},
   "source": [
    "** MSZoning **"
   ]
  },
  {
   "cell_type": "code",
   "execution_count": 26,
   "metadata": {
    "collapsed": false
   },
   "outputs": [
    {
     "data": {
      "text/plain": [
       "<matplotlib.axes.AxesSubplot at 0x7f3679d4fdd0>"
      ]
     },
     "execution_count": 26,
     "metadata": {},
     "output_type": "execute_result"
    },
    {
     "data": {
      "image/png": "[encoded data removed]",
      "text/plain": [
       "<matplotlib.figure.Figure at 0x7f3679e33910>"
      ]
     },
     "metadata": {},
     "output_type": "display_data"
    }
   ],
   "source": [
    "sns.countplot(conbined_data['MSZoning'])"
   ]
  },
  {
   "cell_type": "code",
   "execution_count": 27,
   "metadata": {
    "collapsed": true
   },
   "outputs": [],
   "source": [
    "fill_missing_conbined_data('MSZoning', 'RL')"
   ]
  },
  {
   "cell_type": "markdown",
   "metadata": {},
   "source": [
    "** Utilities **\n",
    "\n",
    "**Definitely ignoring Utilities** : all records are \"AllPub\", except for one \"NoSeWa\" in the train set and 2 NA in the test set."
   ]
  },
  {
   "cell_type": "code",
   "execution_count": 28,
   "metadata": {
    "collapsed": false
   },
   "outputs": [
    {
     "data": {
      "text/plain": [
       "<matplotlib.axes.AxesSubplot at 0x7f3679c6dc10>"
      ]
     },
     "execution_count": 28,
     "metadata": {},
     "output_type": "execute_result"
    },
    {
     "data": {
      "image/png": "[encoded data removed]",
      "text/plain": [
       "<matplotlib.figure.Figure at 0x7f367fba18d0>"
      ]
     },
     "metadata": {},
     "output_type": "display_data"
    }
   ],
   "source": [
    "sns.countplot(conbined_data['Utilities'])"
   ]
  },
  {
   "cell_type": "code",
   "execution_count": 29,
   "metadata": {
    "collapsed": true
   },
   "outputs": [],
   "source": [
    "fill_missing_conbined_data('Utilities', 'AllPub')"
   ]
  },
  {
   "cell_type": "markdown",
   "metadata": {},
   "source": [
    "** Exterior1st / Exterior2nd**"
   ]
  },
  {
   "cell_type": "code",
   "execution_count": 30,
   "metadata": {
    "collapsed": false
   },
   "outputs": [
    {
     "data": {
      "text/plain": [
       "<matplotlib.axes.AxesSubplot at 0x7f3679a62d50>"
      ]
     },
     "execution_count": 30,
     "metadata": {},
     "output_type": "execute_result"
    },
    {
     "data": {
      "image/png": "[encoded data removed]",
      "text/plain": [
       "<matplotlib.figure.Figure at 0x7f3679ce9290>"
      ]
     },
     "metadata": {},
     "output_type": "display_data"
    }
   ],
   "source": [
    "sns.countplot(conbined_data['Exterior1st'])"
   ]
  },
  {
   "cell_type": "code",
   "execution_count": 31,
   "metadata": {
    "collapsed": true
   },
   "outputs": [],
   "source": [
    "fill_missing_conbined_data('Exterior1st', 'VinylSd')"
   ]
  },
  {
   "cell_type": "code",
   "execution_count": 32,
   "metadata": {
    "collapsed": false
   },
   "outputs": [
    {
     "data": {
      "text/plain": [
       "<matplotlib.axes.AxesSubplot at 0x7f3679a1bd10>"
      ]
     },
     "execution_count": 32,
     "metadata": {},
     "output_type": "execute_result"
    },
    {
     "data": {
      "image/png": "[encoded data removed]",
      "text/plain": [
       "<matplotlib.figure.Figure at 0x7f3679956ed0>"
      ]
     },
     "metadata": {},
     "output_type": "display_data"
    }
   ],
   "source": [
    "sns.countplot(conbined_data['Exterior2nd'])"
   ]
  },
  {
   "cell_type": "code",
   "execution_count": 33,
   "metadata": {
    "collapsed": true
   },
   "outputs": [],
   "source": [
    "fill_missing_conbined_data('Exterior2nd', 'VinylSd')"
   ]
  },
  {
   "cell_type": "markdown",
   "metadata": {},
   "source": [
    "** BsmtUnfSF / TotalBsmtSF **"
   ]
  },
  {
   "cell_type": "code",
   "execution_count": 34,
   "metadata": {
    "collapsed": true
   },
   "outputs": [],
   "source": [
    "# 可以发现，对于缺失的 TotalBsmtSF 和 BsmtUnfSF 填充为0\n",
    "fill_missing_conbined_data('BsmtUnfSF', 0)\n",
    "fill_missing_conbined_data('TotalBsmtSF', 0)"
   ]
  },
  {
   "cell_type": "markdown",
   "metadata": {},
   "source": [
    "** BsmtFullBath / BsmtHalfBath **"
   ]
  },
  {
   "cell_type": "code",
   "execution_count": 35,
   "metadata": {
    "collapsed": false
   },
   "outputs": [],
   "source": [
    "fill_missing_conbined_data('BsmtFullBath', 0)\n",
    "fill_missing_conbined_data('BsmtHalfBath', 0)"
   ]
  },
  {
   "cell_type": "markdown",
   "metadata": {},
   "source": [
    "** KitchenQual **"
   ]
  },
  {
   "cell_type": "code",
   "execution_count": 36,
   "metadata": {
    "collapsed": false
   },
   "outputs": [
    {
     "data": {
      "text/plain": [
       "<matplotlib.axes.AxesSubplot at 0x7f3679a93050>"
      ]
     },
     "execution_count": 36,
     "metadata": {},
     "output_type": "execute_result"
    },
    {
     "data": {
      "image/png": "[encoded data removed]",
      "text/plain": [
       "<matplotlib.figure.Figure at 0x7f3679d4fcd0>"
      ]
     },
     "metadata": {},
     "output_type": "display_data"
    }
   ],
   "source": [
    "sns.countplot(conbined_data['KitchenQual'])"
   ]
  },
  {
   "cell_type": "code",
   "execution_count": 37,
   "metadata": {
    "collapsed": true
   },
   "outputs": [],
   "source": [
    "fill_missing_conbined_data('KitchenQual', 'TA')"
   ]
  },
  {
   "cell_type": "markdown",
   "metadata": {},
   "source": [
    "** SaleType / Functional **"
   ]
  },
  {
   "cell_type": "code",
   "execution_count": 38,
   "metadata": {
    "collapsed": false
   },
   "outputs": [
    {
     "data": {
      "text/plain": [
       "<matplotlib.axes.AxesSubplot at 0x7f36ba4974d0>"
      ]
     },
     "execution_count": 38,
     "metadata": {},
     "output_type": "execute_result"
    },
    {
     "data": {
      "image/png": "[encoded data removed]",
      "text/plain": [
       "<matplotlib.figure.Figure at 0x7f3679a56510>"
      ]
     },
     "metadata": {},
     "output_type": "display_data"
    }
   ],
   "source": [
    "sns.countplot(conbined_data['Functional'])"
   ]
  },
  {
   "cell_type": "code",
   "execution_count": 39,
   "metadata": {
    "collapsed": true
   },
   "outputs": [],
   "source": [
    "fill_missing_conbined_data('SaleType', 'WD')\n",
    "fill_missing_conbined_data('Functional', 'Typ')"
   ]
  },
  {
   "cell_type": "code",
   "execution_count": 40,
   "metadata": {
    "collapsed": false
   },
   "outputs": [
    {
     "data": {
      "text/plain": [
       "Series([], dtype: float64)"
      ]
     },
     "execution_count": 40,
     "metadata": {},
     "output_type": "execute_result"
    }
   ],
   "source": [
    "has_null_columns = conbined_data.columns[conbined_data.isnull().any()].tolist()\n",
    "conbined_data[has_null_columns].isnull().sum()"
   ]
  },
  {
   "cell_type": "markdown",
   "metadata": {
    "collapsed": true
   },
   "source": [
    "# Feature Engineering"
   ]
  },
  {
   "cell_type": "markdown",
   "metadata": {},
   "source": [
    "** Time properties（YearBuilt、GarageYrBlt）**"
   ]
  },
  {
   "cell_type": "code",
   "execution_count": 41,
   "metadata": {
    "collapsed": false
   },
   "outputs": [],
   "source": [
    "built_year_data = conbined_data[['YearBuilt', 'GarageYrBlt']][conbined_data['GarageYrBlt'] != 'NA']"
   ]
  },
  {
   "cell_type": "code",
   "execution_count": 42,
   "metadata": {
    "collapsed": false
   },
   "outputs": [
    {
     "data": {
      "text/plain": [
       "0.8346885266143993"
      ]
     },
     "execution_count": 42,
     "metadata": {},
     "output_type": "execute_result"
    }
   ],
   "source": [
    "built_year_data['GarageYrBlt'] = built_year_data['GarageYrBlt'].map(lambda g : int(g))\n",
    "built_year_data['GarageYrBlt'].corr(built_year_data['YearBuilt'])"
   ]
  },
  {
   "cell_type": "code",
   "execution_count": 43,
   "metadata": {
    "collapsed": false
   },
   "outputs": [
    {
     "data": {
      "text/html": [
       "<div>\n",
       "<table border=\"1\" class=\"dataframe\">\n",
       "  <thead>\n",
       "    <tr style=\"text-align: right;\">\n",
       "      <th></th>\n",
       "      <th>YearBuilt</th>\n",
       "      <th>GarageYrBlt</th>\n",
       "    </tr>\n",
       "  </thead>\n",
       "  <tbody>\n",
       "    <tr>\n",
       "      <th>0</th>\n",
       "      <td>2003</td>\n",
       "      <td>2003</td>\n",
       "    </tr>\n",
       "  </tbody>\n",
       "</table>\n",
       "</div>"
      ],
      "text/plain": [
       "   YearBuilt  GarageYrBlt\n",
       "0       2003         2003"
      ]
     },
     "execution_count": 43,
     "metadata": {},
     "output_type": "execute_result"
    }
   ],
   "source": [
    "built_year_data.head(1)"
   ]
  },
  {
   "cell_type": "code",
   "execution_count": 44,
   "metadata": {
    "collapsed": false
   },
   "outputs": [
    {
     "data": {
      "text/plain": [
       "[<matplotlib.lines.Line2D at 0x7f36ba497390>]"
      ]
     },
     "execution_count": 44,
     "metadata": {},
     "output_type": "execute_result"
    },
    {
     "data": {
      "image/png": "[encoded data removed]",
      "text/plain": [
       "<matplotlib.figure.Figure at 0x7f3679644f50>"
      ]
     },
     "metadata": {},
     "output_type": "display_data"
    }
   ],
   "source": [
    "from sklearn.linear_model import LinearRegression\n",
    "regr = LinearRegression()\n",
    "garage_year = built_year_data.loc[:,'GarageYrBlt'].values\n",
    "built_year = built_year_data.loc[:,'YearBuilt'].values\n",
    "\n",
    "length = garage_year.shape[0]\n",
    "garage_year = garage_year.reshape(length, 1)\n",
    "built_year = built_year.reshape(length, 1)\n",
    "\n",
    "# Train the model using the training sets\n",
    "regr.fit(built_year, garage_year)\n",
    "plt.scatter(built_year, garage_year,  color='blue')\n",
    "plt.plot(built_year, regr.predict(built_year), color='red',\n",
    "         linewidth=3)"
   ]
  },
  {
   "cell_type": "code",
   "execution_count": 45,
   "metadata": {
    "collapsed": false
   },
   "outputs": [],
   "source": [
    "conbined_data['GarageYrBlt'] = conbined_data.apply(lambda row : int(regr.predict(row['YearBuilt']))\n",
    "                                                      if row['GarageYrBlt'] == 'NA' else int(row['GarageYrBlt']),\n",
    "                                                       axis=1)"
   ]
  },
  {
   "cell_type": "code",
   "execution_count": 46,
   "metadata": {
    "collapsed": false
   },
   "outputs": [
    {
     "data": {
      "text/plain": [
       "0    2003\n",
       "1    1976\n",
       "2    2001\n",
       "3    1998\n",
       "4    2000\n",
       "Name: GarageYrBlt, dtype: int64"
      ]
     },
     "execution_count": 46,
     "metadata": {},
     "output_type": "execute_result"
    }
   ],
   "source": [
    "conbined_data['GarageYrBlt'].head()"
   ]
  },
  {
   "cell_type": "markdown",
   "metadata": {},
   "source": [
    "Using `YearBuilt` `YearRemodAdd` to check if has remoded or not."
   ]
  },
  {
   "cell_type": "code",
   "execution_count": 47,
   "metadata": {
    "collapsed": true
   },
   "outputs": [],
   "source": [
    "# How many years has remoded from built\n",
    "conbined_data['RemodYears'] = conbined_data['YearRemodAdd'] - conbined_data['YearBuilt']\n",
    "# Did a remodeling happened from built?\n",
    "conbined_data[\"HasRemodeled\"] = (conbined_data[\"YearRemodAdd\"] != conbined_data[\"YearBuilt\"]) * 1\n",
    "# Did a remodeling happen in the year the house was sold?\n",
    "conbined_data[\"HasRecentRemodel\"] = (conbined_data[\"YearRemodAdd\"] == conbined_data[\"YrSold\"]) * 1"
   ]
  },
  {
   "cell_type": "code",
   "execution_count": 48,
   "metadata": {
    "collapsed": true
   },
   "outputs": [],
   "source": [
    "conbined_data['GarageBltYears'] = conbined_data['GarageYrBlt'] - conbined_data['YearBuilt']"
   ]
  },
  {
   "cell_type": "code",
   "execution_count": 49,
   "metadata": {
    "collapsed": false
   },
   "outputs": [
    {
     "data": {
      "text/plain": [
       "0     0\n",
       "1     0\n",
       "2     0\n",
       "3    83\n",
       "4     0\n",
       "Name: GarageBltYears, dtype: int64"
      ]
     },
     "execution_count": 49,
     "metadata": {},
     "output_type": "execute_result"
    }
   ],
   "source": [
    "conbined_data['GarageBltYears'].head()"
   ]
  },
  {
   "cell_type": "code",
   "execution_count": 50,
   "metadata": {
    "collapsed": true
   },
   "outputs": [],
   "source": [
    "# How many years has build now?\n",
    "conbined_data['Now_YearBuilt'] = 2017 - conbined_data['YearBuilt']\n",
    "conbined_data['Now_YearRemodAdd'] = 2017 - conbined_data['YearRemodAdd']\n",
    "conbined_data['Now_GarageYrBlt'] = 2017 - conbined_data['GarageYrBlt']"
   ]
  },
  {
   "cell_type": "code",
   "execution_count": 51,
   "metadata": {
    "collapsed": false
   },
   "outputs": [
    {
     "data": {
      "text/html": [
       "<div>\n",
       "<table border=\"1\" class=\"dataframe\">\n",
       "  <thead>\n",
       "    <tr style=\"text-align: right;\">\n",
       "      <th></th>\n",
       "      <th>Now_YearBuilt</th>\n",
       "      <th>Now_YearRemodAdd</th>\n",
       "      <th>Now_GarageYrBlt</th>\n",
       "    </tr>\n",
       "  </thead>\n",
       "  <tbody>\n",
       "    <tr>\n",
       "      <th>0</th>\n",
       "      <td>14</td>\n",
       "      <td>14</td>\n",
       "      <td>14</td>\n",
       "    </tr>\n",
       "    <tr>\n",
       "      <th>1</th>\n",
       "      <td>41</td>\n",
       "      <td>41</td>\n",
       "      <td>41</td>\n",
       "    </tr>\n",
       "    <tr>\n",
       "      <th>2</th>\n",
       "      <td>16</td>\n",
       "      <td>15</td>\n",
       "      <td>16</td>\n",
       "    </tr>\n",
       "  </tbody>\n",
       "</table>\n",
       "</div>"
      ],
      "text/plain": [
       "   Now_YearBuilt  Now_YearRemodAdd  Now_GarageYrBlt\n",
       "0             14                14               14\n",
       "1             41                41               41\n",
       "2             16                15               16"
      ]
     },
     "execution_count": 51,
     "metadata": {},
     "output_type": "execute_result"
    }
   ],
   "source": [
    "conbined_data[['Now_YearBuilt','Now_YearRemodAdd','Now_GarageYrBlt']].head(3)"
   ]
  },
  {
   "cell_type": "code",
   "execution_count": 52,
   "metadata": {
    "collapsed": false
   },
   "outputs": [
    {
     "data": {
      "text/plain": [
       "<matplotlib.axes.AxesSubplot at 0x7f36796568d0>"
      ]
     },
     "execution_count": 52,
     "metadata": {},
     "output_type": "execute_result"
    },
    {
     "data": {
      "image/png": "[encoded data removed]",
      "text/plain": [
       "<matplotlib.figure.Figure at 0x7f3676d40750>"
      ]
     },
     "metadata": {},
     "output_type": "display_data"
    }
   ],
   "source": [
    "train_data['SalePrice'].groupby(train_data['MoSold']).mean().plot()"
   ]
  },
  {
   "cell_type": "code",
   "execution_count": 53,
   "metadata": {
    "collapsed": false
   },
   "outputs": [
    {
     "data": {
      "text/plain": [
       "<matplotlib.axes.AxesSubplot at 0x7f36796cf350>"
      ]
     },
     "execution_count": 53,
     "metadata": {},
     "output_type": "execute_result"
    },
    {
     "data": {
      "image/png": "[encoded data removed]",
      "text/plain": [
       "<matplotlib.figure.Figure at 0x7f3679bb6a10>"
      ]
     },
     "metadata": {},
     "output_type": "display_data"
    }
   ],
   "source": [
    "sns.countplot(conbined_data['MoSold'])"
   ]
  },
  {
   "cell_type": "markdown",
   "metadata": {},
   "source": [
    "The number of houses sold per month is inversely proportional to the price."
   ]
  },
  {
   "cell_type": "code",
   "execution_count": 54,
   "metadata": {
    "collapsed": true
   },
   "outputs": [],
   "source": [
    "sale_price_month = train_data['SalePrice'].groupby(train_data['MoSold']).mean().to_dict()\n",
    "conbined_data[\"MonthSaledMeanPrice\"] = conbined_data[\"MoSold\"].replace(sale_price_month)"
   ]
  },
  {
   "cell_type": "code",
   "execution_count": 55,
   "metadata": {
    "collapsed": false
   },
   "outputs": [],
   "source": [
    "sale_month = {\"1\": 0, \"2\": 0, \"3\": 0, \"4\": 0, \"5\": 0, \"6\": 0, \"7\": 0, \"8\": 0, \"9\": 0, \"10\": 0, \"11\": 0, \"12\": 0}\n",
    "for m in conbined_data['MoSold'].values:\n",
    "    sale_month[str(m)] = sale_month[str(m)] + 1"
   ]
  },
  {
   "cell_type": "code",
   "execution_count": 56,
   "metadata": {
    "collapsed": true
   },
   "outputs": [],
   "source": [
    "conbined_data['MoSold'] = conbined_data['MoSold'].map(lambda m : str(m))"
   ]
  },
  {
   "cell_type": "code",
   "execution_count": 57,
   "metadata": {
    "collapsed": false,
    "scrolled": true
   },
   "outputs": [],
   "source": [
    "conbined_data[\"MonthSaledCount\"] = conbined_data[\"MoSold\"].replace(sale_month)"
   ]
  },
  {
   "cell_type": "code",
   "execution_count": 58,
   "metadata": {
    "collapsed": false
   },
   "outputs": [
    {
     "data": {
      "text/plain": [
       "<matplotlib.axes.AxesSubplot at 0x7f3676d94f50>"
      ]
     },
     "execution_count": 58,
     "metadata": {},
     "output_type": "execute_result"
    },
    {
     "data": {
      "image/png": "[encoded data removed]",
      "text/plain": [
       "<matplotlib.figure.Figure at 0x7f3679be1f90>"
      ]
     },
     "metadata": {},
     "output_type": "display_data"
    }
   ],
   "source": [
    "train_data['SalePrice'].groupby(train_data['MSSubClass']).mean().plot()"
   ]
  },
  {
   "cell_type": "code",
   "execution_count": 59,
   "metadata": {
    "collapsed": false
   },
   "outputs": [
    {
     "data": {
      "text/plain": [
       "<matplotlib.axes.AxesSubplot at 0x7f3676d07850>"
      ]
     },
     "execution_count": 59,
     "metadata": {},
     "output_type": "execute_result"
    },
    {
     "data": {
      "image/png": "[encoded data removed]",
      "text/plain": [
       "<matplotlib.figure.Figure at 0x7f3679b0cc10>"
      ]
     },
     "metadata": {},
     "output_type": "display_data"
    }
   ],
   "source": [
    "sns.countplot(conbined_data['MSSubClass'])"
   ]
  },
  {
   "cell_type": "markdown",
   "metadata": {},
   "source": [
    "We can see that there is a certain relationship between price and sales volume and MSSubClass。That's because the house is NEWER or not！"
   ]
  },
  {
   "cell_type": "code",
   "execution_count": 60,
   "metadata": {
    "collapsed": false
   },
   "outputs": [],
   "source": [
    "conbined_data[\"NewerDwelling\"] = conbined_data[\"MSSubClass\"].replace(\n",
    "    {20: 1, 30: 0, 40: 0, 45: 0,50: 0, 60: 1, 70: 0, 75: 0, 80: 0, 85: 0,\n",
    "     90: 0, 120: 1, 150: 0, 160: 0, 180: 0, 190: 0})"
   ]
  },
  {
   "cell_type": "code",
   "execution_count": 61,
   "metadata": {
    "collapsed": true
   },
   "outputs": [],
   "source": [
    "sale_price_mssc = train_data['SalePrice'].groupby(train_data['MSSubClass']).mean().to_dict()\n",
    "conbined_data[\"MSSubClassMeanPrice\"] = conbined_data[\"MSSubClass\"].replace(sale_price_mssc)"
   ]
  },
  {
   "cell_type": "code",
   "execution_count": 62,
   "metadata": {
    "collapsed": false
   },
   "outputs": [],
   "source": [
    "mssubclass_dict = {\n",
    "    20: 'SC20',\n",
    "    30: 'SC30',\n",
    "    40: 'SC40',\n",
    "    45: 'SC45',\n",
    "    50: 'SC50',\n",
    "    60: 'SC60',\n",
    "    70: 'SC70',\n",
    "    75: 'SC75',\n",
    "    80: 'SC80',\n",
    "    85: 'SC85',\n",
    "    90: 'SC90',\n",
    "    120: 'SC120',\n",
    "    150: 'SC150',\n",
    "    160: 'SC160',\n",
    "    180: 'SC180',\n",
    "    190: 'SC190',\n",
    "}\n",
    "conbined_data['MSSubClass'] = conbined_data['MSSubClass'].replace(mssubclass_dict)"
   ]
  },
  {
   "cell_type": "markdown",
   "metadata": {},
   "source": [
    "Coding for attributes that have size properties."
   ]
  },
  {
   "cell_type": "code",
   "execution_count": 63,
   "metadata": {
    "collapsed": false
   },
   "outputs": [
    {
     "name": "stdout",
     "output_type": "stream",
     "text": [
      "['KitchenQual', 'BsmtCond', 'HeatingQC', 'GarageQual', 'ExterCond', 'CentralAir', 'ExterQual', 'Utilities', 'Alley', 'Functional', 'Street', 'FireplaceQu', 'Fence', 'BsmtFinType2', 'BsmtQual', 'PoolQC', 'BsmtExposure', 'BsmtFinType1', 'GarageCond']\n",
      "(2911, 110)\n"
     ]
    }
   ],
   "source": [
    "good_level_map = {'Street': {'Grvl': 0, 'Pave': 1},\n",
    "     'Alley': {'NA':0, 'Grvl': 1, 'Pave': 2},\n",
    "     'Utilities': {'AllPub':3, 'NoSeWa': 1, 'NoSewr': 2, 'ELO': 0},\n",
    "     'ExterQual': {'Ex': 4, 'Gd': 3, 'TA': 2, 'Fa': 1,'Po': 0},\n",
    "     'ExterCond': {'Ex': 4, 'Gd': 3, 'TA': 2, 'Fa': 1,'Po': 0},\n",
    "     'BsmtExposure': {'Gd': 4, 'Av': 3, 'Mn': 2, 'No': 1,'NA': 0},\n",
    "     'BsmtQual': {'Ex': 5, 'Gd': 4, 'TA': 3, 'Fa': 2,'Po': 1,'NA': 0},\n",
    "     'BsmtCond': {'Ex': 5, 'Gd': 4, 'TA': 3, 'Fa': 2,'Po': 1,'NA': 0},\n",
    "     'BsmtFinType1': {'NA':0, 'Unf':1, 'LwQ':2, 'Rec':3, 'BLQ':4, 'ALQ':5, 'GLQ':6},\n",
    "     'BsmtFinType2': {'NA':0, 'Unf':1, 'LwQ':2, 'Rec':3, 'BLQ':4, 'ALQ':5, 'GLQ':6},\n",
    "     'HeatingQC': {'Ex': 4, 'Gd': 3, 'TA': 2, 'Fa': 1,'Po': 0},\n",
    "     'CentralAir': {'N':0, 'Y':1},\n",
    "     'KitchenQual': {'Ex': 4, 'Gd': 3, 'TA': 2, 'Fa': 1, 'Po': 0},\n",
    "     'Functional': {'Typ':0,'Min1':1,'Min2':1,'Mod':2,'Maj1':3,'Maj2':4,'Sev':5,'Sal': 6},\n",
    "     'FireplaceQu': {'Ex': 5, 'Gd': 4, 'TA': 3, 'Fa': 2, 'Po': 1, 'NA': 0},\n",
    "     'GarageQual': {'Ex': 5, 'Gd': 4, 'TA': 3, 'Fa': 2, 'Po': 1, 'NA': 0},\n",
    "     'GarageCond': {'Ex': 5, 'Gd': 4, 'TA': 3, 'Fa': 2, 'Po': 1, 'NA': 0},\n",
    "     'PoolQC': {'Ex': 4, 'Gd': 3, 'TA': 2, 'Fa': 1, 'NA': 0},\n",
    "     'Fence': {'GdPrv': 2, 'GdWo': 2, 'MnPrv': 1, 'MnWw': 1, 'NA': 0}\n",
    "    }\n",
    "\n",
    "print good_level_map.keys()\n",
    "good_level_data = conbined_data[good_level_map.keys()].replace(good_level_map)\n",
    "\n",
    "good_level_data.columns = good_level_data.columns.map(lambda m : m + '_')\n",
    "\n",
    "conbined_data[good_level_data.columns] = good_level_data[good_level_data.columns]\n",
    "print conbined_data.shape"
   ]
  },
  {
   "cell_type": "markdown",
   "metadata": {},
   "source": [
    "The Neighborhood property indicates a nearby place name, which can be converted to latitude and longitude.\n",
    "\n",
    "Ref: [Cleaning, new features (GPS coordinates included)](https://www.kaggle.com/juliensiems/house-prices-advanced-regression-techniques/cleaning-new-features-gps-coordinates-included/discussion)"
   ]
  },
  {
   "cell_type": "code",
   "execution_count": 64,
   "metadata": {
    "collapsed": false
   },
   "outputs": [
    {
     "data": {
      "text/plain": [
       "0    0.054604\n",
       "1    0.026794\n",
       "2    0.054604\n",
       "3    0.012657\n",
       "4    0.031042\n",
       "Name: NeighborDistance, dtype: float64"
      ]
     },
     "metadata": {},
     "output_type": "display_data"
    }
   ],
   "source": [
    "# latitude\n",
    "conbined_data[\"latitude\"] = conbined_data.Neighborhood.replace(\n",
    "                                               {'Blmngtn' : 42.062806,\n",
    "                                                'Blueste' : 42.009408,\n",
    "                                                'BrDale' : 42.052500,\n",
    "                                                'BrkSide': 42.033590,\n",
    "                                                'ClearCr': 42.025425,\n",
    "                                                'CollgCr': 42.021051,\n",
    "                                                'Crawfor': 42.025949,\n",
    "                                                'Edwards': 42.022800,\n",
    "                                                'Gilbert': 42.027885,\n",
    "                                                'GrnHill': 42.000854,\n",
    "                                                'IDOTRR' : 42.019208,\n",
    "                                                'Landmrk': 42.044777,\n",
    "                                                'MeadowV': 41.991866,\n",
    "                                                'Mitchel': 42.031307,\n",
    "                                                'NAmes'  : 42.042966,\n",
    "                                                'NoRidge': 42.050307,\n",
    "                                                'NPkVill': 42.050207,\n",
    "                                                'NridgHt': 42.060356,\n",
    "                                                'NWAmes' : 42.051321,\n",
    "                                                'OldTown': 42.028863,\n",
    "                                                'SWISU'  : 42.017578,\n",
    "                                                'Sawyer' : 42.033611,\n",
    "                                                'SawyerW': 42.035540,\n",
    "                                                'Somerst': 42.052191,\n",
    "                                                'StoneBr': 42.060752,\n",
    "                                                'Timber' : 41.998132,\n",
    "                                                'Veenker': 42.040106})\n",
    "# longitude\n",
    "conbined_data[\"longitude\"] = conbined_data.Neighborhood.replace(\n",
    "                                               {'Blmngtn' : -93.639963,\n",
    "                                                'Blueste' : -93.645543,\n",
    "                                                'BrDale' : -93.628821,\n",
    "                                                'BrkSide': -93.627552,\n",
    "                                                'ClearCr': -93.675741,\n",
    "                                                'CollgCr': -93.685643,\n",
    "                                                'Crawfor': -93.620215,\n",
    "                                                'Edwards': -93.663040,\n",
    "                                                'Gilbert': -93.615692,\n",
    "                                                'GrnHill': -93.643377,\n",
    "                                                'IDOTRR' : -93.623401,\n",
    "                                                'Landmrk': -93.646239,\n",
    "                                                'MeadowV': -93.602441,\n",
    "                                                'Mitchel': -93.626967,\n",
    "                                                'NAmes'  : -93.613556,\n",
    "                                                'NoRidge': -93.656045,\n",
    "                                                'NPkVill': -93.625827,\n",
    "                                                'NridgHt': -93.657107,\n",
    "                                                'NWAmes' : -93.633798,\n",
    "                                                'OldTown': -93.615497,\n",
    "                                                'SWISU'  : -93.651283,\n",
    "                                                'Sawyer' : -93.669348,\n",
    "                                                'SawyerW': -93.685131,\n",
    "                                                'Somerst': -93.643479,\n",
    "                                                'StoneBr': -93.628955,\n",
    "                                                'Timber' : -93.648335,\n",
    "                                                'Veenker': -93.657032})\n",
    "\n",
    "# Ames city: longitude-93.63191310000002，latitude42.0307812，calcuate the distance\n",
    "conbined_data[\"NeighborDistance\"] = np.sqrt(np.power((conbined_data[\"longitude\"] - (-93.63191310000002)),2) + \\\n",
    "                                    np.power((conbined_data[\"latitude\"] - 42.0307812),2))\n",
    "\n",
    "display(conbined_data[\"NeighborDistance\"].head())\n",
    "\n",
    "conbined_data.drop(['longitude', 'latitude'], axis=1, inplace=True)"
   ]
  },
  {
   "cell_type": "code",
   "execution_count": 65,
   "metadata": {
    "collapsed": false
   },
   "outputs": [],
   "source": [
    "# Bin by neighborhood (a little arbitrarily). Values were computed by: \n",
    "neighbor_price_map = train_data[\"SalePrice\"].groupby(train_data[\"Neighborhood\"]).median().sort_values().to_dict()"
   ]
  },
  {
   "cell_type": "code",
   "execution_count": 66,
   "metadata": {
    "collapsed": true
   },
   "outputs": [],
   "source": [
    "neighbor_bin_map = {\n",
    "    \"MeadowV\" : 0,  #  88000\n",
    "    \"IDOTRR\" : 1,   # 103000\n",
    "    \"BrDale\" : 1,   # 106000\n",
    "    \"OldTown\" : 1,  # 119000\n",
    "    \"Edwards\" : 1,  # 119500\n",
    "    \"BrkSide\" : 1,  # 124300\n",
    "    \"Sawyer\" : 1,   # 135000\n",
    "    \"Blueste\" : 1,  # 137500\n",
    "    \"SWISU\" : 2,    # 139500\n",
    "    \"NAmes\" : 2,    # 140000\n",
    "    \"NPkVill\" : 2,  # 146000\n",
    "    \"Mitchel\" : 2,  # 153500\n",
    "    \"SawyerW\" : 2,  # 179900\n",
    "    \"Gilbert\" : 2,  # 181000\n",
    "    \"NWAmes\" : 2,   # 182900\n",
    "    \"Blmngtn\" : 2,  # 191000\n",
    "    \"CollgCr\" : 2,  # 197200\n",
    "    \"ClearCr\" : 3,  # 200250\n",
    "    \"Crawfor\" : 3,  # 200624\n",
    "    \"Veenker\" : 3,  # 218000\n",
    "    \"Somerst\" : 3,  # 225500\n",
    "    \"Timber\" : 3,   # 228475\n",
    "    \"StoneBr\" : 4,  # 278000\n",
    "    \"NoRidge\" : 4,  # 290000\n",
    "    \"NridgHt\" : 4,  # 315000\n",
    "}\n",
    "\n",
    "conbined_data[\"NeighborPrice\"] = conbined_data[\"Neighborhood\"].map(neighbor_price_map)\n",
    "conbined_data[\"NeighborBin\"] = conbined_data[\"Neighborhood\"].map(neighbor_bin_map)"
   ]
  },
  {
   "cell_type": "code",
   "execution_count": 67,
   "metadata": {
    "collapsed": false
   },
   "outputs": [
    {
     "data": {
      "text/html": [
       "<div>\n",
       "<table border=\"1\" class=\"dataframe\">\n",
       "  <thead>\n",
       "    <tr style=\"text-align: right;\">\n",
       "      <th></th>\n",
       "      <th>Id</th>\n",
       "      <th>MSSubClass</th>\n",
       "      <th>MSZoning</th>\n",
       "      <th>LotFrontage</th>\n",
       "      <th>LotArea</th>\n",
       "      <th>Street</th>\n",
       "      <th>Alley</th>\n",
       "      <th>LotShape</th>\n",
       "      <th>LandContour</th>\n",
       "      <th>Utilities</th>\n",
       "      <th>...</th>\n",
       "      <th>Fence_</th>\n",
       "      <th>BsmtFinType2_</th>\n",
       "      <th>BsmtQual_</th>\n",
       "      <th>PoolQC_</th>\n",
       "      <th>BsmtExposure_</th>\n",
       "      <th>BsmtFinType1_</th>\n",
       "      <th>GarageCond_</th>\n",
       "      <th>NeighborDistance</th>\n",
       "      <th>NeighborPrice</th>\n",
       "      <th>NeighborBin</th>\n",
       "    </tr>\n",
       "  </thead>\n",
       "  <tbody>\n",
       "    <tr>\n",
       "      <th>0</th>\n",
       "      <td>1</td>\n",
       "      <td>SC60</td>\n",
       "      <td>RL</td>\n",
       "      <td>65.0</td>\n",
       "      <td>8450</td>\n",
       "      <td>Pave</td>\n",
       "      <td>NA</td>\n",
       "      <td>Reg</td>\n",
       "      <td>Lvl</td>\n",
       "      <td>AllPub</td>\n",
       "      <td>...</td>\n",
       "      <td>0</td>\n",
       "      <td>1</td>\n",
       "      <td>4</td>\n",
       "      <td>0</td>\n",
       "      <td>1</td>\n",
       "      <td>6</td>\n",
       "      <td>3</td>\n",
       "      <td>0.054604</td>\n",
       "      <td>197200</td>\n",
       "      <td>2</td>\n",
       "    </tr>\n",
       "    <tr>\n",
       "      <th>1</th>\n",
       "      <td>2</td>\n",
       "      <td>SC20</td>\n",
       "      <td>RL</td>\n",
       "      <td>80.0</td>\n",
       "      <td>9600</td>\n",
       "      <td>Pave</td>\n",
       "      <td>NA</td>\n",
       "      <td>Reg</td>\n",
       "      <td>Lvl</td>\n",
       "      <td>AllPub</td>\n",
       "      <td>...</td>\n",
       "      <td>0</td>\n",
       "      <td>1</td>\n",
       "      <td>4</td>\n",
       "      <td>0</td>\n",
       "      <td>4</td>\n",
       "      <td>5</td>\n",
       "      <td>3</td>\n",
       "      <td>0.026794</td>\n",
       "      <td>218000</td>\n",
       "      <td>3</td>\n",
       "    </tr>\n",
       "    <tr>\n",
       "      <th>2</th>\n",
       "      <td>3</td>\n",
       "      <td>SC60</td>\n",
       "      <td>RL</td>\n",
       "      <td>68.0</td>\n",
       "      <td>11250</td>\n",
       "      <td>Pave</td>\n",
       "      <td>NA</td>\n",
       "      <td>IR1</td>\n",
       "      <td>Lvl</td>\n",
       "      <td>AllPub</td>\n",
       "      <td>...</td>\n",
       "      <td>0</td>\n",
       "      <td>1</td>\n",
       "      <td>4</td>\n",
       "      <td>0</td>\n",
       "      <td>2</td>\n",
       "      <td>6</td>\n",
       "      <td>3</td>\n",
       "      <td>0.054604</td>\n",
       "      <td>197200</td>\n",
       "      <td>2</td>\n",
       "    </tr>\n",
       "    <tr>\n",
       "      <th>3</th>\n",
       "      <td>4</td>\n",
       "      <td>SC70</td>\n",
       "      <td>RL</td>\n",
       "      <td>60.0</td>\n",
       "      <td>9550</td>\n",
       "      <td>Pave</td>\n",
       "      <td>NA</td>\n",
       "      <td>IR1</td>\n",
       "      <td>Lvl</td>\n",
       "      <td>AllPub</td>\n",
       "      <td>...</td>\n",
       "      <td>0</td>\n",
       "      <td>1</td>\n",
       "      <td>3</td>\n",
       "      <td>0</td>\n",
       "      <td>1</td>\n",
       "      <td>5</td>\n",
       "      <td>3</td>\n",
       "      <td>0.012657</td>\n",
       "      <td>200624</td>\n",
       "      <td>3</td>\n",
       "    </tr>\n",
       "    <tr>\n",
       "      <th>4</th>\n",
       "      <td>5</td>\n",
       "      <td>SC60</td>\n",
       "      <td>RL</td>\n",
       "      <td>84.0</td>\n",
       "      <td>14260</td>\n",
       "      <td>Pave</td>\n",
       "      <td>NA</td>\n",
       "      <td>IR1</td>\n",
       "      <td>Lvl</td>\n",
       "      <td>AllPub</td>\n",
       "      <td>...</td>\n",
       "      <td>0</td>\n",
       "      <td>1</td>\n",
       "      <td>4</td>\n",
       "      <td>0</td>\n",
       "      <td>3</td>\n",
       "      <td>6</td>\n",
       "      <td>3</td>\n",
       "      <td>0.031042</td>\n",
       "      <td>301500</td>\n",
       "      <td>4</td>\n",
       "    </tr>\n",
       "  </tbody>\n",
       "</table>\n",
       "<p>5 rows × 113 columns</p>\n",
       "</div>"
      ],
      "text/plain": [
       "   Id MSSubClass MSZoning  LotFrontage  LotArea Street Alley LotShape  \\\n",
       "0   1       SC60       RL         65.0     8450   Pave    NA      Reg   \n",
       "1   2       SC20       RL         80.0     9600   Pave    NA      Reg   \n",
       "2   3       SC60       RL         68.0    11250   Pave    NA      IR1   \n",
       "3   4       SC70       RL         60.0     9550   Pave    NA      IR1   \n",
       "4   5       SC60       RL         84.0    14260   Pave    NA      IR1   \n",
       "\n",
       "  LandContour Utilities     ...      Fence_ BsmtFinType2_ BsmtQual_ PoolQC_  \\\n",
       "0         Lvl    AllPub     ...           0             1         4       0   \n",
       "1         Lvl    AllPub     ...           0             1         4       0   \n",
       "2         Lvl    AllPub     ...           0             1         4       0   \n",
       "3         Lvl    AllPub     ...           0             1         3       0   \n",
       "4         Lvl    AllPub     ...           0             1         4       0   \n",
       "\n",
       "  BsmtExposure_ BsmtFinType1_ GarageCond_  NeighborDistance  NeighborPrice  \\\n",
       "0             1             6           3          0.054604         197200   \n",
       "1             4             5           3          0.026794         218000   \n",
       "2             2             6           3          0.054604         197200   \n",
       "3             1             5           3          0.012657         200624   \n",
       "4             3             6           3          0.031042         301500   \n",
       "\n",
       "   NeighborBin  \n",
       "0            2  \n",
       "1            3  \n",
       "2            2  \n",
       "3            3  \n",
       "4            4  \n",
       "\n",
       "[5 rows x 113 columns]"
      ]
     },
     "execution_count": 67,
     "metadata": {},
     "output_type": "execute_result"
    }
   ],
   "source": [
    "conbined_data.head()"
   ]
  },
  {
   "cell_type": "markdown",
   "metadata": {},
   "source": [
    "# Create new features"
   ]
  },
  {
   "cell_type": "markdown",
   "metadata": {},
   "source": [
    "Ref: [juliencs : A study on Regression applied to the Ames dataset\n",
    "](https://www.kaggle.com/juliencs/house-prices-advanced-regression-techniques/a-study-on-regression-applied-to-the-ames-dataset)\n",
    "- Create some boolean features\n",
    "- Discretize the continuous variables\n",
    "- Simplifications of existing features - Ref\n",
    "- Combinations of existing features - Ref,New\n",
    "- Polynomials on the top 10 existing features - Ref"
   ]
  },
  {
   "cell_type": "code",
   "execution_count": 68,
   "metadata": {
    "collapsed": false
   },
   "outputs": [],
   "source": [
    "str_columns = conbined_data.select_dtypes(include=['object']).columns.values\n",
    "num_columns = conbined_data.select_dtypes(exclude=['object']).columns.values"
   ]
  },
  {
   "cell_type": "code",
   "execution_count": 69,
   "metadata": {
    "collapsed": false
   },
   "outputs": [
    {
     "data": {
      "text/plain": [
       "array(['MSSubClass', 'MSZoning', 'Street', 'Alley', 'LotShape',\n",
       "       'LandContour', 'Utilities', 'LotConfig', 'LandSlope',\n",
       "       'Neighborhood', 'Condition1', 'Condition2', 'BldgType',\n",
       "       'HouseStyle', 'RoofStyle', 'RoofMatl', 'Exterior1st', 'Exterior2nd',\n",
       "       'MasVnrType', 'ExterQual', 'ExterCond', 'Foundation', 'BsmtQual',\n",
       "       'BsmtCond', 'BsmtExposure', 'BsmtFinType1', 'BsmtFinType2',\n",
       "       'Heating', 'HeatingQC', 'CentralAir', 'Electrical', 'KitchenQual',\n",
       "       'Functional', 'FireplaceQu', 'GarageType', 'GarageFinish',\n",
       "       'GarageQual', 'GarageCond', 'PavedDrive', 'PoolQC', 'Fence',\n",
       "       'MiscFeature', 'MoSold', 'SaleType', 'SaleCondition'], dtype=object)"
      ]
     },
     "execution_count": 69,
     "metadata": {},
     "output_type": "execute_result"
    }
   ],
   "source": [
    "str_columns"
   ]
  },
  {
   "cell_type": "markdown",
   "metadata": {},
   "source": [
    "1.Create some boolean features"
   ]
  },
  {
   "cell_type": "code",
   "execution_count": 70,
   "metadata": {
    "collapsed": false
   },
   "outputs": [
    {
     "name": "stdout",
     "output_type": "stream",
     "text": [
      "['Normal' 'Partial' 'Abnorml' 'Family' 'Alloca' 'AdjLand']\n"
     ]
    },
    {
     "data": {
      "text/plain": [
       "<matplotlib.axes.AxesSubplot at 0x7f3676c81e10>"
      ]
     },
     "execution_count": 70,
     "metadata": {},
     "output_type": "execute_result"
    },
    {
     "data": {
      "image/png": "[encoded data removed]",
      "text/plain": [
       "<matplotlib.figure.Figure at 0x7f3676a772d0>"
      ]
     },
     "metadata": {},
     "output_type": "display_data"
    }
   ],
   "source": [
    "# test str column\n",
    "column = \"SaleCondition\"\n",
    "count_duct = {}\n",
    "for key in set(conbined_data[column]):\n",
    "    count_duct[key] = 0\n",
    "    \n",
    "for m in conbined_data[column].values:\n",
    "    count_duct[str(m)] = count_duct[str(m)] + 1\n",
    "\n",
    "count_duct= sorted(count_duct.items(), key=lambda d:d[1], reverse = True)\n",
    "print np.array(count_duct)[:,0]\n",
    "sns.countplot(conbined_data[column])"
   ]
  },
  {
   "cell_type": "code",
   "execution_count": 71,
   "metadata": {
    "collapsed": false
   },
   "outputs": [],
   "source": [
    "# IR2 and IR3 don't appear that often, so just make a distinction \n",
    "# between regular and irregular.\n",
    "conbined_data[\"IsRegularLotShape\"] = (conbined_data[\"LotShape\"] == \"Reg\") * 1\n",
    "\n",
    "# Bnk, Low, HLS don't appear that often, so just make a distinction\n",
    "conbined_data[\"IsLandContourLvl\"] = (conbined_data[\"LandContour\"] == \"Lvl\") * 1\n",
    "conbined_data[\"IsLotConfigInside\"] = (conbined_data[\"LotConfig\"] == \"Inside\") * 1\n",
    "conbined_data[\"IsLandSlopeGentle\"] = (conbined_data[\"LandSlope\"] == \"Gtl\") * 1\n",
    "conbined_data[\"IsCondition1Norm\"] = (conbined_data[\"Condition1\"] == \"Norm\") * 1\n",
    "conbined_data[\"IsCondition2Norm\"] = (conbined_data[\"Condition2\"] == \"Norm\") * 1\n",
    "conbined_data[\"IsBldgType1Fam\"] = (conbined_data[\"BldgType\"] == \"1Fam\") * 1\n",
    "conbined_data[\"IsRoofStyleGable\"] = (conbined_data[\"RoofStyle\"] == \"Gable\") * 1\n",
    "conbined_data[\"IsRoofMatlCompShg\"] = (conbined_data[\"RoofMatl\"] == \"CompShg\") * 1\n",
    "conbined_data[\"IsGasAHeating\"] = (conbined_data[\"Heating\"] == \"GasA\") * 1\n",
    "conbined_data[\"IsGarageFinished\"] = (conbined_data[\"GarageFinish\"] == \"Fin\") * 1\n",
    "conbined_data[\"IsPavedDrive\"] = (conbined_data[\"PavedDrive\"] == \"Y\") * 1\n",
    "conbined_data[\"IsSaleTypeWD\"] = (conbined_data[\"SaleType\"] == \"WD\") * 1\n",
    "conbined_data[\"IsSaleConditionNormal\"] = (conbined_data[\"SaleCondition\"] == \"Normal\") * 1"
   ]
  },
  {
   "cell_type": "code",
   "execution_count": 72,
   "metadata": {
    "collapsed": true
   },
   "outputs": [],
   "source": [
    "# The only interesting \"misc. feature\" is the presence of a shed.\n",
    "conbined_data[\"HasShed\"] = (conbined_data[\"MiscFeature\"] == \"Shed\") * 1.  \n",
    "\n",
    "# Was this house sold in the year it was built?\n",
    "conbined_data[\"IsVeryNewHouse\"] = (conbined_data[\"YearBuilt\"] == conbined_data[\"YrSold\"]) * 1\n",
    "\n",
    "conbined_data[\"Has2ndFloor\"] = (conbined_data[\"2ndFlrSF\"] == 0) * 1\n",
    "conbined_data[\"Has2Story\"] = (conbined_data[\"HouseStyle\"] == '2Story') * 1\n",
    "conbined_data[\"HasMasVnr\"] = (conbined_data[\"MasVnrArea\"] == 0) * 1\n",
    "conbined_data[\"HasWoodDeck\"] = (conbined_data[\"WoodDeckSF\"] == 0) * 1\n",
    "conbined_data[\"HasOpenPorch\"] = (conbined_data[\"OpenPorchSF\"] == 0) * 1\n",
    "conbined_data[\"HasEnclosedPorch\"] = (conbined_data[\"EnclosedPorch\"] == 0) * 1\n",
    "conbined_data[\"Has3SsnPorch\"] = (conbined_data[\"3SsnPorch\"] == 0) * 1\n",
    "conbined_data[\"HasScreenPorch\"] = (conbined_data[\"ScreenPorch\"] == 0) * 1"
   ]
  },
  {
   "cell_type": "markdown",
   "metadata": {},
   "source": [
    "2.Discretize the continuous variables"
   ]
  },
  {
   "cell_type": "code",
   "execution_count": 73,
   "metadata": {
    "collapsed": true
   },
   "outputs": [],
   "source": [
    "def house_new_level(year_built):\n",
    "    if year_built < 1940:\n",
    "        return 0\n",
    "    elif year_built < 1970:\n",
    "        return 1\n",
    "    else:\n",
    "        return 2\n",
    "\n",
    "conbined_data['HouseNewLevel'] = conbined_data['YearBuilt'].map(house_new_level)\n",
    "\n",
    "def mas_vnr_area_level(mas_vnr_area):\n",
    "    if mas_vnr_area < 100:\n",
    "        return 0\n",
    "    elif mas_vnr_area < 300:\n",
    "        return 1\n",
    "    else:\n",
    "        return 2\n",
    "\n",
    "conbined_data['MasVnrAreaLevel'] = conbined_data['MasVnrArea'].map(mas_vnr_area_level)\n",
    "\n",
    "def bsmt_fin_sf1_level(bsmt_fin_sf1):\n",
    "    if bsmt_fin_sf1 < 100:\n",
    "        return 0\n",
    "    elif bsmt_fin_sf1 < 750:\n",
    "        return 1\n",
    "    else:\n",
    "        return 2\n",
    "\n",
    "conbined_data['BsmtFinSF1Level'] = conbined_data['BsmtFinSF1'].map(bsmt_fin_sf1_level)\n",
    "\n",
    "def total_bsmt_sf_level(total_bsmt_sf):\n",
    "    if total_bsmt_sf < 800:\n",
    "        return 0\n",
    "    elif total_bsmt_sf < 1300:\n",
    "        return 1\n",
    "    else:\n",
    "        return 2\n",
    "\n",
    "conbined_data['TotalBsmtSFLevel'] = conbined_data['TotalBsmtSF'].map(total_bsmt_sf_level)\n",
    "\n",
    "def one_flr_sf_level(_1st_flr_sf):\n",
    "    if _1st_flr_sf < 876.0:\n",
    "        return 0\n",
    "    elif _1st_flr_sf < 1383.0:\n",
    "        return 1\n",
    "    else:\n",
    "        return 2\n",
    "\n",
    "conbined_data['1stFlrSFLevel'] = conbined_data['1stFlrSF'].map(one_flr_sf_level)\n",
    "\n",
    "def second_flr_sf_level(_2nd_flr_sf):\n",
    "    if _2nd_flr_sf < 400.0:\n",
    "        return 0\n",
    "    elif _2nd_flr_sf < 900.0:\n",
    "        return 1\n",
    "    else:\n",
    "        return 2\n",
    "\n",
    "conbined_data['2ndFlrSFLevel'] = conbined_data['2ndFlrSF'].map(second_flr_sf_level)\n",
    "\n",
    "def grliv_area_level(grliv_area):\n",
    "    if grliv_area < 1125.0:\n",
    "        return 0\n",
    "    elif grliv_area < 1741.0:\n",
    "        return 1\n",
    "    else:\n",
    "        return 2\n",
    "\n",
    "conbined_data['GrLivAreaLevel'] = conbined_data['GrLivArea'].map(grliv_area_level)\n",
    "\n",
    "def garage_area_level(garage_area):\n",
    "    if garage_area < 320.0:\n",
    "        return 0\n",
    "    elif garage_area < 576.0:\n",
    "        return 1\n",
    "    else:\n",
    "        return 2\n",
    "\n",
    "conbined_data['GarageAreaLevel'] = conbined_data['GarageArea'].map(garage_area_level)\n",
    "\n",
    "def open_porch_sf_area_level(open_porch_sf_area):\n",
    "    if open_porch_sf_area < 20.0:\n",
    "        return 0\n",
    "    elif open_porch_sf_area < 100.0:\n",
    "        return 1\n",
    "    else:\n",
    "        return 2\n",
    "\n",
    "conbined_data['OpenPorchSFLevel'] = conbined_data['OpenPorchSF'].map(open_porch_sf_area_level)\n",
    "\n",
    "def lotarea_level(lot_area):\n",
    "    if lot_area < 7474.0:\n",
    "        return 1\n",
    "    elif lot_area < 11523.0:\n",
    "        return 2\n",
    "    else:\n",
    "        return 3\n",
    "\n",
    "conbined_data['LotAreaLevel'] = conbined_data['LotArea'].map(lotarea_level)\n",
    "\n",
    "# train_data['SalePrice'].groupby(train_data['YrSold']).mean()\n",
    "conbined_data['YearSoldMeanPrice'] = conbined_data['YrSold'].replace(\n",
    "                                         {2006:182238, 2007:185266, 2008:177032, 2009:178851, 2010:177393})"
   ]
  },
  {
   "cell_type": "code",
   "execution_count": 74,
   "metadata": {
    "collapsed": false
   },
   "outputs": [
    {
     "name": "stdout",
     "output_type": "stream",
     "text": [
      "7474.0\n",
      "11523.0\n"
     ]
    },
    {
     "data": {
      "image/png": "[encoded data removed]",
      "text/plain": [
       "<matplotlib.figure.Figure at 0x7f3676a9c950>"
      ]
     },
     "metadata": {},
     "output_type": "display_data"
    }
   ],
   "source": [
    "sns.distplot(conbined_data['LotArea'])\n",
    "print conbined_data['LotArea'].quantile(0.25)\n",
    "print conbined_data['LotArea'].quantile(0.75)"
   ]
  },
  {
   "cell_type": "markdown",
   "metadata": {},
   "source": [
    "3.Simplifications of existing features"
   ]
  },
  {
   "cell_type": "code",
   "execution_count": 75,
   "metadata": {
    "collapsed": false
   },
   "outputs": [],
   "source": [
    "conbined_data[\"SimplOverallQual\"] = conbined_data.OverallQual.replace(\n",
    "                                                            {1 : 1, 2 : 1, 3 : 1, # bad\n",
    "                                                             4 : 2, 5 : 2, 6 : 2, # average\n",
    "                                                             7 : 3, 8 : 3, 9 : 3, 10 : 3 # good\n",
    "                                                            })\n",
    "conbined_data[\"SimplOverallCond\"] = conbined_data.OverallCond.replace(\n",
    "                                                            {1 : 1, 2 : 1, 3 : 1, # bad\n",
    "                                                             4 : 2, 5 : 2, 6 : 2, # average\n",
    "                                                             7 : 3, 8 : 3, 9 : 3, 10 : 3 # good\n",
    "                                                             })\n",
    "conbined_data[\"SimplPoolQC\"] = conbined_data.PoolQC.replace(\n",
    "                                                            {1 : 1, 2 : 1, 3 : 2, 4 : 2})\n",
    "conbined_data[\"SimplGarageCond\"] = conbined_data.GarageCond.replace(\n",
    "                                                            {1 : 1, 2 : 1, 3 : 1, 4 : 2, 5 : 2})\n",
    "conbined_data[\"SimplGarageQual\"] = conbined_data.GarageQual.replace(\n",
    "                                                            {1 : 1, 2 : 1, 3 : 1, 4 : 2, 5 : 2})\n",
    "conbined_data[\"SimplFireplaceQu\"] = conbined_data.FireplaceQu.replace(\n",
    "                                                            {1 : 1, 2 : 1, 3 : 1, 4 : 2, 5 : 2})\n",
    "conbined_data[\"SimplFireplaceQu\"] = conbined_data.FireplaceQu.replace(\n",
    "                                                            {1 : 1, 2 : 1, 3 : 1, 4 : 2, 5 : 2})\n",
    "conbined_data[\"SimplFunctional\"] = conbined_data.Functional.replace(\n",
    "                                                            {1 : 1, 2 : 1, 3 : 2, 4 : 2, 5 : 3, 6 : 3, 7 : 3, 8 : 4})\n",
    "conbined_data[\"SimplKitchenQual\"] = conbined_data.KitchenQual.replace(\n",
    "                                                            {1 : 1, 2 : 1, 3 : 1, 4 : 2, 5 : 2})\n",
    "conbined_data[\"SimplHeatingQC\"] = conbined_data.HeatingQC.replace(\n",
    "                                                            {1 : 1, 2 : 1, 3 : 1, 4 : 2, 5 : 2})\n",
    "conbined_data[\"SimplBsmtFinType1\"] = conbined_data.BsmtFinType1.replace(\n",
    "                                                            {1 : 1, 2 : 1, 3 : 1, 4 : 2, 5 : 2, 6 : 2})\n",
    "conbined_data[\"SimplBsmtFinType2\"] = conbined_data.BsmtFinType2.replace(\n",
    "                                                            {1 : 1, 2 : 1, 3 : 1, 4 : 2, 5 : 2, 6 : 2})\n",
    "conbined_data[\"SimplBsmtCond\"] = conbined_data.BsmtCond.replace(\n",
    "                                                            {1 : 1, 2 : 1, 3 : 1, 4 : 2, 5 : 2})\n",
    "conbined_data[\"SimplBsmtQual\"] = conbined_data.BsmtQual.replace(\n",
    "                                                            {1 : 1, 2 : 1, 3 : 1, 4 : 2, 5 : 2})\n",
    "conbined_data[\"SimplExterCond\"] = conbined_data.ExterCond.replace(\n",
    "                                                            {1 : 1, 2 : 1, 3 : 1, 4 : 2, 5 : 2})\n",
    "conbined_data[\"SimplExterQual\"] = conbined_data.ExterQual.replace(\n",
    "                                                            {1 : 1, 2 : 1, 3 : 1, 4 : 2, 5 : 2})"
   ]
  },
  {
   "cell_type": "markdown",
   "metadata": {},
   "source": [
    "4.Combinations of existing features"
   ]
  },
  {
   "cell_type": "code",
   "execution_count": 76,
   "metadata": {
    "collapsed": false
   },
   "outputs": [],
   "source": [
    "# Using cross-validation to choose interactive features!\n",
    "# Wait for testing\n",
    "conbined_data.Basement = conbined_data.TotalBsmtSF * conbined_data.BsmtUnfSF\n",
    "conbined_data.Ground   = conbined_data.GrLivArea * conbined_data.YearBuilt\n",
    "conbined_data.Bath = conbined_data.FullBath * conbined_data.YearBuilt\n",
    "conbined_data.AboveGround = conbined_data.TotRmsAbvGrd  * conbined_data.BedroomAbvGr \n",
    "conbined_data.livingArea = conbined_data.TotalBsmtSF  * conbined_data.GrLivArea  \n",
    "conbined_data.years = conbined_data.YearBuilt  * conbined_data.YearRemodAdd \n",
    "conbined_data.Lot = conbined_data['1stFlrSF']  * conbined_data.LotFrontage "
   ]
  },
  {
   "cell_type": "code",
   "execution_count": 77,
   "metadata": {
    "collapsed": false
   },
   "outputs": [],
   "source": [
    "# Overall quality of the house\n",
    "conbined_data[\"OverallGrade\"] = conbined_data[\"OverallQual\"] * conbined_data[\"OverallCond\"]\n",
    "# Overall quality of the garage\n",
    "conbined_data[\"GarageGrade\"] = conbined_data[\"GarageQual_\"] * conbined_data[\"GarageCond_\"]\n",
    "# Overall quality of the exterior\n",
    "conbined_data[\"ExterGrade\"] = conbined_data[\"ExterQual_\"] * conbined_data[\"ExterCond_\"]\n",
    "# Overall kitchen score\n",
    "conbined_data[\"KitchenScore\"] = conbined_data[\"KitchenAbvGr\"] * conbined_data[\"KitchenQual_\"]\n",
    "# Overall fireplace score\n",
    "conbined_data[\"FireplaceScore\"] = conbined_data[\"Fireplaces\"] * conbined_data[\"FireplaceQu_\"]\n",
    "# Overall garage score\n",
    "conbined_data[\"GarageScore\"] = conbined_data[\"GarageArea\"] * conbined_data[\"GarageQual_\"]\n",
    "# Overall pool score\n",
    "conbined_data[\"PoolScore\"] = conbined_data[\"PoolArea\"] * conbined_data[\"PoolQC_\"]\n",
    "\n",
    "# Total number of bathrooms\n",
    "conbined_data[\"TotalBath\"] = conbined_data[\"BsmtFullBath\"] + (0.5 * conbined_data[\"BsmtHalfBath\"]) + \\\n",
    "conbined_data[\"FullBath\"] + (0.5 * conbined_data[\"HalfBath\"])\n",
    "\n",
    "# Total yard area in square feet\n",
    "conbined_data[\"TotalPorchSF\"] = conbined_data[\"OpenPorchSF\"] + conbined_data[\"EnclosedPorch\"] +\\\n",
    "                                conbined_data[\"3SsnPorch\"] + conbined_data[\"ScreenPorch\"]\n",
    "# Total SF for house (living, basement, porch, pool)\n",
    "conbined_data[\"AllSF\"] = conbined_data[\"GrLivArea\"] + conbined_data[\"TotalBsmtSF\"] + \\\n",
    "                         conbined_data[\"TotalPorchSF\"] + conbined_data[\"WoodDeckSF\"] + \\\n",
    "                         conbined_data[\"PoolArea\"]\n",
    "\n",
    "# House completed before sale or not\n",
    "conbined_data[\"BoughtOffPlan\"] = conbined_data.SaleCondition.replace(\n",
    "    {\"Abnorml\" : 0, \"Alloca\" : 0, \"AdjLand\" : 0, \"Family\" : 0, \"Normal\" : 0, \"Partial\" : 1})"
   ]
  },
  {
   "cell_type": "code",
   "execution_count": 78,
   "metadata": {
    "collapsed": false
   },
   "outputs": [
    {
     "data": {
      "text/html": [
       "<div>\n",
       "<table border=\"1\" class=\"dataframe\">\n",
       "  <thead>\n",
       "    <tr style=\"text-align: right;\">\n",
       "      <th></th>\n",
       "      <th>Id</th>\n",
       "      <th>MSSubClass</th>\n",
       "      <th>MSZoning</th>\n",
       "      <th>LotFrontage</th>\n",
       "      <th>LotArea</th>\n",
       "      <th>Street</th>\n",
       "      <th>Alley</th>\n",
       "      <th>LotShape</th>\n",
       "      <th>LandContour</th>\n",
       "      <th>Utilities</th>\n",
       "      <th>...</th>\n",
       "      <th>GarageGrade</th>\n",
       "      <th>ExterGrade</th>\n",
       "      <th>KitchenScore</th>\n",
       "      <th>FireplaceScore</th>\n",
       "      <th>GarageScore</th>\n",
       "      <th>PoolScore</th>\n",
       "      <th>TotalBath</th>\n",
       "      <th>TotalPorchSF</th>\n",
       "      <th>AllSF</th>\n",
       "      <th>BoughtOffPlan</th>\n",
       "    </tr>\n",
       "  </thead>\n",
       "  <tbody>\n",
       "    <tr>\n",
       "      <th>0</th>\n",
       "      <td>1</td>\n",
       "      <td>SC60</td>\n",
       "      <td>RL</td>\n",
       "      <td>65.0</td>\n",
       "      <td>8450</td>\n",
       "      <td>Pave</td>\n",
       "      <td>NA</td>\n",
       "      <td>Reg</td>\n",
       "      <td>Lvl</td>\n",
       "      <td>AllPub</td>\n",
       "      <td>...</td>\n",
       "      <td>9</td>\n",
       "      <td>6</td>\n",
       "      <td>3</td>\n",
       "      <td>0</td>\n",
       "      <td>1644.0</td>\n",
       "      <td>0</td>\n",
       "      <td>3.5</td>\n",
       "      <td>61</td>\n",
       "      <td>2627.0</td>\n",
       "      <td>0</td>\n",
       "    </tr>\n",
       "    <tr>\n",
       "      <th>1</th>\n",
       "      <td>2</td>\n",
       "      <td>SC20</td>\n",
       "      <td>RL</td>\n",
       "      <td>80.0</td>\n",
       "      <td>9600</td>\n",
       "      <td>Pave</td>\n",
       "      <td>NA</td>\n",
       "      <td>Reg</td>\n",
       "      <td>Lvl</td>\n",
       "      <td>AllPub</td>\n",
       "      <td>...</td>\n",
       "      <td>9</td>\n",
       "      <td>4</td>\n",
       "      <td>2</td>\n",
       "      <td>3</td>\n",
       "      <td>1380.0</td>\n",
       "      <td>0</td>\n",
       "      <td>2.5</td>\n",
       "      <td>0</td>\n",
       "      <td>2822.0</td>\n",
       "      <td>0</td>\n",
       "    </tr>\n",
       "    <tr>\n",
       "      <th>2</th>\n",
       "      <td>3</td>\n",
       "      <td>SC60</td>\n",
       "      <td>RL</td>\n",
       "      <td>68.0</td>\n",
       "      <td>11250</td>\n",
       "      <td>Pave</td>\n",
       "      <td>NA</td>\n",
       "      <td>IR1</td>\n",
       "      <td>Lvl</td>\n",
       "      <td>AllPub</td>\n",
       "      <td>...</td>\n",
       "      <td>9</td>\n",
       "      <td>6</td>\n",
       "      <td>3</td>\n",
       "      <td>3</td>\n",
       "      <td>1824.0</td>\n",
       "      <td>0</td>\n",
       "      <td>3.5</td>\n",
       "      <td>42</td>\n",
       "      <td>2748.0</td>\n",
       "      <td>0</td>\n",
       "    </tr>\n",
       "    <tr>\n",
       "      <th>3</th>\n",
       "      <td>4</td>\n",
       "      <td>SC70</td>\n",
       "      <td>RL</td>\n",
       "      <td>60.0</td>\n",
       "      <td>9550</td>\n",
       "      <td>Pave</td>\n",
       "      <td>NA</td>\n",
       "      <td>IR1</td>\n",
       "      <td>Lvl</td>\n",
       "      <td>AllPub</td>\n",
       "      <td>...</td>\n",
       "      <td>9</td>\n",
       "      <td>4</td>\n",
       "      <td>3</td>\n",
       "      <td>4</td>\n",
       "      <td>1926.0</td>\n",
       "      <td>0</td>\n",
       "      <td>2.0</td>\n",
       "      <td>307</td>\n",
       "      <td>2780.0</td>\n",
       "      <td>0</td>\n",
       "    </tr>\n",
       "    <tr>\n",
       "      <th>4</th>\n",
       "      <td>5</td>\n",
       "      <td>SC60</td>\n",
       "      <td>RL</td>\n",
       "      <td>84.0</td>\n",
       "      <td>14260</td>\n",
       "      <td>Pave</td>\n",
       "      <td>NA</td>\n",
       "      <td>IR1</td>\n",
       "      <td>Lvl</td>\n",
       "      <td>AllPub</td>\n",
       "      <td>...</td>\n",
       "      <td>9</td>\n",
       "      <td>6</td>\n",
       "      <td>3</td>\n",
       "      <td>3</td>\n",
       "      <td>2508.0</td>\n",
       "      <td>0</td>\n",
       "      <td>3.5</td>\n",
       "      <td>84</td>\n",
       "      <td>3619.0</td>\n",
       "      <td>0</td>\n",
       "    </tr>\n",
       "  </tbody>\n",
       "</table>\n",
       "<p>5 rows × 174 columns</p>\n",
       "</div>"
      ],
      "text/plain": [
       "   Id MSSubClass MSZoning  LotFrontage  LotArea Street Alley LotShape  \\\n",
       "0   1       SC60       RL         65.0     8450   Pave    NA      Reg   \n",
       "1   2       SC20       RL         80.0     9600   Pave    NA      Reg   \n",
       "2   3       SC60       RL         68.0    11250   Pave    NA      IR1   \n",
       "3   4       SC70       RL         60.0     9550   Pave    NA      IR1   \n",
       "4   5       SC60       RL         84.0    14260   Pave    NA      IR1   \n",
       "\n",
       "  LandContour Utilities      ...       GarageGrade ExterGrade KitchenScore  \\\n",
       "0         Lvl    AllPub      ...                 9          6            3   \n",
       "1         Lvl    AllPub      ...                 9          4            2   \n",
       "2         Lvl    AllPub      ...                 9          6            3   \n",
       "3         Lvl    AllPub      ...                 9          4            3   \n",
       "4         Lvl    AllPub      ...                 9          6            3   \n",
       "\n",
       "  FireplaceScore GarageScore PoolScore TotalBath  TotalPorchSF   AllSF  \\\n",
       "0              0      1644.0         0       3.5            61  2627.0   \n",
       "1              3      1380.0         0       2.5             0  2822.0   \n",
       "2              3      1824.0         0       3.5            42  2748.0   \n",
       "3              4      1926.0         0       2.0           307  2780.0   \n",
       "4              3      2508.0         0       3.5            84  3619.0   \n",
       "\n",
       "   BoughtOffPlan  \n",
       "0              0  \n",
       "1              0  \n",
       "2              0  \n",
       "3              0  \n",
       "4              0  \n",
       "\n",
       "[5 rows x 174 columns]"
      ]
     },
     "execution_count": 78,
     "metadata": {},
     "output_type": "execute_result"
    }
   ],
   "source": [
    "# 4.Polynomials on the top n existing features\n",
    "train_data_new = conbined_data.iloc[:train_length,:]\n",
    "# 添加价格\n",
    "train_data_new.head()"
   ]
  },
  {
   "cell_type": "code",
   "execution_count": 79,
   "metadata": {
    "collapsed": false,
    "scrolled": true
   },
   "outputs": [
    {
     "data": {
      "text/plain": [
       "<matplotlib.text.Text at 0x7f367675e750>"
      ]
     },
     "execution_count": 79,
     "metadata": {},
     "output_type": "execute_result"
    },
    {
     "data": {
      "image/png": "[encoded data removed]",
      "text/plain": [
       "<matplotlib.figure.Figure at 0x7f3676a9cb10>"
      ]
     },
     "metadata": {},
     "output_type": "display_data"
    }
   ],
   "source": [
    "from xgboost import XGBRegressor\n",
    "\n",
    "train_Y = train_data['SalePrice']\n",
    "train_X = train_data_new.select_dtypes(exclude=['object']).drop(['Id'], axis=1)\n",
    "\n",
    "xgb_regressor = XGBRegressor(seed=10)\n",
    "xgb_regressor.fit(train_X, train_Y)\n",
    "\n",
    "feature_importances = pd.Series(xgb_regressor.feature_importances_, train_X.columns.values)\n",
    "feature_importances = feature_importances.sort_values(ascending=False)\n",
    "# feature_importances= feature_importances.head(40)\n",
    "feature_importances.plot(kind='bar', title='Feature Importances')\n",
    "plt.ylabel('Feature Importance Score')"
   ]
  },
  {
   "cell_type": "code",
   "execution_count": 80,
   "metadata": {
    "collapsed": false
   },
   "outputs": [
    {
     "name": "stdout",
     "output_type": "stream",
     "text": [
      "['AllSF' 'BsmtFinSF1' 'LotArea' '2ndFlrSF' 'GrLivArea' 'YearBuilt'\n",
      " 'OverallGrade' 'OverallQual' 'BsmtUnfSF' 'GarageYrBlt' 'TotalBath'\n",
      " 'OverallCond' 'NeighborPrice' 'LotFrontage' 'FireplaceScore']\n"
     ]
    }
   ],
   "source": [
    "top_n = 15\n",
    "poly_columns = feature_importances.index.values[:top_n]\n",
    "print poly_columns\n",
    "for column in poly_columns:\n",
    "    conbined_data[column+'-s2'] = conbined_data[column] ** 2\n",
    "    conbined_data[column+'-s3'] = conbined_data[column] ** 3\n",
    "    conbined_data[column+'-sq'] = np.sqrt(conbined_data[column])"
   ]
  },
  {
   "cell_type": "code",
   "execution_count": 81,
   "metadata": {
    "collapsed": false
   },
   "outputs": [
    {
     "data": {
      "text/html": [
       "<div>\n",
       "<table border=\"1\" class=\"dataframe\">\n",
       "  <thead>\n",
       "    <tr style=\"text-align: right;\">\n",
       "      <th></th>\n",
       "      <th>Id</th>\n",
       "      <th>MSSubClass</th>\n",
       "      <th>MSZoning</th>\n",
       "      <th>LotFrontage</th>\n",
       "      <th>LotArea</th>\n",
       "      <th>Street</th>\n",
       "      <th>Alley</th>\n",
       "      <th>LotShape</th>\n",
       "      <th>LandContour</th>\n",
       "      <th>Utilities</th>\n",
       "      <th>...</th>\n",
       "      <th>OverallCond-sq</th>\n",
       "      <th>NeighborPrice-s2</th>\n",
       "      <th>NeighborPrice-s3</th>\n",
       "      <th>NeighborPrice-sq</th>\n",
       "      <th>LotFrontage-s2</th>\n",
       "      <th>LotFrontage-s3</th>\n",
       "      <th>LotFrontage-sq</th>\n",
       "      <th>FireplaceScore-s2</th>\n",
       "      <th>FireplaceScore-s3</th>\n",
       "      <th>FireplaceScore-sq</th>\n",
       "    </tr>\n",
       "  </thead>\n",
       "  <tbody>\n",
       "    <tr>\n",
       "      <th>0</th>\n",
       "      <td>1</td>\n",
       "      <td>SC60</td>\n",
       "      <td>RL</td>\n",
       "      <td>65.0</td>\n",
       "      <td>8450</td>\n",
       "      <td>Pave</td>\n",
       "      <td>NA</td>\n",
       "      <td>Reg</td>\n",
       "      <td>Lvl</td>\n",
       "      <td>AllPub</td>\n",
       "      <td>...</td>\n",
       "      <td>2.236068</td>\n",
       "      <td>38887840000</td>\n",
       "      <td>7668682048000000</td>\n",
       "      <td>444.072066</td>\n",
       "      <td>4225.0</td>\n",
       "      <td>274625.0</td>\n",
       "      <td>8.062258</td>\n",
       "      <td>0</td>\n",
       "      <td>0</td>\n",
       "      <td>0.000000</td>\n",
       "    </tr>\n",
       "    <tr>\n",
       "      <th>1</th>\n",
       "      <td>2</td>\n",
       "      <td>SC20</td>\n",
       "      <td>RL</td>\n",
       "      <td>80.0</td>\n",
       "      <td>9600</td>\n",
       "      <td>Pave</td>\n",
       "      <td>NA</td>\n",
       "      <td>Reg</td>\n",
       "      <td>Lvl</td>\n",
       "      <td>AllPub</td>\n",
       "      <td>...</td>\n",
       "      <td>2.828427</td>\n",
       "      <td>47524000000</td>\n",
       "      <td>10360232000000000</td>\n",
       "      <td>466.904701</td>\n",
       "      <td>6400.0</td>\n",
       "      <td>512000.0</td>\n",
       "      <td>8.944272</td>\n",
       "      <td>9</td>\n",
       "      <td>27</td>\n",
       "      <td>1.732051</td>\n",
       "    </tr>\n",
       "    <tr>\n",
       "      <th>2</th>\n",
       "      <td>3</td>\n",
       "      <td>SC60</td>\n",
       "      <td>RL</td>\n",
       "      <td>68.0</td>\n",
       "      <td>11250</td>\n",
       "      <td>Pave</td>\n",
       "      <td>NA</td>\n",
       "      <td>IR1</td>\n",
       "      <td>Lvl</td>\n",
       "      <td>AllPub</td>\n",
       "      <td>...</td>\n",
       "      <td>2.236068</td>\n",
       "      <td>38887840000</td>\n",
       "      <td>7668682048000000</td>\n",
       "      <td>444.072066</td>\n",
       "      <td>4624.0</td>\n",
       "      <td>314432.0</td>\n",
       "      <td>8.246211</td>\n",
       "      <td>9</td>\n",
       "      <td>27</td>\n",
       "      <td>1.732051</td>\n",
       "    </tr>\n",
       "    <tr>\n",
       "      <th>3</th>\n",
       "      <td>4</td>\n",
       "      <td>SC70</td>\n",
       "      <td>RL</td>\n",
       "      <td>60.0</td>\n",
       "      <td>9550</td>\n",
       "      <td>Pave</td>\n",
       "      <td>NA</td>\n",
       "      <td>IR1</td>\n",
       "      <td>Lvl</td>\n",
       "      <td>AllPub</td>\n",
       "      <td>...</td>\n",
       "      <td>2.236068</td>\n",
       "      <td>40249989376</td>\n",
       "      <td>8075113868570624</td>\n",
       "      <td>447.910705</td>\n",
       "      <td>3600.0</td>\n",
       "      <td>216000.0</td>\n",
       "      <td>7.745967</td>\n",
       "      <td>16</td>\n",
       "      <td>64</td>\n",
       "      <td>2.000000</td>\n",
       "    </tr>\n",
       "    <tr>\n",
       "      <th>4</th>\n",
       "      <td>5</td>\n",
       "      <td>SC60</td>\n",
       "      <td>RL</td>\n",
       "      <td>84.0</td>\n",
       "      <td>14260</td>\n",
       "      <td>Pave</td>\n",
       "      <td>NA</td>\n",
       "      <td>IR1</td>\n",
       "      <td>Lvl</td>\n",
       "      <td>AllPub</td>\n",
       "      <td>...</td>\n",
       "      <td>2.236068</td>\n",
       "      <td>90902250000</td>\n",
       "      <td>27407028375000000</td>\n",
       "      <td>549.090157</td>\n",
       "      <td>7056.0</td>\n",
       "      <td>592704.0</td>\n",
       "      <td>9.165151</td>\n",
       "      <td>9</td>\n",
       "      <td>27</td>\n",
       "      <td>1.732051</td>\n",
       "    </tr>\n",
       "  </tbody>\n",
       "</table>\n",
       "<p>5 rows × 219 columns</p>\n",
       "</div>"
      ],
      "text/plain": [
       "   Id MSSubClass MSZoning  LotFrontage  LotArea Street Alley LotShape  \\\n",
       "0   1       SC60       RL         65.0     8450   Pave    NA      Reg   \n",
       "1   2       SC20       RL         80.0     9600   Pave    NA      Reg   \n",
       "2   3       SC60       RL         68.0    11250   Pave    NA      IR1   \n",
       "3   4       SC70       RL         60.0     9550   Pave    NA      IR1   \n",
       "4   5       SC60       RL         84.0    14260   Pave    NA      IR1   \n",
       "\n",
       "  LandContour Utilities        ...         OverallCond-sq NeighborPrice-s2  \\\n",
       "0         Lvl    AllPub        ...               2.236068      38887840000   \n",
       "1         Lvl    AllPub        ...               2.828427      47524000000   \n",
       "2         Lvl    AllPub        ...               2.236068      38887840000   \n",
       "3         Lvl    AllPub        ...               2.236068      40249989376   \n",
       "4         Lvl    AllPub        ...               2.236068      90902250000   \n",
       "\n",
       "    NeighborPrice-s3 NeighborPrice-sq LotFrontage-s2 LotFrontage-s3  \\\n",
       "0   7668682048000000       444.072066         4225.0       274625.0   \n",
       "1  10360232000000000       466.904701         6400.0       512000.0   \n",
       "2   7668682048000000       444.072066         4624.0       314432.0   \n",
       "3   8075113868570624       447.910705         3600.0       216000.0   \n",
       "4  27407028375000000       549.090157         7056.0       592704.0   \n",
       "\n",
       "  LotFrontage-sq  FireplaceScore-s2  FireplaceScore-s3  FireplaceScore-sq  \n",
       "0       8.062258                  0                  0           0.000000  \n",
       "1       8.944272                  9                 27           1.732051  \n",
       "2       8.246211                  9                 27           1.732051  \n",
       "3       7.745967                 16                 64           2.000000  \n",
       "4       9.165151                  9                 27           1.732051  \n",
       "\n",
       "[5 rows x 219 columns]"
      ]
     },
     "execution_count": 81,
     "metadata": {},
     "output_type": "execute_result"
    }
   ],
   "source": [
    "conbined_data.head()"
   ]
  },
  {
   "cell_type": "markdown",
   "metadata": {},
   "source": [
    "** Feature Scale / Skew **\n",
    "\n",
    "Ref: [Lasso model for regression problem](https://www.kaggle.com/klyusba/house-prices-advanced-regression-techniques/lasso-model-for-regression-problem/notebook)"
   ]
  },
  {
   "cell_type": "markdown",
   "metadata": {},
   "source": [
    "![](http://itknowledgeexchange.techtarget.com/writing-for-business/files/2012/12/skewness-300x247.png)"
   ]
  },
  {
   "cell_type": "code",
   "execution_count": 82,
   "metadata": {
    "collapsed": true
   },
   "outputs": [],
   "source": [
    "str_columns = conbined_data.select_dtypes(include=['object']).columns.values\n",
    "num_columns = conbined_data.select_dtypes(exclude=['object']).columns.values[1:]"
   ]
  },
  {
   "cell_type": "code",
   "execution_count": 83,
   "metadata": {
    "collapsed": false
   },
   "outputs": [
    {
     "data": {
      "text/plain": [
       "array(['LotFrontage', 'LotArea', 'OverallQual', 'OverallCond', 'YearBuilt',\n",
       "       'YearRemodAdd', 'MasVnrArea', 'BsmtFinSF1', 'BsmtFinSF2',\n",
       "       'BsmtUnfSF', 'TotalBsmtSF', '1stFlrSF', '2ndFlrSF', 'LowQualFinSF',\n",
       "       'GrLivArea', 'BsmtFullBath', 'BsmtHalfBath', 'FullBath', 'HalfBath',\n",
       "       'BedroomAbvGr', 'KitchenAbvGr', 'TotRmsAbvGrd', 'Fireplaces',\n",
       "       'GarageYrBlt', 'GarageCars', 'GarageArea', 'WoodDeckSF',\n",
       "       'OpenPorchSF', 'EnclosedPorch', '3SsnPorch', 'ScreenPorch',\n",
       "       'PoolArea', 'MiscVal', 'YrSold', 'RemodYears', 'HasRemodeled',\n",
       "       'HasRecentRemodel', 'GarageBltYears', 'Now_YearBuilt',\n",
       "       'Now_YearRemodAdd', 'Now_GarageYrBlt', 'MonthSaledMeanPrice',\n",
       "       'MonthSaledCount', 'NewerDwelling', 'MSSubClassMeanPrice',\n",
       "       'KitchenQual_', 'BsmtCond_', 'HeatingQC_', 'GarageQual_',\n",
       "       'ExterCond_', 'CentralAir_', 'ExterQual_', 'Utilities_', 'Alley_',\n",
       "       'Functional_', 'Street_', 'FireplaceQu_', 'Fence_', 'BsmtFinType2_',\n",
       "       'BsmtQual_', 'PoolQC_', 'BsmtExposure_', 'BsmtFinType1_',\n",
       "       'GarageCond_', 'NeighborDistance', 'NeighborPrice', 'NeighborBin',\n",
       "       'IsRegularLotShape', 'IsLandContourLvl', 'IsLotConfigInside',\n",
       "       'IsLandSlopeGentle', 'IsCondition1Norm', 'IsCondition2Norm',\n",
       "       'IsBldgType1Fam', 'IsRoofStyleGable', 'IsRoofMatlCompShg',\n",
       "       'IsGasAHeating', 'IsGarageFinished', 'IsPavedDrive', 'IsSaleTypeWD',\n",
       "       'IsSaleConditionNormal', 'HasShed', 'IsVeryNewHouse', 'Has2ndFloor',\n",
       "       'Has2Story', 'HasMasVnr', 'HasWoodDeck', 'HasOpenPorch',\n",
       "       'HasEnclosedPorch', 'Has3SsnPorch', 'HasScreenPorch',\n",
       "       'HouseNewLevel', 'MasVnrAreaLevel', 'BsmtFinSF1Level',\n",
       "       'TotalBsmtSFLevel', '1stFlrSFLevel', '2ndFlrSFLevel',\n",
       "       'GrLivAreaLevel', 'GarageAreaLevel', 'OpenPorchSFLevel',\n",
       "       'LotAreaLevel', 'YearSoldMeanPrice', 'SimplOverallQual',\n",
       "       'SimplOverallCond', 'OverallGrade', 'GarageGrade', 'ExterGrade',\n",
       "       'KitchenScore', 'FireplaceScore', 'GarageScore', 'PoolScore',\n",
       "       'TotalBath', 'TotalPorchSF', 'AllSF', 'BoughtOffPlan', 'AllSF-s2',\n",
       "       'AllSF-s3', 'AllSF-sq', 'BsmtFinSF1-s2', 'BsmtFinSF1-s3',\n",
       "       'BsmtFinSF1-sq', 'LotArea-s2', 'LotArea-s3', 'LotArea-sq',\n",
       "       '2ndFlrSF-s2', '2ndFlrSF-s3', '2ndFlrSF-sq', 'GrLivArea-s2',\n",
       "       'GrLivArea-s3', 'GrLivArea-sq', 'YearBuilt-s2', 'YearBuilt-s3',\n",
       "       'YearBuilt-sq', 'OverallGrade-s2', 'OverallGrade-s3',\n",
       "       'OverallGrade-sq', 'OverallQual-s2', 'OverallQual-s3',\n",
       "       'OverallQual-sq', 'BsmtUnfSF-s2', 'BsmtUnfSF-s3', 'BsmtUnfSF-sq',\n",
       "       'GarageYrBlt-s2', 'GarageYrBlt-s3', 'GarageYrBlt-sq',\n",
       "       'TotalBath-s2', 'TotalBath-s3', 'TotalBath-sq', 'OverallCond-s2',\n",
       "       'OverallCond-s3', 'OverallCond-sq', 'NeighborPrice-s2',\n",
       "       'NeighborPrice-s3', 'NeighborPrice-sq', 'LotFrontage-s2',\n",
       "       'LotFrontage-s3', 'LotFrontage-sq', 'FireplaceScore-s2',\n",
       "       'FireplaceScore-s3', 'FireplaceScore-sq'], dtype=object)"
      ]
     },
     "execution_count": 83,
     "metadata": {},
     "output_type": "execute_result"
    }
   ],
   "source": [
    "num_columns"
   ]
  },
  {
   "cell_type": "code",
   "execution_count": 84,
   "metadata": {
    "collapsed": false
   },
   "outputs": [
    {
     "name": "stdout",
     "output_type": "stream",
     "text": [
      "160\n",
      "130\n"
     ]
    }
   ],
   "source": [
    "scater_skew_num_columns = num_columns.tolist()\n",
    "print len(scater_skew_num_columns)\n",
    "for column in num_columns:\n",
    "    # for boolean features, do not scatter and skewed\n",
    "    if set(conbined_data[column]) == {0, 1}:\n",
    "        scater_skew_num_columns.remove(column)\n",
    "\n",
    "print len(scater_skew_num_columns)"
   ]
  },
  {
   "cell_type": "code",
   "execution_count": 85,
   "metadata": {
    "collapsed": false
   },
   "outputs": [],
   "source": [
    "t = conbined_data[scater_skew_num_columns].quantile(.95)\n",
    "use_max_scater = t[t == 0].index\n",
    "use_95_scater = t[t != 0].index\n",
    "conbined_data[use_max_scater] = conbined_data[use_max_scater] / conbined_data[use_max_scater].max()\n",
    "conbined_data[use_95_scater] = conbined_data[use_95_scater] / conbined_data[use_95_scater].quantile(.95)"
   ]
  },
  {
   "cell_type": "code",
   "execution_count": 86,
   "metadata": {
    "collapsed": false,
    "scrolled": true
   },
   "outputs": [
    {
     "name": "stdout",
     "output_type": "stream",
     "text": [
      "['LotArea', 'MasVnrArea', 'BsmtFinSF1', 'BsmtFinSF2', 'BsmtUnfSF', '1stFlrSF', '2ndFlrSF', 'LowQualFinSF', 'GrLivArea', 'BsmtHalfBath', 'KitchenAbvGr', 'TotRmsAbvGrd', 'WoodDeckSF', 'OpenPorchSF', 'EnclosedPorch', '3SsnPorch', 'ScreenPorch', 'PoolArea', 'MiscVal', 'MasVnrAreaLevel', '2ndFlrSFLevel', 'SimplOverallCond', 'ExterGrade', 'FireplaceScore', 'PoolScore', 'TotalPorchSF', 'AllSF', 'AllSF-s2', 'AllSF-s3', 'BsmtFinSF1-s2', 'BsmtFinSF1-s3', 'LotArea-s2', 'LotArea-s3', 'LotArea-sq', '2ndFlrSF-s2', '2ndFlrSF-s3', 'GrLivArea-s2', 'GrLivArea-s3', 'OverallGrade-s2', 'OverallGrade-s3', 'OverallQual-s2', 'OverallQual-s3', 'BsmtUnfSF-s2', 'BsmtUnfSF-s3', 'TotalBath-s2', 'TotalBath-s3', 'OverallCond-s2', 'OverallCond-s3', 'LotFrontage-s2', 'LotFrontage-s3', 'FireplaceScore-s2', 'FireplaceScore-s3']\n",
      "skewed features 52  from total  219  features\n"
     ]
    }
   ],
   "source": [
    "# Transform the skewed numeric features by taking log(feature + 1).\n",
    "# This will make the features more normal.\n",
    "from scipy.stats import skew\n",
    "\n",
    "skewed = conbined_data[scater_skew_num_columns].apply(lambda x: skew(x.astype(float)))\n",
    "skewed = skewed[skewed > 0.75]\n",
    "skewed = skewed.index.values\n",
    "skewed_columns = []\n",
    "for column in skewed:\n",
    "    if (not column.endswith('_')) and ('Year' not in column) and ('Is' not in column) and ('Has' not in column) and ('Price' not in column):\n",
    "        skewed_columns.append(column)\n",
    "print skewed_columns\n",
    "print 'skewed features', len(skewed_columns),' from total ',conbined_data.shape[1],' features'\n",
    "conbined_data[skewed_columns] = np.log1p(conbined_data[skewed_columns])"
   ]
  },
  {
   "cell_type": "code",
   "execution_count": 87,
   "metadata": {
    "collapsed": false
   },
   "outputs": [
    {
     "data": {
      "text/plain": [
       "(2911, 219)"
      ]
     },
     "execution_count": 87,
     "metadata": {},
     "output_type": "execute_result"
    }
   ],
   "source": [
    "conbined_data.shape"
   ]
  },
  {
   "cell_type": "markdown",
   "metadata": {},
   "source": [
    "** Dummy Encoding **"
   ]
  },
  {
   "cell_type": "code",
   "execution_count": 88,
   "metadata": {
    "collapsed": false
   },
   "outputs": [
    {
     "data": {
      "text/plain": [
       "array(['MSSubClass', 'MSZoning', 'Street', 'Alley', 'LotShape',\n",
       "       'LandContour', 'Utilities', 'LotConfig', 'LandSlope',\n",
       "       'Neighborhood', 'Condition1', 'Condition2', 'BldgType',\n",
       "       'HouseStyle', 'RoofStyle', 'RoofMatl', 'Exterior1st', 'Exterior2nd',\n",
       "       'MasVnrType', 'ExterQual', 'ExterCond', 'Foundation', 'BsmtQual',\n",
       "       'BsmtCond', 'BsmtExposure', 'BsmtFinType1', 'BsmtFinType2',\n",
       "       'Heating', 'HeatingQC', 'CentralAir', 'Electrical', 'KitchenQual',\n",
       "       'Functional', 'FireplaceQu', 'GarageType', 'GarageFinish',\n",
       "       'GarageQual', 'GarageCond', 'PavedDrive', 'PoolQC', 'Fence',\n",
       "       'MiscFeature', 'MoSold', 'SaleType', 'SaleCondition', 'SimplPoolQC',\n",
       "       'SimplGarageCond', 'SimplGarageQual', 'SimplFireplaceQu',\n",
       "       'SimplFunctional', 'SimplKitchenQual', 'SimplHeatingQC',\n",
       "       'SimplBsmtFinType1', 'SimplBsmtFinType2', 'SimplBsmtCond',\n",
       "       'SimplBsmtQual', 'SimplExterCond', 'SimplExterQual'], dtype=object)"
      ]
     },
     "execution_count": 88,
     "metadata": {},
     "output_type": "execute_result"
    }
   ],
   "source": [
    "str_columns"
   ]
  },
  {
   "cell_type": "code",
   "execution_count": 89,
   "metadata": {
    "collapsed": true
   },
   "outputs": [],
   "source": [
    "dummies_data = pd.get_dummies(conbined_data[str_columns])\n",
    "conbined_data[dummies_data.columns] = dummies_data[dummies_data.columns]\n",
    "conbined_data.drop(str_columns, axis=1, inplace=True)"
   ]
  },
  {
   "cell_type": "code",
   "execution_count": 90,
   "metadata": {
    "collapsed": false
   },
   "outputs": [
    {
     "data": {
      "text/plain": [
       "(2911, 525)"
      ]
     },
     "execution_count": 90,
     "metadata": {},
     "output_type": "execute_result"
    }
   ],
   "source": [
    "conbined_data.shape"
   ]
  },
  {
   "cell_type": "markdown",
   "metadata": {},
   "source": [
    "Delete some features to prevent overfitting."
   ]
  },
  {
   "cell_type": "code",
   "execution_count": 91,
   "metadata": {
    "collapsed": false
   },
   "outputs": [],
   "source": [
    "# These onehot columns are missing in the test data, so drop them from the\n",
    "# training data or we might overfit on them.\n",
    "drop_cols = [\n",
    "                \"Exterior1st_ImStucc\", \"Exterior1st_Stone\",\n",
    "                \"Exterior2nd_Other\",\"HouseStyle_2.5Fin\", \n",
    "            \n",
    "                \"RoofMatl_Membran\", \"RoofMatl_Metal\", \"RoofMatl_Roll\",\n",
    "                \"Condition2_RRAe\", \"Condition2_RRAn\", \"Condition2_RRNn\",\n",
    "                \"Heating_Floor\", \"Heating_OthW\",\n",
    "\n",
    "                \"Electrical_Mix\", \n",
    "                \"MiscFeature_TenC\",\n",
    "                \"GarageQual_Ex\", \"PoolQC_Fa\"\n",
    "            ]\n",
    "\n",
    "conbined_data.drop(drop_cols, axis=1, inplace=True)"
   ]
  },
  {
   "cell_type": "code",
   "execution_count": 92,
   "metadata": {
    "collapsed": false
   },
   "outputs": [
    {
     "data": {
      "text/plain": [
       "(2911, 509)"
      ]
     },
     "execution_count": 92,
     "metadata": {},
     "output_type": "execute_result"
    }
   ],
   "source": [
    "conbined_data.shape"
   ]
  },
  {
   "cell_type": "code",
   "execution_count": 93,
   "metadata": {
    "collapsed": false
   },
   "outputs": [
    {
     "name": "stdout",
     "output_type": "stream",
     "text": [
      "train_X : (1452, 508)\n",
      "test_X : (1459, 508)\n",
      "train_Y : (1452,)\n"
     ]
    }
   ],
   "source": [
    "train_X = conbined_data.iloc[:train_length, 1:]\n",
    "train_Y = train_data['SalePrice']\n",
    "train_Id = conbined_data.iloc[:train_length, 0]\n",
    "\n",
    "test_X = conbined_data.iloc[train_length:, 1:]\n",
    "test_Id = conbined_data.iloc[train_length:, 0]\n",
    "\n",
    "print(\"train_X : \" + str(train_X.shape))\n",
    "print(\"test_X : \" + str(test_X.shape))\n",
    "print(\"train_Y : \" + str(train_Y.shape))"
   ]
  },
  {
   "cell_type": "code",
   "execution_count": 94,
   "metadata": {
    "collapsed": false,
    "scrolled": false
   },
   "outputs": [
    {
     "data": {
      "text/plain": [
       "(array([   5.,   12.,   54.,  184.,  469.,  400.,  215.,   88.,   19.,    6.]),\n",
       " array([ 10.46027076,  10.76769112,  11.07511148,  11.38253184,\n",
       "         11.6899522 ,  11.99737256,  12.30479292,  12.61221328,\n",
       "         12.91963363,  13.22705399,  13.53447435]),\n",
       " <a list of 10 Patch objects>)"
      ]
     },
     "execution_count": 94,
     "metadata": {},
     "output_type": "execute_result"
    },
    {
     "data": {
      "image/png": "[encoded data removed]",
      "text/plain": [
       "<matplotlib.figure.Figure at 0x7f3671ac5950>"
      ]
     },
     "metadata": {},
     "output_type": "display_data"
    }
   ],
   "source": [
    "# SalePrice distribution\n",
    "fig, (axis1,axis2) = plt.subplots(1,2,figsize=(10,5))\n",
    "axis1.hist(train_Y)\n",
    "# Transform skewed numeric features using log(p+1) transformation making them more normal\n",
    "train_Y = np.log1p(train_Y)\n",
    "axis2.hist(train_Y)"
   ]
  },
  {
   "cell_type": "markdown",
   "metadata": {},
   "source": [
    "# Save New Data"
   ]
  },
  {
   "cell_type": "code",
   "execution_count": 95,
   "metadata": {
    "collapsed": false
   },
   "outputs": [
    {
     "data": {
      "text/html": [
       "<div>\n",
       "<table border=\"1\" class=\"dataframe\">\n",
       "  <thead>\n",
       "    <tr style=\"text-align: right;\">\n",
       "      <th></th>\n",
       "      <th>LotFrontage</th>\n",
       "      <th>LotArea</th>\n",
       "      <th>OverallQual</th>\n",
       "      <th>OverallCond</th>\n",
       "      <th>YearBuilt</th>\n",
       "      <th>YearRemodAdd</th>\n",
       "      <th>MasVnrArea</th>\n",
       "      <th>BsmtFinSF1</th>\n",
       "      <th>BsmtFinSF2</th>\n",
       "      <th>BsmtUnfSF</th>\n",
       "      <th>...</th>\n",
       "      <th>SimplExterCond_Fa</th>\n",
       "      <th>SimplExterCond_Gd</th>\n",
       "      <th>SimplExterCond_Po</th>\n",
       "      <th>SimplExterCond_TA</th>\n",
       "      <th>SimplExterQual_Ex</th>\n",
       "      <th>SimplExterQual_Fa</th>\n",
       "      <th>SimplExterQual_Gd</th>\n",
       "      <th>SimplExterQual_TA</th>\n",
       "      <th>Id</th>\n",
       "      <th>SalePrice</th>\n",
       "    </tr>\n",
       "  </thead>\n",
       "  <tbody>\n",
       "    <tr>\n",
       "      <th>0</th>\n",
       "      <td>0.625000</td>\n",
       "      <td>0.405761</td>\n",
       "      <td>0.875</td>\n",
       "      <td>0.625</td>\n",
       "      <td>0.998007</td>\n",
       "      <td>0.998007</td>\n",
       "      <td>0.353963</td>\n",
       "      <td>0.440935</td>\n",
       "      <td>0.0</td>\n",
       "      <td>0.096725</td>\n",
       "      <td>...</td>\n",
       "      <td>0.0</td>\n",
       "      <td>0.0</td>\n",
       "      <td>0.0</td>\n",
       "      <td>1.0</td>\n",
       "      <td>0.0</td>\n",
       "      <td>0.0</td>\n",
       "      <td>1.0</td>\n",
       "      <td>0.0</td>\n",
       "      <td>1</td>\n",
       "      <td>12.247699</td>\n",
       "    </tr>\n",
       "    <tr>\n",
       "      <th>1</th>\n",
       "      <td>0.769231</td>\n",
       "      <td>0.450153</td>\n",
       "      <td>0.750</td>\n",
       "      <td>1.000</td>\n",
       "      <td>0.984554</td>\n",
       "      <td>0.984554</td>\n",
       "      <td>0.000000</td>\n",
       "      <td>0.569657</td>\n",
       "      <td>0.0</td>\n",
       "      <td>0.175869</td>\n",
       "      <td>...</td>\n",
       "      <td>0.0</td>\n",
       "      <td>0.0</td>\n",
       "      <td>0.0</td>\n",
       "      <td>1.0</td>\n",
       "      <td>0.0</td>\n",
       "      <td>0.0</td>\n",
       "      <td>0.0</td>\n",
       "      <td>1.0</td>\n",
       "      <td>2</td>\n",
       "      <td>12.109016</td>\n",
       "    </tr>\n",
       "    <tr>\n",
       "      <th>2</th>\n",
       "      <td>0.653846</td>\n",
       "      <td>0.510589</td>\n",
       "      <td>0.875</td>\n",
       "      <td>0.625</td>\n",
       "      <td>0.997010</td>\n",
       "      <td>0.997509</td>\n",
       "      <td>0.300867</td>\n",
       "      <td>0.323152</td>\n",
       "      <td>0.0</td>\n",
       "      <td>0.257614</td>\n",
       "      <td>...</td>\n",
       "      <td>0.0</td>\n",
       "      <td>0.0</td>\n",
       "      <td>0.0</td>\n",
       "      <td>1.0</td>\n",
       "      <td>0.0</td>\n",
       "      <td>0.0</td>\n",
       "      <td>1.0</td>\n",
       "      <td>0.0</td>\n",
       "      <td>3</td>\n",
       "      <td>12.317171</td>\n",
       "    </tr>\n",
       "    <tr>\n",
       "      <th>3</th>\n",
       "      <td>0.576923</td>\n",
       "      <td>0.448263</td>\n",
       "      <td>0.875</td>\n",
       "      <td>0.625</td>\n",
       "      <td>0.954160</td>\n",
       "      <td>0.981565</td>\n",
       "      <td>0.000000</td>\n",
       "      <td>0.156615</td>\n",
       "      <td>0.0</td>\n",
       "      <td>0.311598</td>\n",
       "      <td>...</td>\n",
       "      <td>0.0</td>\n",
       "      <td>0.0</td>\n",
       "      <td>0.0</td>\n",
       "      <td>1.0</td>\n",
       "      <td>0.0</td>\n",
       "      <td>0.0</td>\n",
       "      <td>0.0</td>\n",
       "      <td>1.0</td>\n",
       "      <td>4</td>\n",
       "      <td>11.849405</td>\n",
       "    </tr>\n",
       "    <tr>\n",
       "      <th>4</th>\n",
       "      <td>0.807692</td>\n",
       "      <td>0.612228</td>\n",
       "      <td>1.000</td>\n",
       "      <td>0.625</td>\n",
       "      <td>0.996512</td>\n",
       "      <td>0.996512</td>\n",
       "      <td>0.564402</td>\n",
       "      <td>0.414840</td>\n",
       "      <td>0.0</td>\n",
       "      <td>0.286497</td>\n",
       "      <td>...</td>\n",
       "      <td>0.0</td>\n",
       "      <td>0.0</td>\n",
       "      <td>0.0</td>\n",
       "      <td>1.0</td>\n",
       "      <td>0.0</td>\n",
       "      <td>0.0</td>\n",
       "      <td>1.0</td>\n",
       "      <td>0.0</td>\n",
       "      <td>5</td>\n",
       "      <td>12.429220</td>\n",
       "    </tr>\n",
       "  </tbody>\n",
       "</table>\n",
       "<p>5 rows × 510 columns</p>\n",
       "</div>"
      ],
      "text/plain": [
       "   LotFrontage   LotArea  OverallQual  OverallCond  YearBuilt  YearRemodAdd  \\\n",
       "0     0.625000  0.405761        0.875        0.625   0.998007      0.998007   \n",
       "1     0.769231  0.450153        0.750        1.000   0.984554      0.984554   \n",
       "2     0.653846  0.510589        0.875        0.625   0.997010      0.997509   \n",
       "3     0.576923  0.448263        0.875        0.625   0.954160      0.981565   \n",
       "4     0.807692  0.612228        1.000        0.625   0.996512      0.996512   \n",
       "\n",
       "   MasVnrArea  BsmtFinSF1  BsmtFinSF2  BsmtUnfSF    ...      \\\n",
       "0    0.353963    0.440935         0.0   0.096725    ...       \n",
       "1    0.000000    0.569657         0.0   0.175869    ...       \n",
       "2    0.300867    0.323152         0.0   0.257614    ...       \n",
       "3    0.000000    0.156615         0.0   0.311598    ...       \n",
       "4    0.564402    0.414840         0.0   0.286497    ...       \n",
       "\n",
       "   SimplExterCond_Fa  SimplExterCond_Gd  SimplExterCond_Po  SimplExterCond_TA  \\\n",
       "0                0.0                0.0                0.0                1.0   \n",
       "1                0.0                0.0                0.0                1.0   \n",
       "2                0.0                0.0                0.0                1.0   \n",
       "3                0.0                0.0                0.0                1.0   \n",
       "4                0.0                0.0                0.0                1.0   \n",
       "\n",
       "   SimplExterQual_Ex  SimplExterQual_Fa  SimplExterQual_Gd  SimplExterQual_TA  \\\n",
       "0                0.0                0.0                1.0                0.0   \n",
       "1                0.0                0.0                0.0                1.0   \n",
       "2                0.0                0.0                1.0                0.0   \n",
       "3                0.0                0.0                0.0                1.0   \n",
       "4                0.0                0.0                1.0                0.0   \n",
       "\n",
       "   Id  SalePrice  \n",
       "0   1  12.247699  \n",
       "1   2  12.109016  \n",
       "2   3  12.317171  \n",
       "3   4  11.849405  \n",
       "4   5  12.429220  \n",
       "\n",
       "[5 rows x 510 columns]"
      ]
     },
     "metadata": {},
     "output_type": "display_data"
    },
    {
     "data": {
      "text/html": [
       "<div>\n",
       "<table border=\"1\" class=\"dataframe\">\n",
       "  <thead>\n",
       "    <tr style=\"text-align: right;\">\n",
       "      <th></th>\n",
       "      <th>LotFrontage</th>\n",
       "      <th>LotArea</th>\n",
       "      <th>OverallQual</th>\n",
       "      <th>OverallCond</th>\n",
       "      <th>YearBuilt</th>\n",
       "      <th>YearRemodAdd</th>\n",
       "      <th>MasVnrArea</th>\n",
       "      <th>BsmtFinSF1</th>\n",
       "      <th>BsmtFinSF2</th>\n",
       "      <th>BsmtUnfSF</th>\n",
       "      <th>...</th>\n",
       "      <th>SimplExterCond_Ex</th>\n",
       "      <th>SimplExterCond_Fa</th>\n",
       "      <th>SimplExterCond_Gd</th>\n",
       "      <th>SimplExterCond_Po</th>\n",
       "      <th>SimplExterCond_TA</th>\n",
       "      <th>SimplExterQual_Ex</th>\n",
       "      <th>SimplExterQual_Fa</th>\n",
       "      <th>SimplExterQual_Gd</th>\n",
       "      <th>SimplExterQual_TA</th>\n",
       "      <th>Id</th>\n",
       "    </tr>\n",
       "  </thead>\n",
       "  <tbody>\n",
       "    <tr>\n",
       "      <th>0</th>\n",
       "      <td>0.769231</td>\n",
       "      <td>0.523724</td>\n",
       "      <td>0.625</td>\n",
       "      <td>0.750</td>\n",
       "      <td>0.977080</td>\n",
       "      <td>0.977080</td>\n",
       "      <td>0.000000</td>\n",
       "      <td>0.312872</td>\n",
       "      <td>0.286817</td>\n",
       "      <td>0.167887</td>\n",
       "      <td>...</td>\n",
       "      <td>0.0</td>\n",
       "      <td>0.0</td>\n",
       "      <td>0.0</td>\n",
       "      <td>0.0</td>\n",
       "      <td>1.0</td>\n",
       "      <td>0.0</td>\n",
       "      <td>0.0</td>\n",
       "      <td>0.0</td>\n",
       "      <td>1.0</td>\n",
       "      <td>1461</td>\n",
       "    </tr>\n",
       "    <tr>\n",
       "      <th>1</th>\n",
       "      <td>0.778846</td>\n",
       "      <td>0.612453</td>\n",
       "      <td>0.750</td>\n",
       "      <td>0.750</td>\n",
       "      <td>0.975585</td>\n",
       "      <td>0.975585</td>\n",
       "      <td>0.210277</td>\n",
       "      <td>0.544931</td>\n",
       "      <td>0.000000</td>\n",
       "      <td>0.242853</td>\n",
       "      <td>...</td>\n",
       "      <td>0.0</td>\n",
       "      <td>0.0</td>\n",
       "      <td>0.0</td>\n",
       "      <td>0.0</td>\n",
       "      <td>1.0</td>\n",
       "      <td>0.0</td>\n",
       "      <td>0.0</td>\n",
       "      <td>0.0</td>\n",
       "      <td>1.0</td>\n",
       "      <td>1462</td>\n",
       "    </tr>\n",
       "    <tr>\n",
       "      <th>2</th>\n",
       "      <td>0.711538</td>\n",
       "      <td>0.598325</td>\n",
       "      <td>0.625</td>\n",
       "      <td>0.625</td>\n",
       "      <td>0.995017</td>\n",
       "      <td>0.995516</td>\n",
       "      <td>0.000000</td>\n",
       "      <td>0.482969</td>\n",
       "      <td>0.000000</td>\n",
       "      <td>0.088703</td>\n",
       "      <td>...</td>\n",
       "      <td>0.0</td>\n",
       "      <td>0.0</td>\n",
       "      <td>0.0</td>\n",
       "      <td>0.0</td>\n",
       "      <td>1.0</td>\n",
       "      <td>0.0</td>\n",
       "      <td>0.0</td>\n",
       "      <td>0.0</td>\n",
       "      <td>1.0</td>\n",
       "      <td>1463</td>\n",
       "    </tr>\n",
       "    <tr>\n",
       "      <th>3</th>\n",
       "      <td>0.750000</td>\n",
       "      <td>0.464324</td>\n",
       "      <td>0.750</td>\n",
       "      <td>0.750</td>\n",
       "      <td>0.995516</td>\n",
       "      <td>0.995516</td>\n",
       "      <td>0.042424</td>\n",
       "      <td>0.386980</td>\n",
       "      <td>0.000000</td>\n",
       "      <td>0.198329</td>\n",
       "      <td>...</td>\n",
       "      <td>0.0</td>\n",
       "      <td>0.0</td>\n",
       "      <td>0.0</td>\n",
       "      <td>0.0</td>\n",
       "      <td>1.0</td>\n",
       "      <td>0.0</td>\n",
       "      <td>0.0</td>\n",
       "      <td>0.0</td>\n",
       "      <td>1.0</td>\n",
       "      <td>1464</td>\n",
       "    </tr>\n",
       "    <tr>\n",
       "      <th>4</th>\n",
       "      <td>0.413462</td>\n",
       "      <td>0.259604</td>\n",
       "      <td>1.000</td>\n",
       "      <td>0.625</td>\n",
       "      <td>0.992526</td>\n",
       "      <td>0.992526</td>\n",
       "      <td>0.000000</td>\n",
       "      <td>0.187671</td>\n",
       "      <td>0.000000</td>\n",
       "      <td>0.523875</td>\n",
       "      <td>...</td>\n",
       "      <td>0.0</td>\n",
       "      <td>0.0</td>\n",
       "      <td>0.0</td>\n",
       "      <td>0.0</td>\n",
       "      <td>1.0</td>\n",
       "      <td>0.0</td>\n",
       "      <td>0.0</td>\n",
       "      <td>1.0</td>\n",
       "      <td>0.0</td>\n",
       "      <td>1465</td>\n",
       "    </tr>\n",
       "  </tbody>\n",
       "</table>\n",
       "<p>5 rows × 509 columns</p>\n",
       "</div>"
      ],
      "text/plain": [
       "   LotFrontage   LotArea  OverallQual  OverallCond  YearBuilt  YearRemodAdd  \\\n",
       "0     0.769231  0.523724        0.625        0.750   0.977080      0.977080   \n",
       "1     0.778846  0.612453        0.750        0.750   0.975585      0.975585   \n",
       "2     0.711538  0.598325        0.625        0.625   0.995017      0.995516   \n",
       "3     0.750000  0.464324        0.750        0.750   0.995516      0.995516   \n",
       "4     0.413462  0.259604        1.000        0.625   0.992526      0.992526   \n",
       "\n",
       "   MasVnrArea  BsmtFinSF1  BsmtFinSF2  BsmtUnfSF  ...   SimplExterCond_Ex  \\\n",
       "0    0.000000    0.312872    0.286817   0.167887  ...                 0.0   \n",
       "1    0.210277    0.544931    0.000000   0.242853  ...                 0.0   \n",
       "2    0.000000    0.482969    0.000000   0.088703  ...                 0.0   \n",
       "3    0.042424    0.386980    0.000000   0.198329  ...                 0.0   \n",
       "4    0.000000    0.187671    0.000000   0.523875  ...                 0.0   \n",
       "\n",
       "   SimplExterCond_Fa  SimplExterCond_Gd  SimplExterCond_Po  SimplExterCond_TA  \\\n",
       "0                0.0                0.0                0.0                1.0   \n",
       "1                0.0                0.0                0.0                1.0   \n",
       "2                0.0                0.0                0.0                1.0   \n",
       "3                0.0                0.0                0.0                1.0   \n",
       "4                0.0                0.0                0.0                1.0   \n",
       "\n",
       "   SimplExterQual_Ex  SimplExterQual_Fa  SimplExterQual_Gd  SimplExterQual_TA  \\\n",
       "0                0.0                0.0                0.0                1.0   \n",
       "1                0.0                0.0                0.0                1.0   \n",
       "2                0.0                0.0                0.0                1.0   \n",
       "3                0.0                0.0                0.0                1.0   \n",
       "4                0.0                0.0                1.0                0.0   \n",
       "\n",
       "     Id  \n",
       "0  1461  \n",
       "1  1462  \n",
       "2  1463  \n",
       "3  1464  \n",
       "4  1465  \n",
       "\n",
       "[5 rows x 509 columns]"
      ]
     },
     "metadata": {},
     "output_type": "display_data"
    },
    {
     "name": "stdout",
     "output_type": "stream",
     "text": [
      "Done.\n"
     ]
    }
   ],
   "source": [
    "save_train = train_X.copy()\n",
    "save_test = test_X.copy()\n",
    "save_train['Id'] = train_Id\n",
    "save_train['SalePrice'] = train_Y\n",
    "save_test['Id'] = test_Id\n",
    "\n",
    "display(save_train.head())\n",
    "display(save_test.head())\n",
    "\n",
    "save_train.to_csv(\"data/new_train.csv\", index=False)\n",
    "save_test.to_csv(\"data/new_test.csv\", index=False)\n",
    "\n",
    "print 'Done.'"
   ]
  },
  {
   "cell_type": "code",
   "execution_count": null,
   "metadata": {
    "collapsed": true
   },
   "outputs": [],
   "source": []
  }
 ],
 "metadata": {
  "anaconda-cloud": {},
  "kernelspec": {
   "display_name": "Python 2",
   "language": "python",
   "name": "python2"
  },
  "language_info": {
   "codemirror_mode": {
    "name": "ipython",
    "version": 2
   },
   "file_extension": ".py",
   "mimetype": "text/x-python",
   "name": "python",
   "nbconvert_exporter": "python",
   "pygments_lexer": "ipython2",
   "version": "2.7.6"
  }
 },
 "nbformat": 4,
 "nbformat_minor": 1
}
