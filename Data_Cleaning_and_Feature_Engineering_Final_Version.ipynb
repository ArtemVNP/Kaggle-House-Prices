{
 "cells": [
  {
   "cell_type": "code",
   "execution_count": 1,
   "metadata": {
    "collapsed": false
   },
   "outputs": [],
   "source": [
    "# pandas\n",
    "import pandas as pd\n",
    "from pandas import Series,DataFrame\n",
    "\n",
    "# numpy, matplotlib, seaborn\n",
    "import numpy as np\n",
    "import matplotlib.pyplot as plt\n",
    "import seaborn as sns\n",
    "sns.set_style('whitegrid')\n",
    "%matplotlib inline\n",
    "\n",
    "from IPython.display import display\n",
    "\n",
    "# remove warnings\n",
    "import warnings\n",
    "warnings.filterwarnings('ignore')"
   ]
  },
  {
   "cell_type": "markdown",
   "metadata": {},
   "source": [
    "# Load and pick Datas"
   ]
  },
  {
   "cell_type": "code",
   "execution_count": 2,
   "metadata": {
    "collapsed": false,
    "scrolled": true
   },
   "outputs": [
    {
     "name": "stdout",
     "output_type": "stream",
     "text": [
      "(1460, 81)\n"
     ]
    },
    {
     "data": {
      "text/html": [
       "<div>\n",
       "<table border=\"1\" class=\"dataframe\">\n",
       "  <thead>\n",
       "    <tr style=\"text-align: right;\">\n",
       "      <th></th>\n",
       "      <th>Id</th>\n",
       "      <th>MSSubClass</th>\n",
       "      <th>MSZoning</th>\n",
       "      <th>LotFrontage</th>\n",
       "      <th>LotArea</th>\n",
       "      <th>Street</th>\n",
       "      <th>Alley</th>\n",
       "      <th>LotShape</th>\n",
       "      <th>LandContour</th>\n",
       "      <th>Utilities</th>\n",
       "      <th>...</th>\n",
       "      <th>PoolArea</th>\n",
       "      <th>PoolQC</th>\n",
       "      <th>Fence</th>\n",
       "      <th>MiscFeature</th>\n",
       "      <th>MiscVal</th>\n",
       "      <th>MoSold</th>\n",
       "      <th>YrSold</th>\n",
       "      <th>SaleType</th>\n",
       "      <th>SaleCondition</th>\n",
       "      <th>SalePrice</th>\n",
       "    </tr>\n",
       "  </thead>\n",
       "  <tbody>\n",
       "    <tr>\n",
       "      <th>0</th>\n",
       "      <td>1</td>\n",
       "      <td>60</td>\n",
       "      <td>RL</td>\n",
       "      <td>65.0</td>\n",
       "      <td>8450</td>\n",
       "      <td>Pave</td>\n",
       "      <td>NaN</td>\n",
       "      <td>Reg</td>\n",
       "      <td>Lvl</td>\n",
       "      <td>AllPub</td>\n",
       "      <td>...</td>\n",
       "      <td>0</td>\n",
       "      <td>NaN</td>\n",
       "      <td>NaN</td>\n",
       "      <td>NaN</td>\n",
       "      <td>0</td>\n",
       "      <td>2</td>\n",
       "      <td>2008</td>\n",
       "      <td>WD</td>\n",
       "      <td>Normal</td>\n",
       "      <td>208500</td>\n",
       "    </tr>\n",
       "  </tbody>\n",
       "</table>\n",
       "<p>1 rows × 81 columns</p>\n",
       "</div>"
      ],
      "text/plain": [
       "   Id  MSSubClass MSZoning  LotFrontage  LotArea Street Alley LotShape  \\\n",
       "0   1          60       RL         65.0     8450   Pave   NaN      Reg   \n",
       "\n",
       "  LandContour Utilities    ...     PoolArea PoolQC Fence MiscFeature MiscVal  \\\n",
       "0         Lvl    AllPub    ...            0    NaN   NaN         NaN       0   \n",
       "\n",
       "  MoSold YrSold  SaleType  SaleCondition  SalePrice  \n",
       "0      2   2008        WD         Normal     208500  \n",
       "\n",
       "[1 rows x 81 columns]"
      ]
     },
     "metadata": {},
     "output_type": "display_data"
    },
    {
     "name": "stdout",
     "output_type": "stream",
     "text": [
      "(1459, 80)\n"
     ]
    },
    {
     "data": {
      "text/html": [
       "<div>\n",
       "<table border=\"1\" class=\"dataframe\">\n",
       "  <thead>\n",
       "    <tr style=\"text-align: right;\">\n",
       "      <th></th>\n",
       "      <th>Id</th>\n",
       "      <th>MSSubClass</th>\n",
       "      <th>MSZoning</th>\n",
       "      <th>LotFrontage</th>\n",
       "      <th>LotArea</th>\n",
       "      <th>Street</th>\n",
       "      <th>Alley</th>\n",
       "      <th>LotShape</th>\n",
       "      <th>LandContour</th>\n",
       "      <th>Utilities</th>\n",
       "      <th>...</th>\n",
       "      <th>ScreenPorch</th>\n",
       "      <th>PoolArea</th>\n",
       "      <th>PoolQC</th>\n",
       "      <th>Fence</th>\n",
       "      <th>MiscFeature</th>\n",
       "      <th>MiscVal</th>\n",
       "      <th>MoSold</th>\n",
       "      <th>YrSold</th>\n",
       "      <th>SaleType</th>\n",
       "      <th>SaleCondition</th>\n",
       "    </tr>\n",
       "  </thead>\n",
       "  <tbody>\n",
       "    <tr>\n",
       "      <th>0</th>\n",
       "      <td>1461</td>\n",
       "      <td>20</td>\n",
       "      <td>RH</td>\n",
       "      <td>80.0</td>\n",
       "      <td>11622</td>\n",
       "      <td>Pave</td>\n",
       "      <td>NaN</td>\n",
       "      <td>Reg</td>\n",
       "      <td>Lvl</td>\n",
       "      <td>AllPub</td>\n",
       "      <td>...</td>\n",
       "      <td>120</td>\n",
       "      <td>0</td>\n",
       "      <td>NaN</td>\n",
       "      <td>MnPrv</td>\n",
       "      <td>NaN</td>\n",
       "      <td>0</td>\n",
       "      <td>6</td>\n",
       "      <td>2010</td>\n",
       "      <td>WD</td>\n",
       "      <td>Normal</td>\n",
       "    </tr>\n",
       "  </tbody>\n",
       "</table>\n",
       "<p>1 rows × 80 columns</p>\n",
       "</div>"
      ],
      "text/plain": [
       "     Id  MSSubClass MSZoning  LotFrontage  LotArea Street Alley LotShape  \\\n",
       "0  1461          20       RH         80.0    11622   Pave   NaN      Reg   \n",
       "\n",
       "  LandContour Utilities      ...       ScreenPorch PoolArea PoolQC  Fence  \\\n",
       "0         Lvl    AllPub      ...               120        0    NaN  MnPrv   \n",
       "\n",
       "  MiscFeature MiscVal MoSold  YrSold  SaleType  SaleCondition  \n",
       "0         NaN       0      6    2010        WD         Normal  \n",
       "\n",
       "[1 rows x 80 columns]"
      ]
     },
     "metadata": {},
     "output_type": "display_data"
    }
   ],
   "source": [
    "train_data = pd.read_csv('data/train.csv')\n",
    "test_data = pd.read_csv('data/test.csv')\n",
    "\n",
    "print train_data.shape\n",
    "display(train_data.head(1))\n",
    "# display(train_data.info())\n",
    "\n",
    "print test_data.shape\n",
    "display(test_data.head(1))\n",
    "# display(test_data.info())\n",
    "train_length = train_data.shape[0]"
   ]
  },
  {
   "cell_type": "code",
   "execution_count": 3,
   "metadata": {
    "collapsed": false
   },
   "outputs": [
    {
     "data": {
      "text/html": [
       "<div>\n",
       "<table border=\"1\" class=\"dataframe\">\n",
       "  <thead>\n",
       "    <tr style=\"text-align: right;\">\n",
       "      <th></th>\n",
       "      <th>Id</th>\n",
       "      <th>MSSubClass</th>\n",
       "      <th>MSZoning</th>\n",
       "      <th>LotFrontage</th>\n",
       "      <th>LotArea</th>\n",
       "      <th>Street</th>\n",
       "      <th>Alley</th>\n",
       "      <th>LotShape</th>\n",
       "      <th>LandContour</th>\n",
       "      <th>Utilities</th>\n",
       "      <th>...</th>\n",
       "      <th>ScreenPorch</th>\n",
       "      <th>PoolArea</th>\n",
       "      <th>PoolQC</th>\n",
       "      <th>Fence</th>\n",
       "      <th>MiscFeature</th>\n",
       "      <th>MiscVal</th>\n",
       "      <th>MoSold</th>\n",
       "      <th>YrSold</th>\n",
       "      <th>SaleType</th>\n",
       "      <th>SaleCondition</th>\n",
       "    </tr>\n",
       "  </thead>\n",
       "  <tbody>\n",
       "    <tr>\n",
       "      <th>0</th>\n",
       "      <td>1</td>\n",
       "      <td>60</td>\n",
       "      <td>RL</td>\n",
       "      <td>65.0</td>\n",
       "      <td>8450</td>\n",
       "      <td>Pave</td>\n",
       "      <td>NaN</td>\n",
       "      <td>Reg</td>\n",
       "      <td>Lvl</td>\n",
       "      <td>AllPub</td>\n",
       "      <td>...</td>\n",
       "      <td>0</td>\n",
       "      <td>0</td>\n",
       "      <td>NaN</td>\n",
       "      <td>NaN</td>\n",
       "      <td>NaN</td>\n",
       "      <td>0</td>\n",
       "      <td>2</td>\n",
       "      <td>2008</td>\n",
       "      <td>WD</td>\n",
       "      <td>Normal</td>\n",
       "    </tr>\n",
       "  </tbody>\n",
       "</table>\n",
       "<p>1 rows × 80 columns</p>\n",
       "</div>"
      ],
      "text/plain": [
       "   Id  MSSubClass MSZoning  LotFrontage  LotArea Street Alley LotShape  \\\n",
       "0   1          60       RL         65.0     8450   Pave   NaN      Reg   \n",
       "\n",
       "  LandContour Utilities      ...       ScreenPorch PoolArea PoolQC Fence  \\\n",
       "0         Lvl    AllPub      ...                 0        0    NaN   NaN   \n",
       "\n",
       "  MiscFeature MiscVal MoSold  YrSold  SaleType  SaleCondition  \n",
       "0         NaN       0      2    2008        WD         Normal  \n",
       "\n",
       "[1 rows x 80 columns]"
      ]
     },
     "metadata": {},
     "output_type": "display_data"
    },
    {
     "name": "stdout",
     "output_type": "stream",
     "text": [
      "(2919, 80)\n"
     ]
    }
   ],
   "source": [
    "conbined_data = pd.concat([train_data.loc[:, : 'SalePrice'], test_data])\n",
    "conbined_data = conbined_data[test_data.columns]\n",
    "display(conbined_data.head(1))\n",
    "print conbined_data.shape"
   ]
  },
  {
   "cell_type": "markdown",
   "metadata": {},
   "source": [
    "# Filling up missing values"
   ]
  },
  {
   "cell_type": "code",
   "execution_count": 4,
   "metadata": {
    "collapsed": false
   },
   "outputs": [
    {
     "name": "stdout",
     "output_type": "stream",
     "text": [
      "how many data missed each column of train/test/conbine datas\n"
     ]
    },
    {
     "data": {
      "text/html": [
       "<div>\n",
       "<table border=\"1\" class=\"dataframe\">\n",
       "  <thead>\n",
       "    <tr style=\"text-align: right;\">\n",
       "      <th></th>\n",
       "      <th>MSZoning</th>\n",
       "      <th>LotFrontage</th>\n",
       "      <th>Alley</th>\n",
       "      <th>Utilities</th>\n",
       "      <th>Exterior1st</th>\n",
       "      <th>Exterior2nd</th>\n",
       "      <th>MasVnrType</th>\n",
       "      <th>MasVnrArea</th>\n",
       "      <th>BsmtQual</th>\n",
       "      <th>BsmtCond</th>\n",
       "      <th>...</th>\n",
       "      <th>GarageYrBlt</th>\n",
       "      <th>GarageFinish</th>\n",
       "      <th>GarageCars</th>\n",
       "      <th>GarageArea</th>\n",
       "      <th>GarageQual</th>\n",
       "      <th>GarageCond</th>\n",
       "      <th>PoolQC</th>\n",
       "      <th>Fence</th>\n",
       "      <th>MiscFeature</th>\n",
       "      <th>SaleType</th>\n",
       "    </tr>\n",
       "  </thead>\n",
       "  <tbody>\n",
       "    <tr>\n",
       "      <th>train</th>\n",
       "      <td>0</td>\n",
       "      <td>259</td>\n",
       "      <td>1369</td>\n",
       "      <td>0</td>\n",
       "      <td>0</td>\n",
       "      <td>0</td>\n",
       "      <td>8</td>\n",
       "      <td>8</td>\n",
       "      <td>37</td>\n",
       "      <td>37</td>\n",
       "      <td>...</td>\n",
       "      <td>81</td>\n",
       "      <td>81</td>\n",
       "      <td>0</td>\n",
       "      <td>0</td>\n",
       "      <td>81</td>\n",
       "      <td>81</td>\n",
       "      <td>1453</td>\n",
       "      <td>1179</td>\n",
       "      <td>1406</td>\n",
       "      <td>0</td>\n",
       "    </tr>\n",
       "    <tr>\n",
       "      <th>test</th>\n",
       "      <td>4</td>\n",
       "      <td>227</td>\n",
       "      <td>1352</td>\n",
       "      <td>2</td>\n",
       "      <td>1</td>\n",
       "      <td>1</td>\n",
       "      <td>16</td>\n",
       "      <td>15</td>\n",
       "      <td>44</td>\n",
       "      <td>45</td>\n",
       "      <td>...</td>\n",
       "      <td>78</td>\n",
       "      <td>78</td>\n",
       "      <td>1</td>\n",
       "      <td>1</td>\n",
       "      <td>78</td>\n",
       "      <td>78</td>\n",
       "      <td>1456</td>\n",
       "      <td>1169</td>\n",
       "      <td>1408</td>\n",
       "      <td>1</td>\n",
       "    </tr>\n",
       "    <tr>\n",
       "      <th>conbine</th>\n",
       "      <td>4</td>\n",
       "      <td>486</td>\n",
       "      <td>2721</td>\n",
       "      <td>2</td>\n",
       "      <td>1</td>\n",
       "      <td>1</td>\n",
       "      <td>24</td>\n",
       "      <td>23</td>\n",
       "      <td>81</td>\n",
       "      <td>82</td>\n",
       "      <td>...</td>\n",
       "      <td>159</td>\n",
       "      <td>159</td>\n",
       "      <td>1</td>\n",
       "      <td>1</td>\n",
       "      <td>159</td>\n",
       "      <td>159</td>\n",
       "      <td>2909</td>\n",
       "      <td>2348</td>\n",
       "      <td>2814</td>\n",
       "      <td>1</td>\n",
       "    </tr>\n",
       "  </tbody>\n",
       "</table>\n",
       "<p>3 rows × 34 columns</p>\n",
       "</div>"
      ],
      "text/plain": [
       "         MSZoning  LotFrontage  Alley  Utilities  Exterior1st  Exterior2nd  \\\n",
       "train           0          259   1369          0            0            0   \n",
       "test            4          227   1352          2            1            1   \n",
       "conbine         4          486   2721          2            1            1   \n",
       "\n",
       "         MasVnrType  MasVnrArea  BsmtQual  BsmtCond    ...     GarageYrBlt  \\\n",
       "train             8           8        37        37    ...              81   \n",
       "test             16          15        44        45    ...              78   \n",
       "conbine          24          23        81        82    ...             159   \n",
       "\n",
       "         GarageFinish  GarageCars  GarageArea  GarageQual  GarageCond  PoolQC  \\\n",
       "train              81           0           0          81          81    1453   \n",
       "test               78           1           1          78          78    1456   \n",
       "conbine           159           1           1         159         159    2909   \n",
       "\n",
       "         Fence  MiscFeature  SaleType  \n",
       "train     1179         1406         0  \n",
       "test      1169         1408         1  \n",
       "conbine   2348         2814         1  \n",
       "\n",
       "[3 rows x 34 columns]"
      ]
     },
     "execution_count": 4,
     "metadata": {},
     "output_type": "execute_result"
    }
   ],
   "source": [
    "# miss data columns\n",
    "has_null_columns = conbined_data.columns[conbined_data.isnull().any()].tolist()\n",
    "# how many data missed each column of train/test/conbine datas\n",
    "train_null = train_data[has_null_columns].isnull().sum()\n",
    "test_null = test_data[has_null_columns].isnull().sum()\n",
    "conbined_null = conbined_data[has_null_columns].isnull().sum()\n",
    "\n",
    "print 'how many data missed each column of train/test/conbine datas'\n",
    "missed_data = pd.DataFrame(data=[train_null, test_null, conbined_null],\n",
    "                             index=['train', 'test', 'conbine'], \n",
    "                             columns=has_null_columns)\n",
    "missed_data"
   ]
  },
  {
   "cell_type": "code",
   "execution_count": 5,
   "metadata": {
    "collapsed": true
   },
   "outputs": [],
   "source": [
    "def fill_missing_conbined_data(column, value):\n",
    "    conbined_data.loc[conbined_data[column].isnull(),column] = value"
   ]
  },
  {
   "cell_type": "markdown",
   "metadata": {},
   "source": [
    "** LotFrontage/LotArea **\n",
    "\n",
    "对于缺失的 LotFrontage（Linear feet of street connected to property），一般采用平均值进行填充，但考虑到可能与 不同的 Neighborhood 有关系。"
   ]
  },
  {
   "cell_type": "code",
   "execution_count": 6,
   "metadata": {
    "collapsed": false
   },
   "outputs": [
    {
     "data": {
      "text/plain": [
       "<matplotlib.axes.AxesSubplot at 0x7f024e44a050>"
      ]
     },
     "execution_count": 6,
     "metadata": {},
     "output_type": "execute_result"
    },
    {
     "data": {
      "image/png": "[encoded data removed]",
      "text/plain": [
       "<matplotlib.figure.Figure at 0x7f024e44a110>"
      ]
     },
     "metadata": {},
     "output_type": "display_data"
    }
   ],
   "source": [
    "conbined_data['LotFrontage'].groupby(conbined_data[\"Neighborhood\"]).median().plot()\n",
    "conbined_data['LotFrontage'].groupby(conbined_data[\"Neighborhood\"]).mean().plot()"
   ]
  },
  {
   "cell_type": "code",
   "execution_count": 7,
   "metadata": {
    "collapsed": false,
    "scrolled": true
   },
   "outputs": [],
   "source": [
    "lf_neighbor_map = conbined_data['LotFrontage'].groupby(conbined_data[\"Neighborhood\"]).median()\n",
    "    \n",
    "rows = conbined_data['LotFrontage'].isnull()\n",
    "conbined_data['LotFrontage'][rows] = conbined_data['Neighborhood'][rows].map(lambda neighbor : lf_neighbor_map[neighbor])"
   ]
  },
  {
   "cell_type": "code",
   "execution_count": 8,
   "metadata": {
    "collapsed": false
   },
   "outputs": [
    {
     "data": {
      "text/html": [
       "<div>\n",
       "<table border=\"1\" class=\"dataframe\">\n",
       "  <thead>\n",
       "    <tr style=\"text-align: right;\">\n",
       "      <th></th>\n",
       "      <th>Id</th>\n",
       "      <th>MSSubClass</th>\n",
       "      <th>MSZoning</th>\n",
       "      <th>LotFrontage</th>\n",
       "      <th>LotArea</th>\n",
       "      <th>Street</th>\n",
       "      <th>Alley</th>\n",
       "      <th>LotShape</th>\n",
       "      <th>LandContour</th>\n",
       "      <th>Utilities</th>\n",
       "      <th>...</th>\n",
       "      <th>ScreenPorch</th>\n",
       "      <th>PoolArea</th>\n",
       "      <th>PoolQC</th>\n",
       "      <th>Fence</th>\n",
       "      <th>MiscFeature</th>\n",
       "      <th>MiscVal</th>\n",
       "      <th>MoSold</th>\n",
       "      <th>YrSold</th>\n",
       "      <th>SaleType</th>\n",
       "      <th>SaleCondition</th>\n",
       "    </tr>\n",
       "  </thead>\n",
       "  <tbody>\n",
       "  </tbody>\n",
       "</table>\n",
       "<p>0 rows × 80 columns</p>\n",
       "</div>"
      ],
      "text/plain": [
       "Empty DataFrame\n",
       "Columns: [Id, MSSubClass, MSZoning, LotFrontage, LotArea, Street, Alley, LotShape, LandContour, Utilities, LotConfig, LandSlope, Neighborhood, Condition1, Condition2, BldgType, HouseStyle, OverallQual, OverallCond, YearBuilt, YearRemodAdd, RoofStyle, RoofMatl, Exterior1st, Exterior2nd, MasVnrType, MasVnrArea, ExterQual, ExterCond, Foundation, BsmtQual, BsmtCond, BsmtExposure, BsmtFinType1, BsmtFinSF1, BsmtFinType2, BsmtFinSF2, BsmtUnfSF, TotalBsmtSF, Heating, HeatingQC, CentralAir, Electrical, 1stFlrSF, 2ndFlrSF, LowQualFinSF, GrLivArea, BsmtFullBath, BsmtHalfBath, FullBath, HalfBath, BedroomAbvGr, KitchenAbvGr, KitchenQual, TotRmsAbvGrd, Functional, Fireplaces, FireplaceQu, GarageType, GarageYrBlt, GarageFinish, GarageCars, GarageArea, GarageQual, GarageCond, PavedDrive, WoodDeckSF, OpenPorchSF, EnclosedPorch, 3SsnPorch, ScreenPorch, PoolArea, PoolQC, Fence, MiscFeature, MiscVal, MoSold, YrSold, SaleType, SaleCondition]\n",
       "Index: []\n",
       "\n",
       "[0 rows x 80 columns]"
      ]
     },
     "execution_count": 8,
     "metadata": {},
     "output_type": "execute_result"
    }
   ],
   "source": [
    "conbined_data[conbined_data['LotFrontage'].isnull()]"
   ]
  },
  {
   "cell_type": "markdown",
   "metadata": {},
   "source": [
    "** Alley **"
   ]
  },
  {
   "cell_type": "code",
   "execution_count": 9,
   "metadata": {
    "collapsed": false,
    "scrolled": true
   },
   "outputs": [
    {
     "data": {
      "text/plain": [
       "((2919, 80), (2721, 80))"
      ]
     },
     "execution_count": 9,
     "metadata": {},
     "output_type": "execute_result"
    }
   ],
   "source": [
    "conbined_data.shape, conbined_data[conbined_data['Alley'].isnull()].shape"
   ]
  },
  {
   "cell_type": "markdown",
   "metadata": {},
   "source": [
    "2919 条数据缺失 2721 条，缺失数据过多(93.2%),将缺失数据填充为 NA（NA->No alley access）。"
   ]
  },
  {
   "cell_type": "code",
   "execution_count": 10,
   "metadata": {
    "collapsed": false
   },
   "outputs": [],
   "source": [
    "fill_missing_conbined_data('Alley', 'NA')"
   ]
  },
  {
   "cell_type": "markdown",
   "metadata": {},
   "source": [
    "** MasVnrType / MasVnrArea **\n",
    "\n",
    "方形单板砌体类型/面积，将缺失数据填充为出现次数最多的类型"
   ]
  },
  {
   "cell_type": "code",
   "execution_count": 11,
   "metadata": {
    "collapsed": false
   },
   "outputs": [],
   "source": [
    "conbined_data['MasVnrType'].fillna('None', inplace=True)\n",
    "conbined_data['MasVnrArea'].fillna(0, inplace=True)"
   ]
  },
  {
   "cell_type": "markdown",
   "metadata": {},
   "source": [
    "** BsmtQual / BsmtCond / BsmtExposure / BsmtFinType1 / BsmtFinType2 **\n",
    "\n",
    "缺失 37 / 38 条数据。"
   ]
  },
  {
   "cell_type": "code",
   "execution_count": 12,
   "metadata": {
    "collapsed": false
   },
   "outputs": [],
   "source": [
    "basement_cols=['BsmtQual','BsmtCond','BsmtExposure','BsmtFinType1','BsmtFinType2','BsmtFinSF1','BsmtFinSF2']"
   ]
  },
  {
   "cell_type": "code",
   "execution_count": 13,
   "metadata": {
    "collapsed": false
   },
   "outputs": [],
   "source": [
    "# 对于缺失的字符串类型的数据填充为 NA，表示 No Basement\n",
    "for column in basement_cols:\n",
    "    if 'FinSF'not in column:\n",
    "        # NA\tNo Basement\n",
    "        fill_missing_conbined_data(column, 'NA')"
   ]
  },
  {
   "cell_type": "code",
   "execution_count": 14,
   "metadata": {
    "collapsed": false
   },
   "outputs": [],
   "source": [
    "# 对于数值型的 BsmtFinSF1 和 BsmtFinSF2\n",
    "fill_missing_conbined_data('BsmtFinSF1', 0)\n",
    "fill_missing_conbined_data('BsmtFinSF2', 0)"
   ]
  },
  {
   "cell_type": "markdown",
   "metadata": {},
   "source": [
    "** Electrical **\n",
    "\n",
    "缺失一条数据,填充为出现次数最多的。"
   ]
  },
  {
   "cell_type": "code",
   "execution_count": 15,
   "metadata": {
    "collapsed": false
   },
   "outputs": [
    {
     "data": {
      "text/plain": [
       "<matplotlib.axes.AxesSubplot at 0x7f02b2f0b8d0>"
      ]
     },
     "execution_count": 15,
     "metadata": {},
     "output_type": "execute_result"
    },
    {
     "data": {
      "image/png": "[encoded data removed]",
      "text/plain": [
       "<matplotlib.figure.Figure at 0x7f02a49244d0>"
      ]
     },
     "metadata": {},
     "output_type": "display_data"
    }
   ],
   "source": [
    "sns.countplot(conbined_data['Electrical'])"
   ]
  },
  {
   "cell_type": "code",
   "execution_count": 16,
   "metadata": {
    "collapsed": true
   },
   "outputs": [],
   "source": [
    "fill_missing_conbined_data('Electrical', 'SBrkr')"
   ]
  },
  {
   "cell_type": "markdown",
   "metadata": {},
   "source": [
    "** FireplaceQu **\n",
    "\n",
    "缺失 1420 条数据"
   ]
  },
  {
   "cell_type": "code",
   "execution_count": 17,
   "metadata": {
    "collapsed": false
   },
   "outputs": [],
   "source": [
    "# 对于 Fireplaces 为 0 的，FireplaceQu 设置为 NA，表示 No Fireplace，此即缺失的 1420 条数据的情况\n",
    "fill_missing_conbined_data('FireplaceQu', 'NA')"
   ]
  },
  {
   "cell_type": "markdown",
   "metadata": {},
   "source": [
    "** PoolQC **\n",
    "\n",
    "PoolQC 缺失 2909 条数据，是否与 PoolArea 有关。"
   ]
  },
  {
   "cell_type": "code",
   "execution_count": 18,
   "metadata": {
    "collapsed": false
   },
   "outputs": [],
   "source": [
    "fill_missing_conbined_data('PoolQC', 'NA')"
   ]
  },
  {
   "cell_type": "markdown",
   "metadata": {},
   "source": [
    "** MiscFeature **"
   ]
  },
  {
   "cell_type": "code",
   "execution_count": 19,
   "metadata": {
    "collapsed": true
   },
   "outputs": [],
   "source": [
    "fill_missing_conbined_data('MiscFeature', 'NA')"
   ]
  },
  {
   "cell_type": "markdown",
   "metadata": {},
   "source": [
    "** Fence **"
   ]
  },
  {
   "cell_type": "code",
   "execution_count": 20,
   "metadata": {
    "collapsed": false
   },
   "outputs": [],
   "source": [
    "fill_missing_conbined_data('Fence', 'NA')"
   ]
  },
  {
   "cell_type": "markdown",
   "metadata": {},
   "source": [
    "** Garages **"
   ]
  },
  {
   "cell_type": "code",
   "execution_count": 21,
   "metadata": {
    "collapsed": false
   },
   "outputs": [
    {
     "data": {
      "text/html": [
       "<div>\n",
       "<table border=\"1\" class=\"dataframe\">\n",
       "  <thead>\n",
       "    <tr style=\"text-align: right;\">\n",
       "      <th></th>\n",
       "      <th>GarageType</th>\n",
       "      <th>GarageQual</th>\n",
       "      <th>GarageCond</th>\n",
       "      <th>GarageYrBlt</th>\n",
       "      <th>GarageFinish</th>\n",
       "      <th>GarageCars</th>\n",
       "      <th>GarageArea</th>\n",
       "    </tr>\n",
       "  </thead>\n",
       "  <tbody>\n",
       "    <tr>\n",
       "      <th>39</th>\n",
       "      <td>NaN</td>\n",
       "      <td>NaN</td>\n",
       "      <td>NaN</td>\n",
       "      <td>NaN</td>\n",
       "      <td>NaN</td>\n",
       "      <td>0.0</td>\n",
       "      <td>0.0</td>\n",
       "    </tr>\n",
       "  </tbody>\n",
       "</table>\n",
       "</div>"
      ],
      "text/plain": [
       "   GarageType GarageQual GarageCond  GarageYrBlt GarageFinish  GarageCars  \\\n",
       "39        NaN        NaN        NaN          NaN          NaN         0.0   \n",
       "\n",
       "    GarageArea  \n",
       "39         0.0  "
      ]
     },
     "execution_count": 21,
     "metadata": {},
     "output_type": "execute_result"
    }
   ],
   "source": [
    "garage_cols=['GarageType','GarageQual','GarageCond','GarageYrBlt','GarageFinish','GarageCars','GarageArea']\n",
    "conbined_data[garage_cols][conbined_data['GarageType'].isnull()==True].head(1)"
   ]
  },
  {
   "cell_type": "code",
   "execution_count": 22,
   "metadata": {
    "collapsed": true
   },
   "outputs": [],
   "source": [
    "# 对于缺失的字符串类型的数据填充为 NA，表示 No Garage\n",
    "for column in garage_cols:\n",
    "    if column != 'GarageCars' and column != 'GarageArea':\n",
    "        # NA\tNo Basement\n",
    "        fill_missing_conbined_data(column, 'NA')\n",
    "    else:\n",
    "        fill_missing_conbined_data(column, 0)"
   ]
  },
  {
   "cell_type": "markdown",
   "metadata": {},
   "source": [
    "** MSZoning **"
   ]
  },
  {
   "cell_type": "code",
   "execution_count": 23,
   "metadata": {
    "collapsed": false
   },
   "outputs": [
    {
     "data": {
      "text/plain": [
       "<matplotlib.axes.AxesSubplot at 0x7f024e46d0d0>"
      ]
     },
     "execution_count": 23,
     "metadata": {},
     "output_type": "execute_result"
    },
    {
     "data": {
      "image/png": "[encoded data removed]",
      "text/plain": [
       "<matplotlib.figure.Figure at 0x7f024e256210>"
      ]
     },
     "metadata": {},
     "output_type": "display_data"
    }
   ],
   "source": [
    "sns.countplot(conbined_data['MSZoning'])"
   ]
  },
  {
   "cell_type": "code",
   "execution_count": 24,
   "metadata": {
    "collapsed": true
   },
   "outputs": [],
   "source": [
    "fill_missing_conbined_data('MSZoning', 'RL')"
   ]
  },
  {
   "cell_type": "markdown",
   "metadata": {},
   "source": [
    "** Utilities **\n",
    "\n",
    "**Definitely ignoring Utilities** : all records are \"AllPub\", except for one \"NoSeWa\" in the train set and 2 NA in the test set."
   ]
  },
  {
   "cell_type": "code",
   "execution_count": 25,
   "metadata": {
    "collapsed": false
   },
   "outputs": [
    {
     "data": {
      "text/plain": [
       "<matplotlib.axes.AxesSubplot at 0x7f024e1a4a10>"
      ]
     },
     "execution_count": 25,
     "metadata": {},
     "output_type": "execute_result"
    },
    {
     "data": {
      "image/png": "[encoded data removed]",
      "text/plain": [
       "<matplotlib.figure.Figure at 0x7f024e28add0>"
      ]
     },
     "metadata": {},
     "output_type": "display_data"
    }
   ],
   "source": [
    "sns.countplot(conbined_data['Utilities'])"
   ]
  },
  {
   "cell_type": "code",
   "execution_count": 26,
   "metadata": {
    "collapsed": true
   },
   "outputs": [],
   "source": [
    "fill_missing_conbined_data('Utilities', 'AllPub')"
   ]
  },
  {
   "cell_type": "markdown",
   "metadata": {},
   "source": [
    "** Exterior1st / Exterior2nd**"
   ]
  },
  {
   "cell_type": "code",
   "execution_count": 27,
   "metadata": {
    "collapsed": false
   },
   "outputs": [
    {
     "data": {
      "text/plain": [
       "<matplotlib.axes.AxesSubplot at 0x7f024df9b910>"
      ]
     },
     "execution_count": 27,
     "metadata": {},
     "output_type": "execute_result"
    },
    {
     "data": {
      "image/png": "[encoded data removed]",
      "text/plain": [
       "<matplotlib.figure.Figure at 0x7f024e2c79d0>"
      ]
     },
     "metadata": {},
     "output_type": "display_data"
    }
   ],
   "source": [
    "sns.countplot(conbined_data['Exterior1st'])"
   ]
  },
  {
   "cell_type": "code",
   "execution_count": 28,
   "metadata": {
    "collapsed": true
   },
   "outputs": [],
   "source": [
    "fill_missing_conbined_data('Exterior1st', 'VinylSd')"
   ]
  },
  {
   "cell_type": "code",
   "execution_count": 29,
   "metadata": {
    "collapsed": false
   },
   "outputs": [
    {
     "data": {
      "text/plain": [
       "<matplotlib.axes.AxesSubplot at 0x7f024df9b250>"
      ]
     },
     "execution_count": 29,
     "metadata": {},
     "output_type": "execute_result"
    },
    {
     "data": {
      "image/png": "[encoded data removed]",
      "text/plain": [
       "<matplotlib.figure.Figure at 0x7f024df9bdd0>"
      ]
     },
     "metadata": {},
     "output_type": "display_data"
    }
   ],
   "source": [
    "sns.countplot(conbined_data['Exterior2nd'])"
   ]
  },
  {
   "cell_type": "code",
   "execution_count": 30,
   "metadata": {
    "collapsed": true
   },
   "outputs": [],
   "source": [
    "fill_missing_conbined_data('Exterior2nd', 'VinylSd')"
   ]
  },
  {
   "cell_type": "markdown",
   "metadata": {},
   "source": [
    "** BsmtUnfSF / TotalBsmtSF **"
   ]
  },
  {
   "cell_type": "code",
   "execution_count": 31,
   "metadata": {
    "collapsed": true
   },
   "outputs": [],
   "source": [
    "# 可以发现，对于缺失的 TotalBsmtSF 和 BsmtUnfSF 填充为0\n",
    "fill_missing_conbined_data('BsmtUnfSF', 0)\n",
    "fill_missing_conbined_data('TotalBsmtSF', 0)"
   ]
  },
  {
   "cell_type": "markdown",
   "metadata": {},
   "source": [
    "** BsmtFullBath / BsmtHalfBath **"
   ]
  },
  {
   "cell_type": "code",
   "execution_count": 32,
   "metadata": {
    "collapsed": false
   },
   "outputs": [],
   "source": [
    "fill_missing_conbined_data('BsmtFullBath', 0)\n",
    "fill_missing_conbined_data('BsmtHalfBath', 0)"
   ]
  },
  {
   "cell_type": "markdown",
   "metadata": {},
   "source": [
    "** KitchenQual **"
   ]
  },
  {
   "cell_type": "code",
   "execution_count": 33,
   "metadata": {
    "collapsed": false
   },
   "outputs": [
    {
     "data": {
      "text/plain": [
       "<matplotlib.axes.AxesSubplot at 0x7f024de68f10>"
      ]
     },
     "execution_count": 33,
     "metadata": {},
     "output_type": "execute_result"
    },
    {
     "data": {
      "image/png": "[encoded data removed]",
      "text/plain": [
       "<matplotlib.figure.Figure at 0x7f024e44ae50>"
      ]
     },
     "metadata": {},
     "output_type": "display_data"
    }
   ],
   "source": [
    "sns.countplot(conbined_data['KitchenQual'])"
   ]
  },
  {
   "cell_type": "code",
   "execution_count": 34,
   "metadata": {
    "collapsed": true
   },
   "outputs": [],
   "source": [
    "fill_missing_conbined_data('KitchenQual', 'TA')"
   ]
  },
  {
   "cell_type": "markdown",
   "metadata": {},
   "source": [
    "** SaleType / Functional **"
   ]
  },
  {
   "cell_type": "code",
   "execution_count": 35,
   "metadata": {
    "collapsed": false
   },
   "outputs": [
    {
     "data": {
      "text/plain": [
       "<matplotlib.axes.AxesSubplot at 0x7f024df6a0d0>"
      ]
     },
     "execution_count": 35,
     "metadata": {},
     "output_type": "execute_result"
    },
    {
     "data": {
      "image/png": "[encoded data removed]",
      "text/plain": [
       "<matplotlib.figure.Figure at 0x7f024dc66dd0>"
      ]
     },
     "metadata": {},
     "output_type": "display_data"
    }
   ],
   "source": [
    "sns.countplot(conbined_data['Functional'])"
   ]
  },
  {
   "cell_type": "code",
   "execution_count": 36,
   "metadata": {
    "collapsed": true
   },
   "outputs": [],
   "source": [
    "fill_missing_conbined_data('SaleType', 'WD')\n",
    "fill_missing_conbined_data('Functional', 'Typ')"
   ]
  },
  {
   "cell_type": "markdown",
   "metadata": {},
   "source": [
    "完成了缺失数据的填充。"
   ]
  },
  {
   "cell_type": "code",
   "execution_count": 37,
   "metadata": {
    "collapsed": false
   },
   "outputs": [
    {
     "data": {
      "text/plain": [
       "Series([], dtype: float64)"
      ]
     },
     "execution_count": 37,
     "metadata": {},
     "output_type": "execute_result"
    }
   ],
   "source": [
    "# 存在缺失数据的列名\n",
    "has_null_columns = conbined_data.columns[conbined_data.isnull().any()].tolist()\n",
    "# 每列包含多少缺失数据\n",
    "conbined_data[has_null_columns].isnull().sum()"
   ]
  },
  {
   "cell_type": "markdown",
   "metadata": {
    "collapsed": true
   },
   "source": [
    "# Feature Engineering"
   ]
  },
  {
   "cell_type": "markdown",
   "metadata": {},
   "source": [
    "** 时间属性（YearBuilt、GarageYrBlt）**"
   ]
  },
  {
   "cell_type": "code",
   "execution_count": 38,
   "metadata": {
    "collapsed": false
   },
   "outputs": [],
   "source": [
    "built_year_data = conbined_data[['YearBuilt', 'GarageYrBlt']][conbined_data['GarageYrBlt'] != 'NA']"
   ]
  },
  {
   "cell_type": "code",
   "execution_count": 39,
   "metadata": {
    "collapsed": false
   },
   "outputs": [
    {
     "data": {
      "text/plain": [
       "0.83481237316310175"
      ]
     },
     "execution_count": 39,
     "metadata": {},
     "output_type": "execute_result"
    }
   ],
   "source": [
    "built_year_data['GarageYrBlt'] = built_year_data['GarageYrBlt'].map(lambda g : int(g))\n",
    "built_year_data['GarageYrBlt'].corr(built_year_data['YearBuilt'])"
   ]
  },
  {
   "cell_type": "markdown",
   "metadata": {},
   "source": [
    "可以发现 YearBuilt、GarageYrBlt 之间存在很高的相关性。"
   ]
  },
  {
   "cell_type": "code",
   "execution_count": 40,
   "metadata": {
    "collapsed": false
   },
   "outputs": [
    {
     "data": {
      "text/html": [
       "<div>\n",
       "<table border=\"1\" class=\"dataframe\">\n",
       "  <thead>\n",
       "    <tr style=\"text-align: right;\">\n",
       "      <th></th>\n",
       "      <th>YearBuilt</th>\n",
       "      <th>GarageYrBlt</th>\n",
       "    </tr>\n",
       "  </thead>\n",
       "  <tbody>\n",
       "    <tr>\n",
       "      <th>0</th>\n",
       "      <td>2003</td>\n",
       "      <td>2003</td>\n",
       "    </tr>\n",
       "  </tbody>\n",
       "</table>\n",
       "</div>"
      ],
      "text/plain": [
       "   YearBuilt  GarageYrBlt\n",
       "0       2003         2003"
      ]
     },
     "execution_count": 40,
     "metadata": {},
     "output_type": "execute_result"
    }
   ],
   "source": [
    "built_year_data.head(1)"
   ]
  },
  {
   "cell_type": "code",
   "execution_count": 41,
   "metadata": {
    "collapsed": false
   },
   "outputs": [
    {
     "data": {
      "text/plain": [
       "[<matplotlib.lines.Line2D at 0x7f02a4924390>]"
      ]
     },
     "execution_count": 41,
     "metadata": {},
     "output_type": "execute_result"
    },
    {
     "data": {
      "image/png": "[encoded data removed]",
      "text/plain": [
       "<matplotlib.figure.Figure at 0x7f024db7be50>"
      ]
     },
     "metadata": {},
     "output_type": "display_data"
    }
   ],
   "source": [
    "from sklearn.linear_model import LinearRegression\n",
    "regr = LinearRegression()\n",
    "garage_year = built_year_data.loc[:,'GarageYrBlt'].values\n",
    "built_year = built_year_data.loc[:,'YearBuilt'].values\n",
    "\n",
    "length = garage_year.shape[0]\n",
    "garage_year = garage_year.reshape(length, 1)\n",
    "built_year = built_year.reshape(length, 1)\n",
    "\n",
    "# Train the model using the training sets\n",
    "regr.fit(built_year, garage_year)\n",
    "plt.scatter(built_year, garage_year,  color='blue')\n",
    "plt.plot(built_year, regr.predict(built_year), color='red',\n",
    "         linewidth=3)"
   ]
  },
  {
   "cell_type": "code",
   "execution_count": 42,
   "metadata": {
    "collapsed": false
   },
   "outputs": [],
   "source": [
    "# 对于 NA 的 GarageYrBlt，进行填充\n",
    "conbined_data['GarageYrBlt'] = conbined_data.apply(lambda row : int(regr.predict(row['YearBuilt']))\n",
    "                                                      if row['GarageYrBlt'] == 'NA' else int(row['GarageYrBlt']),\n",
    "                                                       axis=1)"
   ]
  },
  {
   "cell_type": "code",
   "execution_count": 43,
   "metadata": {
    "collapsed": false
   },
   "outputs": [
    {
     "data": {
      "text/plain": [
       "0    2003\n",
       "1    1976\n",
       "2    2001\n",
       "3    1998\n",
       "4    2000\n",
       "Name: GarageYrBlt, dtype: int64"
      ]
     },
     "execution_count": 43,
     "metadata": {},
     "output_type": "execute_result"
    }
   ],
   "source": [
    "conbined_data['GarageYrBlt'].head()"
   ]
  },
  {
   "cell_type": "markdown",
   "metadata": {},
   "source": [
    "YearBuilt建造时间，YearRemodAdd修建时间，确定是否翻新改造过"
   ]
  },
  {
   "cell_type": "code",
   "execution_count": 44,
   "metadata": {
    "collapsed": true
   },
   "outputs": [],
   "source": [
    "# How many years has remoded from built\n",
    "conbined_data['RemodYears'] = conbined_data['YearRemodAdd'] - conbined_data['YearBuilt']\n",
    "# Did a remodeling happened from built?\n",
    "conbined_data[\"HasRemodeled\"] = (conbined_data[\"YearRemodAdd\"] != conbined_data[\"YearBuilt\"]) * 1\n",
    "# Did a remodeling happen in the year the house was sold?\n",
    "conbined_data[\"HasRecentRemodel\"] = (conbined_data[\"YearRemodAdd\"] == conbined_data[\"YrSold\"]) * 1"
   ]
  },
  {
   "cell_type": "code",
   "execution_count": 45,
   "metadata": {
    "collapsed": true
   },
   "outputs": [],
   "source": [
    "conbined_data['GarageBltYears'] = conbined_data['GarageYrBlt'] - conbined_data['YearBuilt']"
   ]
  },
  {
   "cell_type": "code",
   "execution_count": 46,
   "metadata": {
    "collapsed": false
   },
   "outputs": [
    {
     "data": {
      "text/plain": [
       "0     0\n",
       "1     0\n",
       "2     0\n",
       "3    83\n",
       "4     0\n",
       "Name: GarageBltYears, dtype: int64"
      ]
     },
     "execution_count": 46,
     "metadata": {},
     "output_type": "execute_result"
    }
   ],
   "source": [
    "conbined_data['GarageBltYears'].head()"
   ]
  },
  {
   "cell_type": "code",
   "execution_count": 47,
   "metadata": {
    "collapsed": true
   },
   "outputs": [],
   "source": [
    "# How many years has build now?\n",
    "conbined_data['Now_YearBuilt'] = 2017 - conbined_data['YearBuilt']\n",
    "conbined_data['Now_YearRemodAdd'] = 2017 - conbined_data['YearRemodAdd']\n",
    "conbined_data['Now_GarageYrBlt'] = 2017 - conbined_data['GarageYrBlt']"
   ]
  },
  {
   "cell_type": "code",
   "execution_count": 48,
   "metadata": {
    "collapsed": false
   },
   "outputs": [
    {
     "data": {
      "text/html": [
       "<div>\n",
       "<table border=\"1\" class=\"dataframe\">\n",
       "  <thead>\n",
       "    <tr style=\"text-align: right;\">\n",
       "      <th></th>\n",
       "      <th>Now_YearBuilt</th>\n",
       "      <th>Now_YearRemodAdd</th>\n",
       "      <th>Now_GarageYrBlt</th>\n",
       "    </tr>\n",
       "  </thead>\n",
       "  <tbody>\n",
       "    <tr>\n",
       "      <th>0</th>\n",
       "      <td>14</td>\n",
       "      <td>14</td>\n",
       "      <td>14</td>\n",
       "    </tr>\n",
       "    <tr>\n",
       "      <th>1</th>\n",
       "      <td>41</td>\n",
       "      <td>41</td>\n",
       "      <td>41</td>\n",
       "    </tr>\n",
       "    <tr>\n",
       "      <th>2</th>\n",
       "      <td>16</td>\n",
       "      <td>15</td>\n",
       "      <td>16</td>\n",
       "    </tr>\n",
       "  </tbody>\n",
       "</table>\n",
       "</div>"
      ],
      "text/plain": [
       "   Now_YearBuilt  Now_YearRemodAdd  Now_GarageYrBlt\n",
       "0             14                14               14\n",
       "1             41                41               41\n",
       "2             16                15               16"
      ]
     },
     "execution_count": 48,
     "metadata": {},
     "output_type": "execute_result"
    }
   ],
   "source": [
    "conbined_data[['Now_YearBuilt','Now_YearRemodAdd','Now_GarageYrBlt']].head(3)"
   ]
  },
  {
   "cell_type": "markdown",
   "metadata": {},
   "source": [
    "- 房子卖的月份存在旺季\n",
    "- 房子卖的月份为数值类型，将其转为字符串类型"
   ]
  },
  {
   "cell_type": "code",
   "execution_count": 49,
   "metadata": {
    "collapsed": false
   },
   "outputs": [
    {
     "data": {
      "text/plain": [
       "<matplotlib.axes.AxesSubplot at 0x7f024dc13150>"
      ]
     },
     "execution_count": 49,
     "metadata": {},
     "output_type": "execute_result"
    },
    {
     "data": {
      "image/png": "[encoded data removed]",
      "text/plain": [
       "<matplotlib.figure.Figure at 0x7f024b27f790>"
      ]
     },
     "metadata": {},
     "output_type": "display_data"
    }
   ],
   "source": [
    "train_data['SalePrice'].groupby(train_data['MoSold']).mean().plot()"
   ]
  },
  {
   "cell_type": "code",
   "execution_count": 50,
   "metadata": {
    "collapsed": false
   },
   "outputs": [
    {
     "data": {
      "text/plain": [
       "<matplotlib.axes.AxesSubplot at 0x7f024de54ad0>"
      ]
     },
     "execution_count": 50,
     "metadata": {},
     "output_type": "execute_result"
    },
    {
     "data": {
      "image/png": "[encoded data removed]",
      "text/plain": [
       "<matplotlib.figure.Figure at 0x7f024e0f1410>"
      ]
     },
     "metadata": {},
     "output_type": "display_data"
    }
   ],
   "source": [
    "sns.countplot(conbined_data['MoSold'])"
   ]
  },
  {
   "cell_type": "markdown",
   "metadata": {},
   "source": [
    "可以看出每月卖出房屋的数量和价格基本成反比。"
   ]
  },
  {
   "cell_type": "code",
   "execution_count": 51,
   "metadata": {
    "collapsed": true
   },
   "outputs": [],
   "source": [
    "sale_price_month = train_data['SalePrice'].groupby(train_data['MoSold']).mean().to_dict()\n",
    "# 该月卖的平均价格\n",
    "conbined_data[\"MonthSaledMeanPrice\"] = conbined_data[\"MoSold\"].replace(sale_price_month)"
   ]
  },
  {
   "cell_type": "code",
   "execution_count": 52,
   "metadata": {
    "collapsed": false
   },
   "outputs": [],
   "source": [
    "# 统计每月卖的数量\n",
    "sale_month = {\"1\": 0, \"2\": 0, \"3\": 0, \"4\": 0, \"5\": 0, \"6\": 0, \"7\": 0, \"8\": 0, \"9\": 0, \"10\": 0, \"11\": 0, \"12\": 0}\n",
    "for m in conbined_data['MoSold'].values:\n",
    "    sale_month[str(m)] = sale_month[str(m)] + 1"
   ]
  },
  {
   "cell_type": "code",
   "execution_count": 53,
   "metadata": {
    "collapsed": true
   },
   "outputs": [],
   "source": [
    "# 月份为数值类型，将其转为字符串类型\n",
    "conbined_data['MoSold'] = conbined_data['MoSold'].map(lambda m : str(m))"
   ]
  },
  {
   "cell_type": "code",
   "execution_count": 54,
   "metadata": {
    "collapsed": false,
    "scrolled": true
   },
   "outputs": [],
   "source": [
    "# 该月卖的数量\n",
    "conbined_data[\"MonthSaledCount\"] = conbined_data[\"MoSold\"].replace(sale_month)"
   ]
  },
  {
   "cell_type": "markdown",
   "metadata": {},
   "source": [
    "**对于 MSSubClass 的数值仅仅代表 the type of dwelling，所以将其编码。**"
   ]
  },
  {
   "cell_type": "code",
   "execution_count": 55,
   "metadata": {
    "collapsed": false
   },
   "outputs": [
    {
     "data": {
      "text/plain": [
       "<matplotlib.axes.AxesSubplot at 0x7f024e047b10>"
      ]
     },
     "execution_count": 55,
     "metadata": {},
     "output_type": "execute_result"
    },
    {
     "data": {
      "image/png": "[encoded data removed]",
      "text/plain": [
       "<matplotlib.figure.Figure at 0x7f024b1c6210>"
      ]
     },
     "metadata": {},
     "output_type": "display_data"
    }
   ],
   "source": [
    "train_data['SalePrice'].groupby(train_data['MSSubClass']).mean().plot()"
   ]
  },
  {
   "cell_type": "code",
   "execution_count": 56,
   "metadata": {
    "collapsed": false
   },
   "outputs": [
    {
     "data": {
      "text/plain": [
       "<matplotlib.axes.AxesSubplot at 0x7f024dc88790>"
      ]
     },
     "execution_count": 56,
     "metadata": {},
     "output_type": "execute_result"
    },
    {
     "data": {
      "image/png": "[encoded data removed]",
      "text/plain": [
       "<matplotlib.figure.Figure at 0x7f024b2fc490>"
      ]
     },
     "metadata": {},
     "output_type": "display_data"
    }
   ],
   "source": [
    "sns.countplot(conbined_data['MSSubClass'])"
   ]
  },
  {
   "cell_type": "markdown",
   "metadata": {},
   "source": [
    "可以看出价格和销量都与 MSSubClass 存在一定的联系。查看数据描述是因为房屋是否 NEWER！"
   ]
  },
  {
   "cell_type": "code",
   "execution_count": 57,
   "metadata": {
    "collapsed": false
   },
   "outputs": [],
   "source": [
    "conbined_data[\"NewerDwelling\"] = conbined_data[\"MSSubClass\"].replace(\n",
    "    {20: 1, 30: 0, 40: 0, 45: 0,50: 0, 60: 1, 70: 0, 75: 0, 80: 0, 85: 0,\n",
    "     90: 0, 120: 1, 150: 0, 160: 0, 180: 0, 190: 0})"
   ]
  },
  {
   "cell_type": "code",
   "execution_count": 58,
   "metadata": {
    "collapsed": true
   },
   "outputs": [],
   "source": [
    "# 新增每种类别的平均价格\n",
    "sale_price_mssc = train_data['SalePrice'].groupby(train_data['MSSubClass']).mean().to_dict()\n",
    "# 该月卖的平均价格\n",
    "conbined_data[\"MSSubClassMeanPrice\"] = conbined_data[\"MSSubClass\"].replace(sale_price_mssc)"
   ]
  },
  {
   "cell_type": "code",
   "execution_count": 59,
   "metadata": {
    "collapsed": false
   },
   "outputs": [],
   "source": [
    "mssubclass_dict = {\n",
    "    20: 'SC20',\n",
    "    30: 'SC30',\n",
    "    40: 'SC40',\n",
    "    45: 'SC45',\n",
    "    50: 'SC50',\n",
    "    60: 'SC60',\n",
    "    70: 'SC70',\n",
    "    75: 'SC75',\n",
    "    80: 'SC80',\n",
    "    85: 'SC85',\n",
    "    90: 'SC90',\n",
    "    120: 'SC120',\n",
    "    150: 'SC150',\n",
    "    160: 'SC160',\n",
    "    180: 'SC180',\n",
    "    190: 'SC190',\n",
    "}\n",
    "conbined_data['MSSubClass'] = conbined_data['MSSubClass'].replace(mssubclass_dict)"
   ]
  },
  {
   "cell_type": "markdown",
   "metadata": {},
   "source": [
    "对于那些存在大小特质的属性进行编码。"
   ]
  },
  {
   "cell_type": "code",
   "execution_count": 60,
   "metadata": {
    "collapsed": true
   },
   "outputs": [],
   "source": [
    "conbined_data = conbined_data.replace(\n",
    "    {'Street': {'Grvl': 0, 'Pave': 1},\n",
    "     'Alley': {'NA':0, 'Grvl': 1, 'Pave': 2},\n",
    "     'Utilities': {'AllPub':3, 'NoSeWa': 1, 'NoSewr': 2, 'ELO': 0},\n",
    "     'ExterQual': {'Ex': 4, 'Gd': 3, 'TA': 2, 'Fa': 1,'Po': 0},\n",
    "     'ExterCond': {'Ex': 4, 'Gd': 3, 'TA': 2, 'Fa': 1,'Po': 0},\n",
    "     'BsmtExposure': {'Gd': 4, 'Av': 3, 'Mn': 2, 'No': 1,'NA': 0},\n",
    "     'BsmtQual': {'Ex': 5, 'Gd': 4, 'TA': 3, 'Fa': 2,'Po': 1,'NA': 0},\n",
    "     'BsmtCond': {'Ex': 5, 'Gd': 4, 'TA': 3, 'Fa': 2,'Po': 1,'NA': 0},\n",
    "     'BsmtFinType1': {'NA':0, 'Unf':1, 'LwQ':2, 'Rec':3, 'BLQ':4, 'ALQ':5, 'GLQ':6},\n",
    "     'BsmtFinType2': {'NA':0, 'Unf':1, 'LwQ':2, 'Rec':3, 'BLQ':4, 'ALQ':5, 'GLQ':6},\n",
    "     'HeatingQC': {'Ex': 4, 'Gd': 3, 'TA': 2, 'Fa': 1,'Po': 0},\n",
    "     'CentralAir': {'N':0, 'Y':1},\n",
    "     'KitchenQual': {'Ex': 4, 'Gd': 3, 'TA': 2, 'Fa': 1, 'Po': 0},\n",
    "     'Functional': {'Typ':0,'Min1':1,'Min2':1,'Mod':2,'Maj1':3,'Maj2':4,'Sev':5,'Sal': 6},\n",
    "     'FireplaceQu': {'Ex': 5, 'Gd': 4, 'TA': 3, 'Fa': 2, 'Po': 1, 'NA': 0},\n",
    "     'GarageQual': {'Ex': 5, 'Gd': 4, 'TA': 3, 'Fa': 2, 'Po': 1, 'NA': 0},\n",
    "     'GarageCond': {'Ex': 5, 'Gd': 4, 'TA': 3, 'Fa': 2, 'Po': 1, 'NA': 0},\n",
    "     'PoolQC': {'Ex': 4, 'Gd': 3, 'TA': 2, 'Fa': 1, 'NA': 0},\n",
    "     'Fence': {'GdPrv': 2, 'GdWo': 2, 'MnPrv': 1, 'MnWw': 1, 'NA': 0}\n",
    "    })"
   ]
  },
  {
   "cell_type": "markdown",
   "metadata": {},
   "source": [
    "Neighborhood 属性表示的是附近的地名，可将其转为经纬度。"
   ]
  },
  {
   "cell_type": "code",
   "execution_count": 61,
   "metadata": {
    "collapsed": false
   },
   "outputs": [
    {
     "data": {
      "text/plain": [
       "0    0.054604\n",
       "1    0.026794\n",
       "2    0.054604\n",
       "3    0.012657\n",
       "4    0.031042\n",
       "Name: NeighborDistance, dtype: float64"
      ]
     },
     "metadata": {},
     "output_type": "display_data"
    }
   ],
   "source": [
    "# 纬度\n",
    "conbined_data[\"latitude\"] = conbined_data.Neighborhood.replace(\n",
    "                                               {'Blmngtn' : 42.062806,\n",
    "                                                'Blueste' : 42.009408,\n",
    "                                                'BrDale' : 42.052500,\n",
    "                                                'BrkSide': 42.033590,\n",
    "                                                'ClearCr': 42.025425,\n",
    "                                                'CollgCr': 42.021051,\n",
    "                                                'Crawfor': 42.025949,\n",
    "                                                'Edwards': 42.022800,\n",
    "                                                'Gilbert': 42.027885,\n",
    "                                                'GrnHill': 42.000854,\n",
    "                                                'IDOTRR' : 42.019208,\n",
    "                                                'Landmrk': 42.044777,\n",
    "                                                'MeadowV': 41.991866,\n",
    "                                                'Mitchel': 42.031307,\n",
    "                                                'NAmes'  : 42.042966,\n",
    "                                                'NoRidge': 42.050307,\n",
    "                                                'NPkVill': 42.050207,\n",
    "                                                'NridgHt': 42.060356,\n",
    "                                                'NWAmes' : 42.051321,\n",
    "                                                'OldTown': 42.028863,\n",
    "                                                'SWISU'  : 42.017578,\n",
    "                                                'Sawyer' : 42.033611,\n",
    "                                                'SawyerW': 42.035540,\n",
    "                                                'Somerst': 42.052191,\n",
    "                                                'StoneBr': 42.060752,\n",
    "                                                'Timber' : 41.998132,\n",
    "                                                'Veenker': 42.040106})\n",
    "# 经度\n",
    "conbined_data[\"longitude\"] = conbined_data.Neighborhood.replace(\n",
    "                                               {'Blmngtn' : -93.639963,\n",
    "                                                'Blueste' : -93.645543,\n",
    "                                                'BrDale' : -93.628821,\n",
    "                                                'BrkSide': -93.627552,\n",
    "                                                'ClearCr': -93.675741,\n",
    "                                                'CollgCr': -93.685643,\n",
    "                                                'Crawfor': -93.620215,\n",
    "                                                'Edwards': -93.663040,\n",
    "                                                'Gilbert': -93.615692,\n",
    "                                                'GrnHill': -93.643377,\n",
    "                                                'IDOTRR' : -93.623401,\n",
    "                                                'Landmrk': -93.646239,\n",
    "                                                'MeadowV': -93.602441,\n",
    "                                                'Mitchel': -93.626967,\n",
    "                                                'NAmes'  : -93.613556,\n",
    "                                                'NoRidge': -93.656045,\n",
    "                                                'NPkVill': -93.625827,\n",
    "                                                'NridgHt': -93.657107,\n",
    "                                                'NWAmes' : -93.633798,\n",
    "                                                'OldTown': -93.615497,\n",
    "                                                'SWISU'  : -93.651283,\n",
    "                                                'Sawyer' : -93.669348,\n",
    "                                                'SawyerW': -93.685131,\n",
    "                                                'Somerst': -93.643479,\n",
    "                                                'StoneBr': -93.628955,\n",
    "                                                'Timber' : -93.648335,\n",
    "                                                'Veenker': -93.657032})\n",
    "\n",
    "# Ames city 的经纬度：经度-93.63191310000002，纬度42.0307812，计算距离\n",
    "conbined_data[\"NeighborDistance\"] = np.sqrt(np.power((conbined_data[\"longitude\"] - (-93.63191310000002)),2) + \\\n",
    "                                    np.power((conbined_data[\"latitude\"] - 42.0307812),2))\n",
    "\n",
    "display(conbined_data[\"NeighborDistance\"].head())"
   ]
  },
  {
   "cell_type": "code",
   "execution_count": 62,
   "metadata": {
    "collapsed": false
   },
   "outputs": [],
   "source": [
    "# Bin by neighborhood (a little arbitrarily). Values were computed by: \n",
    "neighbor_price_map = train_data[\"SalePrice\"].groupby(train_data[\"Neighborhood\"]).median().sort_values().to_dict()"
   ]
  },
  {
   "cell_type": "code",
   "execution_count": 63,
   "metadata": {
    "collapsed": true
   },
   "outputs": [],
   "source": [
    "neighbor_bin_map = {\n",
    "    \"MeadowV\" : 0,  #  88000\n",
    "    \"IDOTRR\" : 1,   # 103000\n",
    "    \"BrDale\" : 1,   # 106000\n",
    "    \"OldTown\" : 1,  # 119000\n",
    "    \"Edwards\" : 1,  # 119500\n",
    "    \"BrkSide\" : 1,  # 124300\n",
    "    \"Sawyer\" : 1,   # 135000\n",
    "    \"Blueste\" : 1,  # 137500\n",
    "    \"SWISU\" : 2,    # 139500\n",
    "    \"NAmes\" : 2,    # 140000\n",
    "    \"NPkVill\" : 2,  # 146000\n",
    "    \"Mitchel\" : 2,  # 153500\n",
    "    \"SawyerW\" : 2,  # 179900\n",
    "    \"Gilbert\" : 2,  # 181000\n",
    "    \"NWAmes\" : 2,   # 182900\n",
    "    \"Blmngtn\" : 2,  # 191000\n",
    "    \"CollgCr\" : 2,  # 197200\n",
    "    \"ClearCr\" : 3,  # 200250\n",
    "    \"Crawfor\" : 3,  # 200624\n",
    "    \"Veenker\" : 3,  # 218000\n",
    "    \"Somerst\" : 3,  # 225500\n",
    "    \"Timber\" : 3,   # 228475\n",
    "    \"StoneBr\" : 4,  # 278000\n",
    "    \"NoRidge\" : 4,  # 290000\n",
    "    \"NridgHt\" : 4,  # 315000\n",
    "}\n",
    "\n",
    "conbined_data[\"NeighborPrice\"] = conbined_data[\"Neighborhood\"].map(neighbor_price_map)\n",
    "conbined_data[\"NeighborBin\"] = conbined_data[\"Neighborhood\"].map(neighbor_bin_map)\n",
    "\n",
    "# 去掉 Neighborhood 经纬度\n",
    "conbined_data.drop('latitude', axis=1, inplace=True)\n",
    "conbined_data.drop('longitude', axis=1, inplace=True)"
   ]
  },
  {
   "cell_type": "code",
   "execution_count": 64,
   "metadata": {
    "collapsed": false
   },
   "outputs": [
    {
     "data": {
      "text/html": [
       "<div>\n",
       "<table border=\"1\" class=\"dataframe\">\n",
       "  <thead>\n",
       "    <tr style=\"text-align: right;\">\n",
       "      <th></th>\n",
       "      <th>Id</th>\n",
       "      <th>MSSubClass</th>\n",
       "      <th>MSZoning</th>\n",
       "      <th>LotFrontage</th>\n",
       "      <th>LotArea</th>\n",
       "      <th>Street</th>\n",
       "      <th>Alley</th>\n",
       "      <th>LotShape</th>\n",
       "      <th>LandContour</th>\n",
       "      <th>Utilities</th>\n",
       "      <th>...</th>\n",
       "      <th>Now_YearBuilt</th>\n",
       "      <th>Now_YearRemodAdd</th>\n",
       "      <th>Now_GarageYrBlt</th>\n",
       "      <th>MonthSaledMeanPrice</th>\n",
       "      <th>MonthSaledCount</th>\n",
       "      <th>NewerDwelling</th>\n",
       "      <th>MSSubClassMeanPrice</th>\n",
       "      <th>NeighborDistance</th>\n",
       "      <th>NeighborPrice</th>\n",
       "      <th>NeighborBin</th>\n",
       "    </tr>\n",
       "  </thead>\n",
       "  <tbody>\n",
       "    <tr>\n",
       "      <th>0</th>\n",
       "      <td>1</td>\n",
       "      <td>SC60</td>\n",
       "      <td>RL</td>\n",
       "      <td>65.0</td>\n",
       "      <td>8450</td>\n",
       "      <td>1</td>\n",
       "      <td>0</td>\n",
       "      <td>Reg</td>\n",
       "      <td>Lvl</td>\n",
       "      <td>3</td>\n",
       "      <td>...</td>\n",
       "      <td>14</td>\n",
       "      <td>14</td>\n",
       "      <td>14</td>\n",
       "      <td>177882</td>\n",
       "      <td>133</td>\n",
       "      <td>1</td>\n",
       "      <td>239948</td>\n",
       "      <td>0.054604</td>\n",
       "      <td>197200</td>\n",
       "      <td>2</td>\n",
       "    </tr>\n",
       "    <tr>\n",
       "      <th>1</th>\n",
       "      <td>2</td>\n",
       "      <td>SC20</td>\n",
       "      <td>RL</td>\n",
       "      <td>80.0</td>\n",
       "      <td>9600</td>\n",
       "      <td>1</td>\n",
       "      <td>0</td>\n",
       "      <td>Reg</td>\n",
       "      <td>Lvl</td>\n",
       "      <td>3</td>\n",
       "      <td>...</td>\n",
       "      <td>41</td>\n",
       "      <td>41</td>\n",
       "      <td>41</td>\n",
       "      <td>172307</td>\n",
       "      <td>394</td>\n",
       "      <td>1</td>\n",
       "      <td>185224</td>\n",
       "      <td>0.026794</td>\n",
       "      <td>218000</td>\n",
       "      <td>3</td>\n",
       "    </tr>\n",
       "    <tr>\n",
       "      <th>2</th>\n",
       "      <td>3</td>\n",
       "      <td>SC60</td>\n",
       "      <td>RL</td>\n",
       "      <td>68.0</td>\n",
       "      <td>11250</td>\n",
       "      <td>1</td>\n",
       "      <td>0</td>\n",
       "      <td>IR1</td>\n",
       "      <td>Lvl</td>\n",
       "      <td>3</td>\n",
       "      <td>...</td>\n",
       "      <td>16</td>\n",
       "      <td>15</td>\n",
       "      <td>16</td>\n",
       "      <td>195683</td>\n",
       "      <td>158</td>\n",
       "      <td>1</td>\n",
       "      <td>239948</td>\n",
       "      <td>0.054604</td>\n",
       "      <td>197200</td>\n",
       "      <td>2</td>\n",
       "    </tr>\n",
       "    <tr>\n",
       "      <th>3</th>\n",
       "      <td>4</td>\n",
       "      <td>SC70</td>\n",
       "      <td>RL</td>\n",
       "      <td>60.0</td>\n",
       "      <td>9550</td>\n",
       "      <td>1</td>\n",
       "      <td>0</td>\n",
       "      <td>IR1</td>\n",
       "      <td>Lvl</td>\n",
       "      <td>3</td>\n",
       "      <td>...</td>\n",
       "      <td>102</td>\n",
       "      <td>47</td>\n",
       "      <td>19</td>\n",
       "      <td>177882</td>\n",
       "      <td>133</td>\n",
       "      <td>0</td>\n",
       "      <td>166772</td>\n",
       "      <td>0.012657</td>\n",
       "      <td>200624</td>\n",
       "      <td>3</td>\n",
       "    </tr>\n",
       "    <tr>\n",
       "      <th>4</th>\n",
       "      <td>5</td>\n",
       "      <td>SC60</td>\n",
       "      <td>RL</td>\n",
       "      <td>84.0</td>\n",
       "      <td>14260</td>\n",
       "      <td>1</td>\n",
       "      <td>0</td>\n",
       "      <td>IR1</td>\n",
       "      <td>Lvl</td>\n",
       "      <td>3</td>\n",
       "      <td>...</td>\n",
       "      <td>17</td>\n",
       "      <td>17</td>\n",
       "      <td>17</td>\n",
       "      <td>186518</td>\n",
       "      <td>104</td>\n",
       "      <td>1</td>\n",
       "      <td>239948</td>\n",
       "      <td>0.031042</td>\n",
       "      <td>301500</td>\n",
       "      <td>4</td>\n",
       "    </tr>\n",
       "  </tbody>\n",
       "</table>\n",
       "<p>5 rows × 94 columns</p>\n",
       "</div>"
      ],
      "text/plain": [
       "   Id MSSubClass MSZoning  LotFrontage  LotArea  Street  Alley LotShape  \\\n",
       "0   1       SC60       RL         65.0     8450       1      0      Reg   \n",
       "1   2       SC20       RL         80.0     9600       1      0      Reg   \n",
       "2   3       SC60       RL         68.0    11250       1      0      IR1   \n",
       "3   4       SC70       RL         60.0     9550       1      0      IR1   \n",
       "4   5       SC60       RL         84.0    14260       1      0      IR1   \n",
       "\n",
       "  LandContour  Utilities     ...      Now_YearBuilt Now_YearRemodAdd  \\\n",
       "0         Lvl          3     ...                 14               14   \n",
       "1         Lvl          3     ...                 41               41   \n",
       "2         Lvl          3     ...                 16               15   \n",
       "3         Lvl          3     ...                102               47   \n",
       "4         Lvl          3     ...                 17               17   \n",
       "\n",
       "  Now_GarageYrBlt MonthSaledMeanPrice MonthSaledCount NewerDwelling  \\\n",
       "0              14              177882             133             1   \n",
       "1              41              172307             394             1   \n",
       "2              16              195683             158             1   \n",
       "3              19              177882             133             0   \n",
       "4              17              186518             104             1   \n",
       "\n",
       "  MSSubClassMeanPrice  NeighborDistance  NeighborPrice  NeighborBin  \n",
       "0              239948          0.054604         197200            2  \n",
       "1              185224          0.026794         218000            3  \n",
       "2              239948          0.054604         197200            2  \n",
       "3              166772          0.012657         200624            3  \n",
       "4              239948          0.031042         301500            4  \n",
       "\n",
       "[5 rows x 94 columns]"
      ]
     },
     "execution_count": 64,
     "metadata": {},
     "output_type": "execute_result"
    }
   ],
   "source": [
    "conbined_data.head()"
   ]
  },
  {
   "cell_type": "markdown",
   "metadata": {},
   "source": [
    "# Create new features"
   ]
  },
  {
   "cell_type": "markdown",
   "metadata": {},
   "source": [
    "Ref: [juliencs : A study on Regression applied to the Ames dataset\n",
    "](https://www.kaggle.com/juliencs/house-prices-advanced-regression-techniques/a-study-on-regression-applied-to-the-ames-dataset)\n",
    "- Create some boolean features\n",
    "- Simplifications of existing features - Ref\n",
    "- Combinations of existing features - Ref\n",
    "- Polynomials on the top 10 existing features - Ref"
   ]
  },
  {
   "cell_type": "code",
   "execution_count": 68,
   "metadata": {
    "collapsed": false
   },
   "outputs": [],
   "source": [
    "str_columns = conbined_data.select_dtypes(include=['object']).columns.values\n",
    "num_columns = conbined_data.select_dtypes(exclude=['object']).columns.values"
   ]
  },
  {
   "cell_type": "code",
   "execution_count": 69,
   "metadata": {
    "collapsed": false
   },
   "outputs": [
    {
     "data": {
      "text/plain": [
       "array(['MSSubClass', 'MSZoning', 'LotShape', 'LandContour', 'LotConfig',\n",
       "       'LandSlope', 'Neighborhood', 'Condition1', 'Condition2', 'BldgType',\n",
       "       'HouseStyle', 'RoofStyle', 'RoofMatl', 'Exterior1st', 'Exterior2nd',\n",
       "       'MasVnrType', 'Foundation', 'Heating', 'Electrical', 'GarageType',\n",
       "       'GarageFinish', 'PavedDrive', 'MiscFeature', 'MoSold', 'SaleType',\n",
       "       'SaleCondition'], dtype=object)"
      ]
     },
     "execution_count": 69,
     "metadata": {},
     "output_type": "execute_result"
    }
   ],
   "source": [
    "str_columns"
   ]
  },
  {
   "cell_type": "markdown",
   "metadata": {},
   "source": [
    "1.Create some boolean features"
   ]
  },
  {
   "cell_type": "code",
   "execution_count": 115,
   "metadata": {
    "collapsed": false
   },
   "outputs": [
    {
     "name": "stdout",
     "output_type": "stream",
     "text": [
      "['Normal' 'Partial' 'Abnorml' 'Family' 'Alloca' 'AdjLand']\n"
     ]
    },
    {
     "data": {
      "text/plain": [
       "<matplotlib.axes.AxesSubplot at 0x7f02499d4310>"
      ]
     },
     "execution_count": 115,
     "metadata": {},
     "output_type": "execute_result"
    },
    {
     "data": {
      "image/png": "[encoded data removed]",
      "text/plain": [
       "<matplotlib.figure.Figure at 0x7f02494ab250>"
      ]
     },
     "metadata": {},
     "output_type": "display_data"
    }
   ],
   "source": [
    "# 统计每月卖的数量\n",
    "column = \"SaleCondition\"\n",
    "count_duct = {}\n",
    "for key in set(conbined_data[column]):\n",
    "    count_duct[key] = 0\n",
    "    \n",
    "for m in conbined_data[column].values:\n",
    "    count_duct[str(m)] = count_duct[str(m)] + 1\n",
    "\n",
    "count_duct= sorted(count_duct.items(), key=lambda d:d[1], reverse = True)\n",
    "print np.array(count_duct)[:,0]\n",
    "sns.countplot(conbined_data[column])"
   ]
  },
  {
   "cell_type": "code",
   "execution_count": 124,
   "metadata": {
    "collapsed": false
   },
   "outputs": [],
   "source": [
    "# IR2 and IR3 don't appear that often, so just make a distinction \n",
    "# between regular and irregular.\n",
    "conbined_data[\"IsRegularLotShape\"] = (conbined_data[\"LotShape\"] == \"Reg\") * 1\n",
    "\n",
    "# Bnk, Low, HLS don't appear that often, so just make a distinction\n",
    "conbined_data[\"IsLandContourLvl\"] = (conbined_data[\"LandContour\"] == \"Lvl\") * 1\n",
    "conbined_data[\"IsLotConfigInside\"] = (conbined_data[\"LotConfig\"] == \"Inside\") * 1\n",
    "conbined_data[\"IsLandSlopeGentle\"] = (conbined_data[\"LandSlope\"] == \"Gtl\") * 1\n",
    "conbined_data[\"IsCondition1Norm\"] = (conbined_data[\"Condition1\"] == \"Norm\") * 1\n",
    "conbined_data[\"IsCondition2Norm\"] = (conbined_data[\"Condition2\"] == \"Norm\") * 1\n",
    "conbined_data[\"IsBldgType1Fam\"] = (conbined_data[\"BldgType\"] == \"1Fam\") * 1\n",
    "conbined_data[\"IsRoofStyleGable\"] = (conbined_data[\"RoofStyle\"] == \"Gable\") * 1\n",
    "conbined_data[\"IsRoofMatlCompShg\"] = (conbined_data[\"RoofMatl\"] == \"CompShg\") * 1\n",
    "conbined_data[\"IsGasAHeating\"] = (conbined_data[\"Heating\"] == \"GasA\") * 1\n",
    "conbined_data[\"IsElectricalSBrkr\"] = (conbined_data[\"Heating\"] == \"SBrkr\") * 1\n",
    "conbined_data[\"IsGarageFinished\"] = (conbined_data[\"GarageFinish\"] == \"Fin\") * 1\n",
    "conbined_data[\"IsPavedDrive\"] = (conbined_data[\"PavedDrive\"] == \"Y\") * 1\n",
    "conbined_data[\"IsSaleTypeWD\"] = (conbined_data[\"SaleType\"] == \"WD\") * 1\n",
    "conbined_data[\"IsSaleConditionNormal\"] = (conbined_data[\"SaleCondition\"] == \"Normal\") * 1"
   ]
  },
  {
   "cell_type": "code",
   "execution_count": 125,
   "metadata": {
    "collapsed": true
   },
   "outputs": [],
   "source": [
    "# The only interesting \"misc. feature\" is the presence of a shed.\n",
    "conbined_data[\"HasShed\"] = (conbined_data[\"MiscFeature\"] == \"Shed\") * 1.  \n",
    "\n",
    "# Was this house sold in the year it was built?\n",
    "conbined_data[\"VeryNewHouse\"] = (conbined_data[\"YearBuilt\"] == conbined_data[\"YrSold\"]) * 1\n",
    "\n",
    "conbined_data[\"Has2ndFloor\"] = (conbined_data[\"2ndFlrSF\"] == 0) * 1\n",
    "conbined_data[\"HasMasVnr\"] = (conbined_data[\"MasVnrArea\"] == 0) * 1\n",
    "conbined_data[\"HasWoodDeck\"] = (conbined_data[\"WoodDeckSF\"] == 0) * 1\n",
    "conbined_data[\"HasOpenPorch\"] = (conbined_data[\"OpenPorchSF\"] == 0) * 1\n",
    "conbined_data[\"HasEnclosedPorch\"] = (conbined_data[\"EnclosedPorch\"] == 0) * 1\n",
    "conbined_data[\"Has3SsnPorch\"] = (conbined_data[\"3SsnPorch\"] == 0) * 1\n",
    "conbined_data[\"HasScreenPorch\"] = (conbined_data[\"ScreenPorch\"] == 0) * 1"
   ]
  },
  {
   "cell_type": "code",
   "execution_count": 126,
   "metadata": {
    "collapsed": false
   },
   "outputs": [],
   "source": [
    "# 2.Simplifications of existing features\n",
    "conbined_data[\"SimplOverallQual\"] = conbined_data.OverallQual.replace(\n",
    "                                                            {1 : 1, 2 : 1, 3 : 1, # bad\n",
    "                                                             4 : 2, 5 : 2, 6 : 2, # average\n",
    "                                                             7 : 3, 8 : 3, 9 : 3, 10 : 3 # good\n",
    "                                                            })\n",
    "conbined_data[\"SimplOverallCond\"] = conbined_data.OverallCond.replace(\n",
    "                                                            {1 : 1, 2 : 1, 3 : 1, # bad\n",
    "                                                             4 : 2, 5 : 2, 6 : 2, # average\n",
    "                                                             7 : 3, 8 : 3, 9 : 3, 10 : 3 # good\n",
    "                                                             })"
   ]
  },
  {
   "cell_type": "code",
   "execution_count": 127,
   "metadata": {
    "collapsed": false
   },
   "outputs": [],
   "source": [
    "# 3.Combinations of existing features\n",
    "\n",
    "# Overall quality of the house\n",
    "conbined_data[\"OverallGrade\"] = conbined_data[\"OverallQual\"] * conbined_data[\"OverallCond\"]\n",
    "# Overall quality of the garage\n",
    "conbined_data[\"GarageGrade\"] = conbined_data[\"GarageQual\"] * conbined_data[\"GarageCond\"]\n",
    "# Overall quality of the exterior\n",
    "conbined_data[\"ExterGrade\"] = conbined_data[\"ExterQual\"] * conbined_data[\"ExterCond\"]\n",
    "# Overall kitchen score\n",
    "conbined_data[\"KitchenScore\"] = conbined_data[\"KitchenAbvGr\"] * conbined_data[\"KitchenQual\"]\n",
    "# Overall fireplace score\n",
    "conbined_data[\"FireplaceScore\"] = conbined_data[\"Fireplaces\"] * conbined_data[\"FireplaceQu\"]\n",
    "# Overall garage score\n",
    "conbined_data[\"GarageScore\"] = conbined_data[\"GarageArea\"] * conbined_data[\"GarageQual\"]\n",
    "# Overall pool score\n",
    "conbined_data[\"PoolScore\"] = conbined_data[\"PoolArea\"] * conbined_data[\"PoolQC\"]\n",
    "\n",
    "# Total number of bathrooms\n",
    "conbined_data[\"TotalBath\"] = conbined_data[\"BsmtFullBath\"] + (0.5 * conbined_data[\"BsmtHalfBath\"]) + \\\n",
    "conbined_data[\"FullBath\"] + (0.5 * conbined_data[\"HalfBath\"])\n",
    "\n",
    "# Total yard area in square feet\n",
    "conbined_data[\"TotalPorchSF\"] = conbined_data[\"OpenPorchSF\"] + conbined_data[\"EnclosedPorch\"] +\\\n",
    "                                conbined_data[\"3SsnPorch\"] + conbined_data[\"ScreenPorch\"]\n",
    "# Total SF for house (living, basement, porch, pool)\n",
    "conbined_data[\"AllSF\"] = conbined_data[\"GrLivArea\"] + conbined_data[\"TotalBsmtSF\"] + \\\n",
    "                         conbined_data[\"TotalPorchSF\"] + conbined_data[\"WoodDeckSF\"] + \\\n",
    "                         conbined_data[\"PoolArea\"]\n",
    "\n",
    "# House completed before sale or not\n",
    "conbined_data[\"BoughtOffPlan\"] = conbined_data.SaleCondition.replace(\n",
    "    {\"Abnorml\" : 0, \"Alloca\" : 0, \"AdjLand\" : 0, \"Family\" : 0, \"Normal\" : 0, \"Partial\" : 1})"
   ]
  },
  {
   "cell_type": "code",
   "execution_count": 128,
   "metadata": {
    "collapsed": false
   },
   "outputs": [
    {
     "data": {
      "text/html": [
       "<div>\n",
       "<table border=\"1\" class=\"dataframe\">\n",
       "  <thead>\n",
       "    <tr style=\"text-align: right;\">\n",
       "      <th></th>\n",
       "      <th>Id</th>\n",
       "      <th>MSSubClass</th>\n",
       "      <th>MSZoning</th>\n",
       "      <th>LotFrontage</th>\n",
       "      <th>LotArea</th>\n",
       "      <th>Street</th>\n",
       "      <th>Alley</th>\n",
       "      <th>LotShape</th>\n",
       "      <th>LandContour</th>\n",
       "      <th>Utilities</th>\n",
       "      <th>...</th>\n",
       "      <th>GarageGrade</th>\n",
       "      <th>ExterGrade</th>\n",
       "      <th>KitchenScore</th>\n",
       "      <th>FireplaceScore</th>\n",
       "      <th>GarageScore</th>\n",
       "      <th>PoolScore</th>\n",
       "      <th>TotalBath</th>\n",
       "      <th>TotalPorchSF</th>\n",
       "      <th>AllSF</th>\n",
       "      <th>BoughtOffPlan</th>\n",
       "    </tr>\n",
       "  </thead>\n",
       "  <tbody>\n",
       "    <tr>\n",
       "      <th>0</th>\n",
       "      <td>1</td>\n",
       "      <td>SC60</td>\n",
       "      <td>RL</td>\n",
       "      <td>65.0</td>\n",
       "      <td>8450</td>\n",
       "      <td>1</td>\n",
       "      <td>0</td>\n",
       "      <td>Reg</td>\n",
       "      <td>Lvl</td>\n",
       "      <td>3</td>\n",
       "      <td>...</td>\n",
       "      <td>9</td>\n",
       "      <td>6</td>\n",
       "      <td>3</td>\n",
       "      <td>0</td>\n",
       "      <td>1644.0</td>\n",
       "      <td>0</td>\n",
       "      <td>3.5</td>\n",
       "      <td>61</td>\n",
       "      <td>2627.0</td>\n",
       "      <td>0</td>\n",
       "    </tr>\n",
       "    <tr>\n",
       "      <th>1</th>\n",
       "      <td>2</td>\n",
       "      <td>SC20</td>\n",
       "      <td>RL</td>\n",
       "      <td>80.0</td>\n",
       "      <td>9600</td>\n",
       "      <td>1</td>\n",
       "      <td>0</td>\n",
       "      <td>Reg</td>\n",
       "      <td>Lvl</td>\n",
       "      <td>3</td>\n",
       "      <td>...</td>\n",
       "      <td>9</td>\n",
       "      <td>4</td>\n",
       "      <td>2</td>\n",
       "      <td>3</td>\n",
       "      <td>1380.0</td>\n",
       "      <td>0</td>\n",
       "      <td>2.5</td>\n",
       "      <td>0</td>\n",
       "      <td>2822.0</td>\n",
       "      <td>0</td>\n",
       "    </tr>\n",
       "    <tr>\n",
       "      <th>2</th>\n",
       "      <td>3</td>\n",
       "      <td>SC60</td>\n",
       "      <td>RL</td>\n",
       "      <td>68.0</td>\n",
       "      <td>11250</td>\n",
       "      <td>1</td>\n",
       "      <td>0</td>\n",
       "      <td>IR1</td>\n",
       "      <td>Lvl</td>\n",
       "      <td>3</td>\n",
       "      <td>...</td>\n",
       "      <td>9</td>\n",
       "      <td>6</td>\n",
       "      <td>3</td>\n",
       "      <td>3</td>\n",
       "      <td>1824.0</td>\n",
       "      <td>0</td>\n",
       "      <td>3.5</td>\n",
       "      <td>42</td>\n",
       "      <td>2748.0</td>\n",
       "      <td>0</td>\n",
       "    </tr>\n",
       "    <tr>\n",
       "      <th>3</th>\n",
       "      <td>4</td>\n",
       "      <td>SC70</td>\n",
       "      <td>RL</td>\n",
       "      <td>60.0</td>\n",
       "      <td>9550</td>\n",
       "      <td>1</td>\n",
       "      <td>0</td>\n",
       "      <td>IR1</td>\n",
       "      <td>Lvl</td>\n",
       "      <td>3</td>\n",
       "      <td>...</td>\n",
       "      <td>9</td>\n",
       "      <td>4</td>\n",
       "      <td>3</td>\n",
       "      <td>4</td>\n",
       "      <td>1926.0</td>\n",
       "      <td>0</td>\n",
       "      <td>2.0</td>\n",
       "      <td>307</td>\n",
       "      <td>2780.0</td>\n",
       "      <td>0</td>\n",
       "    </tr>\n",
       "    <tr>\n",
       "      <th>4</th>\n",
       "      <td>5</td>\n",
       "      <td>SC60</td>\n",
       "      <td>RL</td>\n",
       "      <td>84.0</td>\n",
       "      <td>14260</td>\n",
       "      <td>1</td>\n",
       "      <td>0</td>\n",
       "      <td>IR1</td>\n",
       "      <td>Lvl</td>\n",
       "      <td>3</td>\n",
       "      <td>...</td>\n",
       "      <td>9</td>\n",
       "      <td>6</td>\n",
       "      <td>3</td>\n",
       "      <td>3</td>\n",
       "      <td>2508.0</td>\n",
       "      <td>0</td>\n",
       "      <td>3.5</td>\n",
       "      <td>84</td>\n",
       "      <td>3619.0</td>\n",
       "      <td>0</td>\n",
       "    </tr>\n",
       "  </tbody>\n",
       "</table>\n",
       "<p>5 rows × 131 columns</p>\n",
       "</div>"
      ],
      "text/plain": [
       "   Id MSSubClass MSZoning  LotFrontage  LotArea  Street  Alley LotShape  \\\n",
       "0   1       SC60       RL         65.0     8450       1      0      Reg   \n",
       "1   2       SC20       RL         80.0     9600       1      0      Reg   \n",
       "2   3       SC60       RL         68.0    11250       1      0      IR1   \n",
       "3   4       SC70       RL         60.0     9550       1      0      IR1   \n",
       "4   5       SC60       RL         84.0    14260       1      0      IR1   \n",
       "\n",
       "  LandContour  Utilities      ...       GarageGrade ExterGrade KitchenScore  \\\n",
       "0         Lvl          3      ...                 9          6            3   \n",
       "1         Lvl          3      ...                 9          4            2   \n",
       "2         Lvl          3      ...                 9          6            3   \n",
       "3         Lvl          3      ...                 9          4            3   \n",
       "4         Lvl          3      ...                 9          6            3   \n",
       "\n",
       "  FireplaceScore GarageScore PoolScore TotalBath  TotalPorchSF   AllSF  \\\n",
       "0              0      1644.0         0       3.5            61  2627.0   \n",
       "1              3      1380.0         0       2.5             0  2822.0   \n",
       "2              3      1824.0         0       3.5            42  2748.0   \n",
       "3              4      1926.0         0       2.0           307  2780.0   \n",
       "4              3      2508.0         0       3.5            84  3619.0   \n",
       "\n",
       "   BoughtOffPlan  \n",
       "0              0  \n",
       "1              0  \n",
       "2              0  \n",
       "3              0  \n",
       "4              0  \n",
       "\n",
       "[5 rows x 131 columns]"
      ]
     },
     "execution_count": 128,
     "metadata": {},
     "output_type": "execute_result"
    }
   ],
   "source": [
    "# 3.Polynomials on the top 10 existing features\n",
    "train_data_new = conbined_data.iloc[:train_length,:]\n",
    "# 添加价格\n",
    "train_data_new.head()"
   ]
  },
  {
   "cell_type": "code",
   "execution_count": 129,
   "metadata": {
    "collapsed": false
   },
   "outputs": [
    {
     "data": {
      "text/plain": [
       "<matplotlib.text.Text at 0x7f02493263d0>"
      ]
     },
     "execution_count": 129,
     "metadata": {},
     "output_type": "execute_result"
    },
    {
     "data": {
      "image/png": "[encoded data removed]",
      "text/plain": [
       "<matplotlib.figure.Figure at 0x7f024934ad10>"
      ]
     },
     "metadata": {},
     "output_type": "display_data"
    }
   ],
   "source": [
    "from xgboost import XGBRegressor\n",
    "\n",
    "train_Y = train_data['SalePrice']\n",
    "train_X = train_data_new.select_dtypes(exclude=['object']).drop(['Id'], axis=1)\n",
    "\n",
    "xgb_regressor = XGBRegressor(seed=10)\n",
    "xgb_regressor.fit(train_X, train_Y)\n",
    "\n",
    "feature_importances = pd.Series(xgb_regressor.feature_importances_, train_X.columns.values)\n",
    "feature_importances = feature_importances.sort_values(ascending=False)\n",
    "# feature_importances= feature_importances.head(40)\n",
    "feature_importances.plot(kind='bar', title='Feature Importances')\n",
    "plt.ylabel('Feature Importance Score')"
   ]
  },
  {
   "cell_type": "code",
   "execution_count": 130,
   "metadata": {
    "collapsed": false
   },
   "outputs": [],
   "source": [
    "# 3.Polynomials on the top 15 existing features\n",
    "top_n = 15\n",
    "poly_columns = feature_importances.index.values[:top_n]\n",
    "for column in poly_columns:\n",
    "    conbined_data[column+'-s2'] = conbined_data[column] ** 2\n",
    "    conbined_data[column+'-s3'] = conbined_data[column] ** 3\n",
    "    conbined_data[column+'-sq'] = np.sqrt(conbined_data[column])"
   ]
  },
  {
   "cell_type": "code",
   "execution_count": 131,
   "metadata": {
    "collapsed": false
   },
   "outputs": [
    {
     "data": {
      "text/html": [
       "<div>\n",
       "<table border=\"1\" class=\"dataframe\">\n",
       "  <thead>\n",
       "    <tr style=\"text-align: right;\">\n",
       "      <th></th>\n",
       "      <th>Id</th>\n",
       "      <th>MSSubClass</th>\n",
       "      <th>MSZoning</th>\n",
       "      <th>LotFrontage</th>\n",
       "      <th>LotArea</th>\n",
       "      <th>Street</th>\n",
       "      <th>Alley</th>\n",
       "      <th>LotShape</th>\n",
       "      <th>LandContour</th>\n",
       "      <th>Utilities</th>\n",
       "      <th>...</th>\n",
       "      <th>OverallQual-sq</th>\n",
       "      <th>BsmtUnfSF-s2</th>\n",
       "      <th>BsmtUnfSF-s3</th>\n",
       "      <th>BsmtUnfSF-sq</th>\n",
       "      <th>OverallCond-s2</th>\n",
       "      <th>OverallCond-s3</th>\n",
       "      <th>OverallCond-sq</th>\n",
       "      <th>TotalPorchSF-s2</th>\n",
       "      <th>TotalPorchSF-s3</th>\n",
       "      <th>TotalPorchSF-sq</th>\n",
       "    </tr>\n",
       "  </thead>\n",
       "  <tbody>\n",
       "    <tr>\n",
       "      <th>0</th>\n",
       "      <td>1</td>\n",
       "      <td>SC60</td>\n",
       "      <td>RL</td>\n",
       "      <td>65.0</td>\n",
       "      <td>8450</td>\n",
       "      <td>1</td>\n",
       "      <td>0</td>\n",
       "      <td>Reg</td>\n",
       "      <td>Lvl</td>\n",
       "      <td>3</td>\n",
       "      <td>...</td>\n",
       "      <td>2.645751</td>\n",
       "      <td>22500.0</td>\n",
       "      <td>3375000.0</td>\n",
       "      <td>12.247449</td>\n",
       "      <td>25</td>\n",
       "      <td>125</td>\n",
       "      <td>2.236068</td>\n",
       "      <td>3721</td>\n",
       "      <td>226981</td>\n",
       "      <td>7.810250</td>\n",
       "    </tr>\n",
       "    <tr>\n",
       "      <th>1</th>\n",
       "      <td>2</td>\n",
       "      <td>SC20</td>\n",
       "      <td>RL</td>\n",
       "      <td>80.0</td>\n",
       "      <td>9600</td>\n",
       "      <td>1</td>\n",
       "      <td>0</td>\n",
       "      <td>Reg</td>\n",
       "      <td>Lvl</td>\n",
       "      <td>3</td>\n",
       "      <td>...</td>\n",
       "      <td>2.449490</td>\n",
       "      <td>80656.0</td>\n",
       "      <td>22906304.0</td>\n",
       "      <td>16.852300</td>\n",
       "      <td>64</td>\n",
       "      <td>512</td>\n",
       "      <td>2.828427</td>\n",
       "      <td>0</td>\n",
       "      <td>0</td>\n",
       "      <td>0.000000</td>\n",
       "    </tr>\n",
       "    <tr>\n",
       "      <th>2</th>\n",
       "      <td>3</td>\n",
       "      <td>SC60</td>\n",
       "      <td>RL</td>\n",
       "      <td>68.0</td>\n",
       "      <td>11250</td>\n",
       "      <td>1</td>\n",
       "      <td>0</td>\n",
       "      <td>IR1</td>\n",
       "      <td>Lvl</td>\n",
       "      <td>3</td>\n",
       "      <td>...</td>\n",
       "      <td>2.645751</td>\n",
       "      <td>188356.0</td>\n",
       "      <td>81746504.0</td>\n",
       "      <td>20.832667</td>\n",
       "      <td>25</td>\n",
       "      <td>125</td>\n",
       "      <td>2.236068</td>\n",
       "      <td>1764</td>\n",
       "      <td>74088</td>\n",
       "      <td>6.480741</td>\n",
       "    </tr>\n",
       "    <tr>\n",
       "      <th>3</th>\n",
       "      <td>4</td>\n",
       "      <td>SC70</td>\n",
       "      <td>RL</td>\n",
       "      <td>60.0</td>\n",
       "      <td>9550</td>\n",
       "      <td>1</td>\n",
       "      <td>0</td>\n",
       "      <td>IR1</td>\n",
       "      <td>Lvl</td>\n",
       "      <td>3</td>\n",
       "      <td>...</td>\n",
       "      <td>2.645751</td>\n",
       "      <td>291600.0</td>\n",
       "      <td>157464000.0</td>\n",
       "      <td>23.237900</td>\n",
       "      <td>25</td>\n",
       "      <td>125</td>\n",
       "      <td>2.236068</td>\n",
       "      <td>94249</td>\n",
       "      <td>28934443</td>\n",
       "      <td>17.521415</td>\n",
       "    </tr>\n",
       "    <tr>\n",
       "      <th>4</th>\n",
       "      <td>5</td>\n",
       "      <td>SC60</td>\n",
       "      <td>RL</td>\n",
       "      <td>84.0</td>\n",
       "      <td>14260</td>\n",
       "      <td>1</td>\n",
       "      <td>0</td>\n",
       "      <td>IR1</td>\n",
       "      <td>Lvl</td>\n",
       "      <td>3</td>\n",
       "      <td>...</td>\n",
       "      <td>2.828427</td>\n",
       "      <td>240100.0</td>\n",
       "      <td>117649000.0</td>\n",
       "      <td>22.135944</td>\n",
       "      <td>25</td>\n",
       "      <td>125</td>\n",
       "      <td>2.236068</td>\n",
       "      <td>7056</td>\n",
       "      <td>592704</td>\n",
       "      <td>9.165151</td>\n",
       "    </tr>\n",
       "  </tbody>\n",
       "</table>\n",
       "<p>5 rows × 176 columns</p>\n",
       "</div>"
      ],
      "text/plain": [
       "   Id MSSubClass MSZoning  LotFrontage  LotArea  Street  Alley LotShape  \\\n",
       "0   1       SC60       RL         65.0     8450       1      0      Reg   \n",
       "1   2       SC20       RL         80.0     9600       1      0      Reg   \n",
       "2   3       SC60       RL         68.0    11250       1      0      IR1   \n",
       "3   4       SC70       RL         60.0     9550       1      0      IR1   \n",
       "4   5       SC60       RL         84.0    14260       1      0      IR1   \n",
       "\n",
       "  LandContour  Utilities       ...        OverallQual-sq BsmtUnfSF-s2  \\\n",
       "0         Lvl          3       ...              2.645751      22500.0   \n",
       "1         Lvl          3       ...              2.449490      80656.0   \n",
       "2         Lvl          3       ...              2.645751     188356.0   \n",
       "3         Lvl          3       ...              2.645751     291600.0   \n",
       "4         Lvl          3       ...              2.828427     240100.0   \n",
       "\n",
       "  BsmtUnfSF-s3 BsmtUnfSF-sq OverallCond-s2 OverallCond-s3 OverallCond-sq  \\\n",
       "0    3375000.0    12.247449             25            125       2.236068   \n",
       "1   22906304.0    16.852300             64            512       2.828427   \n",
       "2   81746504.0    20.832667             25            125       2.236068   \n",
       "3  157464000.0    23.237900             25            125       2.236068   \n",
       "4  117649000.0    22.135944             25            125       2.236068   \n",
       "\n",
       "   TotalPorchSF-s2  TotalPorchSF-s3  TotalPorchSF-sq  \n",
       "0             3721           226981         7.810250  \n",
       "1                0                0         0.000000  \n",
       "2             1764            74088         6.480741  \n",
       "3            94249         28934443        17.521415  \n",
       "4             7056           592704         9.165151  \n",
       "\n",
       "[5 rows x 176 columns]"
      ]
     },
     "execution_count": 131,
     "metadata": {},
     "output_type": "execute_result"
    }
   ],
   "source": [
    "conbined_data.head()"
   ]
  },
  {
   "cell_type": "markdown",
   "metadata": {},
   "source": [
    "** Feature Scale / Skew **\n",
    "\n",
    "Ref: [Lasso model for regression problem](https://www.kaggle.com/klyusba/house-prices-advanced-regression-techniques/lasso-model-for-regression-problem/notebook)"
   ]
  },
  {
   "cell_type": "code",
   "execution_count": null,
   "metadata": {
    "collapsed": false
   },
   "outputs": [],
   "source": [
    "numeric_feats = conbined_data.select_dtypes(exclude=['object']).columns.values[1:]\n",
    "\n",
    "t = conbined_data[numeric_feats].quantile(.95)\n",
    "use_max_scater = t[t == 0].index\n",
    "use_95_scater = t[t != 0].index\n",
    "conbined_data[use_max_scater] = conbined_data[use_max_scater] / conbined_data[use_max_scater].max()\n",
    "conbined_data[use_95_scater] = conbined_data[use_95_scater] / conbined_data[use_95_scater].quantile(.95)"
   ]
  },
  {
   "cell_type": "code",
   "execution_count": null,
   "metadata": {
    "collapsed": false
   },
   "outputs": [],
   "source": [
    "# Transform the skewed numeric features by taking log(feature + 1).\n",
    "# This will make the features more normal.\n",
    "from scipy.stats import skew\n",
    "\n",
    "skewed = conbined_data[numeric_feats].apply(lambda x: skew(x.astype(float)))\n",
    "skewed = skewed[skewed > 0.75]\n",
    "skewed = skewed.index\n",
    "print 'skewed features', skewed.shape[0],' from total ',conbined_data.shape[1],' features'\n",
    "conbined_data[skewed] = np.log1p(conbined_data[skewed])"
   ]
  },
  {
   "cell_type": "markdown",
   "metadata": {},
   "source": [
    "** Dummy Encoding **"
   ]
  },
  {
   "cell_type": "code",
   "execution_count": null,
   "metadata": {
    "collapsed": false,
    "scrolled": false
   },
   "outputs": [],
   "source": [
    "conbined_data = pd.get_dummies(conbined_data)"
   ]
  },
  {
   "cell_type": "code",
   "execution_count": null,
   "metadata": {
    "collapsed": false
   },
   "outputs": [],
   "source": [
    "conbined_data.head(2)"
   ]
  },
  {
   "cell_type": "markdown",
   "metadata": {},
   "source": [
    "Delete some features to prevent overfitting."
   ]
  },
  {
   "cell_type": "markdown",
   "metadata": {},
   "source": [
    "![](http://itknowledgeexchange.techtarget.com/writing-for-business/files/2012/12/skewness-300x247.png)"
   ]
  },
  {
   "cell_type": "code",
   "execution_count": null,
   "metadata": {
    "collapsed": false
   },
   "outputs": [],
   "source": [
    "sns.kdeplot(skew(conbined_data))"
   ]
  },
  {
   "cell_type": "code",
   "execution_count": null,
   "metadata": {
    "collapsed": false
   },
   "outputs": [],
   "source": [
    "# for features who's abs(skew) > 40,delete them to prevent over-fitting\n",
    "delete_features = conbined_data.columns.values[np.abs(skew(conbined_data)) > 40]\n",
    "\n",
    "conbined_data.drop(delete_features, axis=1, inplace=True)\n",
    "print 'delete ', delete_features.shape[0], ' features:'\n",
    "print delete_features"
   ]
  },
  {
   "cell_type": "code",
   "execution_count": null,
   "metadata": {
    "collapsed": false
   },
   "outputs": [],
   "source": [
    "sns.kdeplot(skew(conbined_data))"
   ]
  },
  {
   "cell_type": "code",
   "execution_count": null,
   "metadata": {
    "collapsed": false
   },
   "outputs": [],
   "source": [
    "conbined_data.head()"
   ]
  },
  {
   "cell_type": "code",
   "execution_count": null,
   "metadata": {
    "collapsed": false
   },
   "outputs": [],
   "source": [
    "train_X = conbined_data.iloc[:train_length, 1:]\n",
    "train_Y = train_data['SalePrice']\n",
    "train_Id = conbined_data.iloc[:train_length, 0]\n",
    "\n",
    "test_X = conbined_data.iloc[train_length:, 1:]\n",
    "test_Id = conbined_data.iloc[train_length:, 0]\n",
    "\n",
    "print(\"train_X : \" + str(train_X.shape))\n",
    "print(\"test_X : \" + str(test_X.shape))\n",
    "print(\"train_Y : \" + str(train_Y.shape))"
   ]
  },
  {
   "cell_type": "code",
   "execution_count": null,
   "metadata": {
    "collapsed": false,
    "scrolled": false
   },
   "outputs": [],
   "source": [
    "# 价格分布\n",
    "fig, (axis1,axis2) = plt.subplots(1,2,figsize=(10,5))\n",
    "axis1.hist(train_Y)\n",
    "# Transform skewed numeric features using log(p+1) transformation making them more normal\n",
    "train_Y = np.log1p(train_Y)\n",
    "axis2.hist(train_Y)"
   ]
  },
  {
   "cell_type": "markdown",
   "metadata": {},
   "source": [
    "# Save New Data"
   ]
  },
  {
   "cell_type": "code",
   "execution_count": null,
   "metadata": {
    "collapsed": false
   },
   "outputs": [],
   "source": [
    "save_train = train_X.copy()\n",
    "save_test = test_X.copy()\n",
    "save_train['Id'] = train_Id\n",
    "save_train['SalePrice'] = train_Y\n",
    "save_test['Id'] = test_Id\n",
    "\n",
    "display(save_train.head())\n",
    "display(save_test.head())\n",
    "\n",
    "save_train.to_csv(\"data/new_train.csv\", index=False)\n",
    "save_test.to_csv(\"data/new_test.csv\", index=False)"
   ]
  },
  {
   "cell_type": "code",
   "execution_count": null,
   "metadata": {
    "collapsed": true
   },
   "outputs": [],
   "source": []
  }
 ],
 "metadata": {
  "anaconda-cloud": {},
  "kernelspec": {
   "display_name": "Python 2",
   "language": "python",
   "name": "python2"
  },
  "language_info": {
   "codemirror_mode": {
    "name": "ipython",
    "version": 2
   },
   "file_extension": ".py",
   "mimetype": "text/x-python",
   "name": "python",
   "nbconvert_exporter": "python",
   "pygments_lexer": "ipython2",
   "version": "2.7.6"
  }
 },
 "nbformat": 4,
 "nbformat_minor": 1
}
